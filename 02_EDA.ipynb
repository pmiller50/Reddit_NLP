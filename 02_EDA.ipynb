{
 "cells": [
  {
   "cell_type": "code",
   "execution_count": 242,
   "metadata": {},
   "outputs": [],
   "source": [
    "import pandas as pd\n",
    "import matplotlib.pyplot as plt\n",
    "\n",
    "from sklearn.feature_extraction.text import CountVectorizer\n",
    "from sklearn.feature_extraction import text"
   ]
  },
  {
   "cell_type": "code",
   "execution_count": null,
   "metadata": {},
   "outputs": [],
   "source": []
  },
  {
   "cell_type": "code",
   "execution_count": 243,
   "metadata": {},
   "outputs": [],
   "source": [
    "reddit_file_1 = 'AskCulinary.csv'\n",
    "reddit_file_2 = 'running.csv'"
   ]
  },
  {
   "cell_type": "code",
   "execution_count": 244,
   "metadata": {},
   "outputs": [],
   "source": [
    "posts_1 = pd.read_csv(f'./data/{reddit_file_1}')\n",
    "posts_2 = pd.read_csv(f'./data/{reddit_file_2}')"
   ]
  },
  {
   "cell_type": "markdown",
   "metadata": {},
   "source": [
    "Concat second reddit posts dataframe to the first so we have one large dataframe containing two subreddit categories."
   ]
  },
  {
   "cell_type": "code",
   "execution_count": 245,
   "metadata": {},
   "outputs": [],
   "source": [
    "reddit_posts = pd.concat([posts_1, posts_2])\n"
   ]
  },
  {
   "cell_type": "code",
   "execution_count": 246,
   "metadata": {},
   "outputs": [
    {
     "data": {
      "text/plain": [
       "(2200, 6)"
      ]
     },
     "execution_count": 246,
     "metadata": {},
     "output_type": "execute_result"
    }
   ],
   "source": [
    "reddit_posts.shape"
   ]
  },
  {
   "cell_type": "code",
   "execution_count": 247,
   "metadata": {},
   "outputs": [
    {
     "data": {
      "text/html": [
       "<div>\n",
       "<style scoped>\n",
       "    .dataframe tbody tr th:only-of-type {\n",
       "        vertical-align: middle;\n",
       "    }\n",
       "\n",
       "    .dataframe tbody tr th {\n",
       "        vertical-align: top;\n",
       "    }\n",
       "\n",
       "    .dataframe thead th {\n",
       "        text-align: right;\n",
       "    }\n",
       "</style>\n",
       "<table border=\"1\" class=\"dataframe\">\n",
       "  <thead>\n",
       "    <tr style=\"text-align: right;\">\n",
       "      <th></th>\n",
       "      <th>subreddit</th>\n",
       "      <th>selftext</th>\n",
       "      <th>title</th>\n",
       "      <th>author</th>\n",
       "      <th>created_utc</th>\n",
       "      <th>created_date</th>\n",
       "    </tr>\n",
       "  </thead>\n",
       "  <tbody>\n",
       "    <tr>\n",
       "      <th>1095</th>\n",
       "      <td>running</td>\n",
       "      <td>[removed]</td>\n",
       "      <td>Running teammate rivalry</td>\n",
       "      <td>Fastboy56138</td>\n",
       "      <td>1608251056</td>\n",
       "      <td>2020-12-18 00:24:16</td>\n",
       "    </tr>\n",
       "    <tr>\n",
       "      <th>1096</th>\n",
       "      <td>running</td>\n",
       "      <td>[removed]</td>\n",
       "      <td>Real question: How do you run longer distances...</td>\n",
       "      <td>KeepPunkRockElite</td>\n",
       "      <td>1608250647</td>\n",
       "      <td>2020-12-18 00:17:27</td>\n",
       "    </tr>\n",
       "    <tr>\n",
       "      <th>1097</th>\n",
       "      <td>running</td>\n",
       "      <td>[removed]</td>\n",
       "      <td>Anyone Else Get Wildly Different Results Using...</td>\n",
       "      <td>Accomplished-Classic</td>\n",
       "      <td>1608250104</td>\n",
       "      <td>2020-12-18 00:08:24</td>\n",
       "    </tr>\n",
       "    <tr>\n",
       "      <th>1098</th>\n",
       "      <td>running</td>\n",
       "      <td>[removed]</td>\n",
       "      <td>Got back at running after 5 months 💪if u had a...</td>\n",
       "      <td>paul081</td>\n",
       "      <td>1608249362</td>\n",
       "      <td>2020-12-17 23:56:02</td>\n",
       "    </tr>\n",
       "    <tr>\n",
       "      <th>1099</th>\n",
       "      <td>running</td>\n",
       "      <td>[removed]</td>\n",
       "      <td>Another little magical running moment: share y...</td>\n",
       "      <td>SnooConfections3930</td>\n",
       "      <td>1608249077</td>\n",
       "      <td>2020-12-17 23:51:17</td>\n",
       "    </tr>\n",
       "  </tbody>\n",
       "</table>\n",
       "</div>"
      ],
      "text/plain": [
       "     subreddit   selftext                                              title  \\\n",
       "1095   running  [removed]                           Running teammate rivalry   \n",
       "1096   running  [removed]  Real question: How do you run longer distances...   \n",
       "1097   running  [removed]  Anyone Else Get Wildly Different Results Using...   \n",
       "1098   running  [removed]  Got back at running after 5 months 💪if u had a...   \n",
       "1099   running  [removed]  Another little magical running moment: share y...   \n",
       "\n",
       "                    author  created_utc         created_date  \n",
       "1095          Fastboy56138   1608251056  2020-12-18 00:24:16  \n",
       "1096     KeepPunkRockElite   1608250647  2020-12-18 00:17:27  \n",
       "1097  Accomplished-Classic   1608250104  2020-12-18 00:08:24  \n",
       "1098               paul081   1608249362  2020-12-17 23:56:02  \n",
       "1099   SnooConfections3930   1608249077  2020-12-17 23:51:17  "
      ]
     },
     "execution_count": 247,
     "metadata": {},
     "output_type": "execute_result"
    }
   ],
   "source": [
    "reddit_posts.tail()"
   ]
  },
  {
   "cell_type": "code",
   "execution_count": 248,
   "metadata": {},
   "outputs": [
    {
     "data": {
      "text/plain": [
       "subreddit        0\n",
       "selftext        19\n",
       "title            0\n",
       "author           0\n",
       "created_utc      0\n",
       "created_date     0\n",
       "dtype: int64"
      ]
     },
     "execution_count": 248,
     "metadata": {},
     "output_type": "execute_result"
    }
   ],
   "source": [
    "reddit_posts.isnull().sum()"
   ]
  },
  {
   "cell_type": "code",
   "execution_count": 249,
   "metadata": {},
   "outputs": [],
   "source": [
    "reddit_posts.dropna(inplace=True)\n",
    "reddit_posts.reset_index(drop=True, inplace=True)"
   ]
  },
  {
   "cell_type": "code",
   "execution_count": null,
   "metadata": {},
   "outputs": [],
   "source": []
  },
  {
   "cell_type": "markdown",
   "metadata": {},
   "source": [
    "Delete all posts that have been removed. (The selftext field contains \\[removed\\])"
   ]
  },
  {
   "cell_type": "code",
   "execution_count": 250,
   "metadata": {},
   "outputs": [],
   "source": [
    "#reddit_posts.sort_values(by='selftext')\n",
    "indices_to_remove = reddit_posts[reddit_posts['selftext'].str.contains('\\[removed\\]')].index\n",
    "\n",
    "reddit_posts.drop(indices_to_remove, inplace=True)\n",
    "reddit_posts.reset_index(drop=True, inplace=True)"
   ]
  },
  {
   "cell_type": "markdown",
   "metadata": {},
   "source": [
    "Delete all posts that have been deleted. (The selftext field contains \\[deleted\\])"
   ]
  },
  {
   "cell_type": "code",
   "execution_count": 251,
   "metadata": {},
   "outputs": [],
   "source": [
    "#reddit_posts.sort_values(by='selftext')\n",
    "deleted_to_remove = reddit_posts[reddit_posts['selftext'].str.contains('\\[deleted\\]')].index\n",
    "\n",
    "reddit_posts.drop(deleted_to_remove, inplace=True)\n",
    "reddit_posts.reset_index(drop=True, inplace=True)"
   ]
  },
  {
   "cell_type": "code",
   "execution_count": 252,
   "metadata": {},
   "outputs": [
    {
     "data": {
      "text/html": [
       "<div>\n",
       "<style scoped>\n",
       "    .dataframe tbody tr th:only-of-type {\n",
       "        vertical-align: middle;\n",
       "    }\n",
       "\n",
       "    .dataframe tbody tr th {\n",
       "        vertical-align: top;\n",
       "    }\n",
       "\n",
       "    .dataframe thead th {\n",
       "        text-align: right;\n",
       "    }\n",
       "</style>\n",
       "<table border=\"1\" class=\"dataframe\">\n",
       "  <thead>\n",
       "    <tr style=\"text-align: right;\">\n",
       "      <th></th>\n",
       "      <th>subreddit</th>\n",
       "      <th>selftext</th>\n",
       "      <th>title</th>\n",
       "      <th>author</th>\n",
       "      <th>created_utc</th>\n",
       "      <th>created_date</th>\n",
       "    </tr>\n",
       "  </thead>\n",
       "  <tbody>\n",
       "    <tr>\n",
       "      <th>52</th>\n",
       "      <td>AskCulinary</td>\n",
       "      <td>Please help lol</td>\n",
       "      <td>I just used wax paper instead of parchment pap...</td>\n",
       "      <td>NativeKyd1994</td>\n",
       "      <td>1609218277</td>\n",
       "      <td>2020-12-29 05:04:37</td>\n",
       "    </tr>\n",
       "    <tr>\n",
       "      <th>67</th>\n",
       "      <td>AskCulinary</td>\n",
       "      <td>Am I doomed?</td>\n",
       "      <td>Forgot to grease glass pan for brownies. Bakin...</td>\n",
       "      <td>CoughCoolCoolCool</td>\n",
       "      <td>1609210981</td>\n",
       "      <td>2020-12-29 03:03:01</td>\n",
       "    </tr>\n",
       "    <tr>\n",
       "      <th>449</th>\n",
       "      <td>AskCulinary</td>\n",
       "      <td>im excited :-)</td>\n",
       "      <td>bought myself a stainless steel fry pan for th...</td>\n",
       "      <td>itsbad2004</td>\n",
       "      <td>1608790923</td>\n",
       "      <td>2020-12-24 06:22:03</td>\n",
       "    </tr>\n",
       "    <tr>\n",
       "      <th>548</th>\n",
       "      <td>AskCulinary</td>\n",
       "      <td>Thank you!</td>\n",
       "      <td>Anyone please help me identify the small gold ...</td>\n",
       "      <td>tyravaldez</td>\n",
       "      <td>1608731699</td>\n",
       "      <td>2020-12-23 13:54:59</td>\n",
       "    </tr>\n",
       "    <tr>\n",
       "      <th>701</th>\n",
       "      <td>AskCulinary</td>\n",
       "      <td>plz help me</td>\n",
       "      <td>Paprika-First or last</td>\n",
       "      <td>itzzbraydon123</td>\n",
       "      <td>1608592199</td>\n",
       "      <td>2020-12-21 23:09:59</td>\n",
       "    </tr>\n",
       "    <tr>\n",
       "      <th>788</th>\n",
       "      <td>AskCulinary</td>\n",
       "      <td>help</td>\n",
       "      <td>what’s the purpose behind scoring salmon befor...</td>\n",
       "      <td>yabkushshs</td>\n",
       "      <td>1608506590</td>\n",
       "      <td>2020-12-20 23:23:10</td>\n",
       "    </tr>\n",
       "    <tr>\n",
       "      <th>861</th>\n",
       "      <td>AskCulinary</td>\n",
       "      <td>Please</td>\n",
       "      <td>What are some good ideas on using plane unflav...</td>\n",
       "      <td>nameyouafkexe</td>\n",
       "      <td>1608418728</td>\n",
       "      <td>2020-12-19 22:58:48</td>\n",
       "    </tr>\n",
       "    <tr>\n",
       "      <th>958</th>\n",
       "      <td>AskCulinary</td>\n",
       "      <td>Why?</td>\n",
       "      <td>Why is banana not called penis fruit?</td>\n",
       "      <td>Rustnr0t</td>\n",
       "      <td>1608285597</td>\n",
       "      <td>2020-12-18 09:59:57</td>\n",
       "    </tr>\n",
       "    <tr>\n",
       "      <th>964</th>\n",
       "      <td>AskCulinary</td>\n",
       "      <td>Just curious</td>\n",
       "      <td>Why does bechamel continue to thicken as it co...</td>\n",
       "      <td>JosephGreg</td>\n",
       "      <td>1608273135</td>\n",
       "      <td>2020-12-18 06:32:15</td>\n",
       "    </tr>\n",
       "    <tr>\n",
       "      <th>1115</th>\n",
       "      <td>running</td>\n",
       "      <td>It feels like cum</td>\n",
       "      <td>Why's the saliva formed ,while running, so thick</td>\n",
       "      <td>Ignoca</td>\n",
       "      <td>1609218147</td>\n",
       "      <td>2020-12-29 05:02:27</td>\n",
       "    </tr>\n",
       "    <tr>\n",
       "      <th>1209</th>\n",
       "      <td>running</td>\n",
       "      <td>Basically the title</td>\n",
       "      <td>When I'm running , sometimes I feel like I nee...</td>\n",
       "      <td>in5taki77</td>\n",
       "      <td>1609153878</td>\n",
       "      <td>2020-12-28 11:11:18</td>\n",
       "    </tr>\n",
       "    <tr>\n",
       "      <th>1216</th>\n",
       "      <td>running</td>\n",
       "      <td>I’m just wondering</td>\n",
       "      <td>What’s considered a decent mile time?</td>\n",
       "      <td>crunchypancakes69</td>\n",
       "      <td>1609144206</td>\n",
       "      <td>2020-12-28 08:30:06</td>\n",
       "    </tr>\n",
       "    <tr>\n",
       "      <th>1279</th>\n",
       "      <td>running</td>\n",
       "      <td>Title says enough</td>\n",
       "      <td>Do you stress out one leg more on a track?</td>\n",
       "      <td>ZanicL3</td>\n",
       "      <td>1609094509</td>\n",
       "      <td>2020-12-27 18:41:49</td>\n",
       "    </tr>\n",
       "    <tr>\n",
       "      <th>1318</th>\n",
       "      <td>running</td>\n",
       "      <td>Pandemic things.</td>\n",
       "      <td>This year I averaged 12km every day of the year</td>\n",
       "      <td>vgasmo</td>\n",
       "      <td>1609073416</td>\n",
       "      <td>2020-12-27 12:50:16</td>\n",
       "    </tr>\n",
       "    <tr>\n",
       "      <th>1326</th>\n",
       "      <td>running</td>\n",
       "      <td>Thank you</td>\n",
       "      <td>Sorry if this is a frequently asked question, ...</td>\n",
       "      <td>_AngryFIFAPlayer_</td>\n",
       "      <td>1609062474</td>\n",
       "      <td>2020-12-27 09:47:54</td>\n",
       "    </tr>\n",
       "    <tr>\n",
       "      <th>1863</th>\n",
       "      <td>running</td>\n",
       "      <td>.</td>\n",
       "      <td>Is 14 years old too late to start training for...</td>\n",
       "      <td>0-Mark-0</td>\n",
       "      <td>1608454749</td>\n",
       "      <td>2020-12-20 08:59:09</td>\n",
       "    </tr>\n",
       "  </tbody>\n",
       "</table>\n",
       "</div>"
      ],
      "text/plain": [
       "        subreddit             selftext  \\\n",
       "52    AskCulinary      Please help lol   \n",
       "67    AskCulinary         Am I doomed?   \n",
       "449   AskCulinary       im excited :-)   \n",
       "548   AskCulinary           Thank you!   \n",
       "701   AskCulinary          plz help me   \n",
       "788   AskCulinary                 help   \n",
       "861   AskCulinary               Please   \n",
       "958   AskCulinary                 Why?   \n",
       "964   AskCulinary         Just curious   \n",
       "1115      running    It feels like cum   \n",
       "1209      running  Basically the title   \n",
       "1216      running   I’m just wondering   \n",
       "1279      running    Title says enough   \n",
       "1318      running     Pandemic things.   \n",
       "1326      running            Thank you   \n",
       "1863      running                    .   \n",
       "\n",
       "                                                  title             author  \\\n",
       "52    I just used wax paper instead of parchment pap...      NativeKyd1994   \n",
       "67    Forgot to grease glass pan for brownies. Bakin...  CoughCoolCoolCool   \n",
       "449   bought myself a stainless steel fry pan for th...         itsbad2004   \n",
       "548   Anyone please help me identify the small gold ...         tyravaldez   \n",
       "701                               Paprika-First or last     itzzbraydon123   \n",
       "788   what’s the purpose behind scoring salmon befor...         yabkushshs   \n",
       "861   What are some good ideas on using plane unflav...      nameyouafkexe   \n",
       "958               Why is banana not called penis fruit?           Rustnr0t   \n",
       "964   Why does bechamel continue to thicken as it co...         JosephGreg   \n",
       "1115   Why's the saliva formed ,while running, so thick             Ignoca   \n",
       "1209  When I'm running , sometimes I feel like I nee...          in5taki77   \n",
       "1216              What’s considered a decent mile time?  crunchypancakes69   \n",
       "1279         Do you stress out one leg more on a track?            ZanicL3   \n",
       "1318    This year I averaged 12km every day of the year             vgasmo   \n",
       "1326  Sorry if this is a frequently asked question, ...  _AngryFIFAPlayer_   \n",
       "1863  Is 14 years old too late to start training for...           0-Mark-0   \n",
       "\n",
       "      created_utc         created_date  \n",
       "52     1609218277  2020-12-29 05:04:37  \n",
       "67     1609210981  2020-12-29 03:03:01  \n",
       "449    1608790923  2020-12-24 06:22:03  \n",
       "548    1608731699  2020-12-23 13:54:59  \n",
       "701    1608592199  2020-12-21 23:09:59  \n",
       "788    1608506590  2020-12-20 23:23:10  \n",
       "861    1608418728  2020-12-19 22:58:48  \n",
       "958    1608285597  2020-12-18 09:59:57  \n",
       "964    1608273135  2020-12-18 06:32:15  \n",
       "1115   1609218147  2020-12-29 05:02:27  \n",
       "1209   1609153878  2020-12-28 11:11:18  \n",
       "1216   1609144206  2020-12-28 08:30:06  \n",
       "1279   1609094509  2020-12-27 18:41:49  \n",
       "1318   1609073416  2020-12-27 12:50:16  \n",
       "1326   1609062474  2020-12-27 09:47:54  \n",
       "1863   1608454749  2020-12-20 08:59:09  "
      ]
     },
     "execution_count": 252,
     "metadata": {},
     "output_type": "execute_result"
    }
   ],
   "source": [
    "reddit_posts[reddit_posts['selftext'].str.len() < 20]"
   ]
  },
  {
   "cell_type": "code",
   "execution_count": null,
   "metadata": {},
   "outputs": [],
   "source": []
  },
  {
   "cell_type": "markdown",
   "metadata": {},
   "source": [
    "Data cleaning:\n",
    " * Remove newline characters\n",
    " * Remove url's that might appear"
   ]
  },
  {
   "cell_type": "code",
   "execution_count": 253,
   "metadata": {},
   "outputs": [],
   "source": [
    "reddit_posts['selftext'].replace('\\n', ' ', regex=True, inplace=True)\n",
    "\n",
    "# Regex example here:\n",
    "#https://github.com/hundredblocks/concrete_NLP_tutorial/blob/master/NLP_notebook.ipynb\n",
    "# \\S captures all non-white space, + means greedy so goes until the end of a word.\n",
    "reddit_posts['selftext'].replace('http\\S+', ' ', regex=True, inplace=True)\n",
    "\n",
    "# delete stray &amp; words\n",
    "reddit_posts['selftext'].replace('&amp;', ' ', regex=True, inplace=True)\n",
    "\n",
    "# delete #x200B; which is zero width space\n",
    "reddit_posts['selftext'].replace('#x200B;', ' ', regex=True, inplace=True)\n",
    "\n",
    "# delete measurements in a recipe. eg. 5.3oz, 1 1/4 cups\n",
    "# This deletes all numbers, which may or may not include a period or a /, then have a letter or series of letters on the end\n",
    "# as in 57g\n",
    "reddit_posts['selftext'].replace('(\\d+)[.|\\/]?(\\d+)?(\\w+)?', ' ', regex=True, inplace=True)\n",
    "\n",
    "# delete underscores, backslashes and forward slashes\n",
    "reddit_posts['selftext'].replace('_|\\\\|\\/', ' ', regex=True, inplace=True)\n",
    "\n",
    "# to avoid getting a ton of 've' words after vectorizing, replace I've with I have\n",
    "reddit_posts['selftext'].replace('[i|I][\\’|\\']ve', 'I have', regex=True, inplace=True)\n",
    "\n",
    "# replace don't with do not\n",
    "reddit_posts['selftext'].replace('[d|D]on[\\’|\\']t', 'do not', regex=True, inplace=True)\n",
    "\n",
    "# replace aren't with are not\n",
    "reddit_posts['selftext'].replace('[a|A]ren[\\’|\\']t', 'are not', regex=True, inplace=True)\n",
    "\n",
    "# replace doesn't with does not\n",
    "reddit_posts['selftext'].replace('[d|D]oesn[\\’|\\']t', 'does not', regex=True, inplace=True)\n"
   ]
  },
  {
   "cell_type": "code",
   "execution_count": 254,
   "metadata": {},
   "outputs": [],
   "source": [
    "#Delete posts with less than 20 characters in their self text - they are normally garbage data or not worth keeping\n",
    "short_text_posts = reddit_posts[(reddit_posts['selftext'].str.len() < 20)].index\n",
    "\n",
    "reddit_posts.drop(short_text_posts, inplace=True)\n",
    "reddit_posts.reset_index(drop=True, inplace=True)"
   ]
  },
  {
   "cell_type": "code",
   "execution_count": 255,
   "metadata": {},
   "outputs": [
    {
     "data": {
      "text/plain": [
       "\"Hi all! I started running this year and have happily been able to slowly jog   a few times a week for the last couple of weeks!  However, I have started finding that on the day after a run, I'll get incredibly painful shooting pains in my right hip and upper thigh. Its not constant, but when it hits it really hurts.  Does anyone have any guidance on what might be causing this? Gait? I'm overweight so I imagine that does not help.  I just want to get running again, and do not want to lose the progress I have made, but I obviously need to rest at the moment.\""
      ]
     },
     "execution_count": 255,
     "metadata": {},
     "output_type": "execute_result"
    }
   ],
   "source": [
    "reddit_posts.iloc[1504]['selftext']"
   ]
  },
  {
   "cell_type": "markdown",
   "metadata": {},
   "source": [
    "Check for duplicates.  Not sure why but sometimes people submit the same post more than once. Perhaps they don't think it went through the first time?"
   ]
  },
  {
   "cell_type": "code",
   "execution_count": 256,
   "metadata": {},
   "outputs": [
    {
     "data": {
      "text/plain": [
       "(1939, 6)"
      ]
     },
     "execution_count": 256,
     "metadata": {},
     "output_type": "execute_result"
    }
   ],
   "source": [
    "reddit_posts.shape"
   ]
  },
  {
   "cell_type": "code",
   "execution_count": 257,
   "metadata": {},
   "outputs": [
    {
     "data": {
      "text/plain": [
       "1902"
      ]
     },
     "execution_count": 257,
     "metadata": {},
     "output_type": "execute_result"
    }
   ],
   "source": [
    "reddit_posts['selftext'].nunique()"
   ]
  },
  {
   "cell_type": "markdown",
   "metadata": {},
   "source": [
    "So there are 1902 unique selftext values, but 1939 rows, so there are duplicates."
   ]
  },
  {
   "cell_type": "code",
   "execution_count": 258,
   "metadata": {},
   "outputs": [
    {
     "data": {
      "text/plain": [
       "(1902, 6)"
      ]
     },
     "execution_count": 258,
     "metadata": {},
     "output_type": "execute_result"
    }
   ],
   "source": [
    "reddit_posts.drop_duplicates(subset=['selftext'], inplace=True, ignore_index=True)\n",
    "reddit_posts.shape"
   ]
  },
  {
   "cell_type": "code",
   "execution_count": null,
   "metadata": {},
   "outputs": [],
   "source": []
  },
  {
   "cell_type": "code",
   "execution_count": null,
   "metadata": {},
   "outputs": [],
   "source": []
  },
  {
   "cell_type": "markdown",
   "metadata": {},
   "source": [
    "Create class column:\n",
    " * Subreddit 1 - AskCulinary\n",
    " * Subreddit 0 - running"
   ]
  },
  {
   "cell_type": "code",
   "execution_count": 259,
   "metadata": {},
   "outputs": [],
   "source": [
    "reddit_posts['class'] = [1 if cat=='AskCulinary' else 0 for cat in reddit_posts['subreddit']]"
   ]
  },
  {
   "cell_type": "code",
   "execution_count": 260,
   "metadata": {},
   "outputs": [
    {
     "data": {
      "text/html": [
       "<div>\n",
       "<style scoped>\n",
       "    .dataframe tbody tr th:only-of-type {\n",
       "        vertical-align: middle;\n",
       "    }\n",
       "\n",
       "    .dataframe tbody tr th {\n",
       "        vertical-align: top;\n",
       "    }\n",
       "\n",
       "    .dataframe thead th {\n",
       "        text-align: right;\n",
       "    }\n",
       "</style>\n",
       "<table border=\"1\" class=\"dataframe\">\n",
       "  <thead>\n",
       "    <tr style=\"text-align: right;\">\n",
       "      <th></th>\n",
       "      <th>subreddit</th>\n",
       "      <th>selftext</th>\n",
       "      <th>title</th>\n",
       "      <th>author</th>\n",
       "      <th>created_utc</th>\n",
       "      <th>created_date</th>\n",
       "      <th>class</th>\n",
       "    </tr>\n",
       "  </thead>\n",
       "  <tbody>\n",
       "    <tr>\n",
       "      <th>1897</th>\n",
       "      <td>running</td>\n",
       "      <td>I’m  ’  and   lbs. I’m not obese by any means,...</td>\n",
       "      <td>Help getting in shape for Army enlistment?</td>\n",
       "      <td>ProConstitution</td>\n",
       "      <td>1608278170</td>\n",
       "      <td>2020-12-18 07:56:10</td>\n",
       "      <td>0</td>\n",
       "    </tr>\n",
       "    <tr>\n",
       "      <th>1898</th>\n",
       "      <td>running</td>\n",
       "      <td>When I was a child I would have nightmares abo...</td>\n",
       "      <td>Nightmare</td>\n",
       "      <td>MRHBK</td>\n",
       "      <td>1608274467</td>\n",
       "      <td>2020-12-18 06:54:27</td>\n",
       "      <td>0</td>\n",
       "    </tr>\n",
       "    <tr>\n",
       "      <th>1899</th>\n",
       "      <td>running</td>\n",
       "      <td>I wanted to share appreciation for resilience ...</td>\n",
       "      <td>New Strava feature? 2020 Year In Sport report</td>\n",
       "      <td>goodneed</td>\n",
       "      <td>1608274073</td>\n",
       "      <td>2020-12-18 06:47:53</td>\n",
       "      <td>0</td>\n",
       "    </tr>\n",
       "    <tr>\n",
       "      <th>1900</th>\n",
       "      <td>running</td>\n",
       "      <td>As a   year old female whose average   time ha...</td>\n",
       "      <td>Is it possible to shave 3min off 5k time in le...</td>\n",
       "      <td>chickthatclicks</td>\n",
       "      <td>1608259645</td>\n",
       "      <td>2020-12-18 02:47:25</td>\n",
       "      <td>0</td>\n",
       "    </tr>\n",
       "    <tr>\n",
       "      <th>1901</th>\n",
       "      <td>running</td>\n",
       "      <td>Hi guys, I currently run   days a week for a t...</td>\n",
       "      <td>Best speed workout to improve 1.5 mile time?</td>\n",
       "      <td>ILikeToHikeAndStuff</td>\n",
       "      <td>1608251620</td>\n",
       "      <td>2020-12-18 00:33:40</td>\n",
       "      <td>0</td>\n",
       "    </tr>\n",
       "  </tbody>\n",
       "</table>\n",
       "</div>"
      ],
      "text/plain": [
       "     subreddit                                           selftext  \\\n",
       "1897   running  I’m  ’  and   lbs. I’m not obese by any means,...   \n",
       "1898   running  When I was a child I would have nightmares abo...   \n",
       "1899   running  I wanted to share appreciation for resilience ...   \n",
       "1900   running  As a   year old female whose average   time ha...   \n",
       "1901   running  Hi guys, I currently run   days a week for a t...   \n",
       "\n",
       "                                                  title               author  \\\n",
       "1897         Help getting in shape for Army enlistment?      ProConstitution   \n",
       "1898                                          Nightmare                MRHBK   \n",
       "1899      New Strava feature? 2020 Year In Sport report             goodneed   \n",
       "1900  Is it possible to shave 3min off 5k time in le...      chickthatclicks   \n",
       "1901       Best speed workout to improve 1.5 mile time?  ILikeToHikeAndStuff   \n",
       "\n",
       "      created_utc         created_date  class  \n",
       "1897   1608278170  2020-12-18 07:56:10      0  \n",
       "1898   1608274467  2020-12-18 06:54:27      0  \n",
       "1899   1608274073  2020-12-18 06:47:53      0  \n",
       "1900   1608259645  2020-12-18 02:47:25      0  \n",
       "1901   1608251620  2020-12-18 00:33:40      0  "
      ]
     },
     "execution_count": 260,
     "metadata": {},
     "output_type": "execute_result"
    }
   ],
   "source": [
    "reddit_posts.tail()"
   ]
  },
  {
   "cell_type": "code",
   "execution_count": 261,
   "metadata": {},
   "outputs": [],
   "source": [
    "# add stop words that might be measurements for recipes, and distance for running (km)\n",
    "# hat tip to for adding custom stop words : https://stackoverflow.com/a/24386751/732396\n",
    "\n",
    "# the most common words in the running subreddit were, not surprisingly, run and running, so let's take\n",
    "# those out\n",
    "more_stop_words = ['oz', 'cups', 'km', 'run', 'running']\n",
    "stop_words = text.ENGLISH_STOP_WORDS.union(more_stop_words)"
   ]
  },
  {
   "cell_type": "markdown",
   "metadata": {},
   "source": [
    "Inspect the data using Count Vectorizer.  This will also be done in the modeling step"
   ]
  },
  {
   "cell_type": "code",
   "execution_count": 262,
   "metadata": {},
   "outputs": [
    {
     "data": {
      "text/plain": [
       "CountVectorizer(stop_words=frozenset({'a', 'about', 'above', 'across', 'after',\n",
       "                                      'afterwards', 'again', 'against', 'all',\n",
       "                                      'almost', 'alone', 'along', 'already',\n",
       "                                      'also', 'although', 'always', 'am',\n",
       "                                      'among', 'amongst', 'amoungst', 'amount',\n",
       "                                      'an', 'and', 'another', 'any', 'anyhow',\n",
       "                                      'anyone', 'anything', 'anyway',\n",
       "                                      'anywhere', ...}))"
      ]
     },
     "execution_count": 262,
     "metadata": {},
     "output_type": "execute_result"
    }
   ],
   "source": [
    "count_vec = CountVectorizer(stop_words = stop_words)\n",
    "count_vec.fit(reddit_posts['selftext'])"
   ]
  },
  {
   "cell_type": "code",
   "execution_count": 263,
   "metadata": {},
   "outputs": [],
   "source": [
    "transformed_df = count_vec.transform(reddit_posts['selftext'])"
   ]
  },
  {
   "cell_type": "code",
   "execution_count": 264,
   "metadata": {},
   "outputs": [
    {
     "data": {
      "text/plain": [
       "(1902, 9841)"
      ]
     },
     "execution_count": 264,
     "metadata": {},
     "output_type": "execute_result"
    }
   ],
   "source": [
    "transformed_df.shape"
   ]
  },
  {
   "cell_type": "code",
   "execution_count": 265,
   "metadata": {},
   "outputs": [],
   "source": [
    "#count_vec.get_feature_names()[0:100]"
   ]
  },
  {
   "cell_type": "code",
   "execution_count": 266,
   "metadata": {},
   "outputs": [
    {
     "data": {
      "image/png": "[encoded data removed]",
      "text/plain": [
       "<Figure size 432x288 with 1 Axes>"
      ]
     },
     "metadata": {
      "needs_background": "light"
     },
     "output_type": "display_data"
    }
   ],
   "source": [
    "# Code borrowed from lesson 5.04\n",
    "# convert training data to dataframe\n",
    "words_df = pd.DataFrame(transformed_df.todense(), \n",
    "                          columns=count_vec.get_feature_names())\n",
    "\n",
    "# plot top occuring words\n",
    "words_df.sum().sort_values(ascending=False).head(10).plot(kind='barh');"
   ]
  },
  {
   "cell_type": "markdown",
   "metadata": {},
   "source": [
    "Based on above, we should add 'like' and 'just' to the list of stop words, since they don't add much value."
   ]
  },
  {
   "cell_type": "markdown",
   "metadata": {},
   "source": [
    "Export clean data"
   ]
  },
  {
   "cell_type": "code",
   "execution_count": 267,
   "metadata": {},
   "outputs": [],
   "source": [
    "reddit_posts.to_csv('data/clean_posts.csv', index=False)"
   ]
  },
  {
   "cell_type": "code",
   "execution_count": null,
   "metadata": {},
   "outputs": [],
   "source": []
  }
 ],
 "metadata": {
  "kernelspec": {
   "display_name": "Python 3",
   "language": "python",
   "name": "python3"
  },
  "language_info": {
   "codemirror_mode": {
    "name": "ipython",
    "version": 3
   },
   "file_extension": ".py",
   "mimetype": "text/x-python",
   "name": "python",
   "nbconvert_exporter": "python",
   "pygments_lexer": "ipython3",
   "version": "3.8.3"
  }
 },
 "nbformat": 4,
 "nbformat_minor": 4
}
