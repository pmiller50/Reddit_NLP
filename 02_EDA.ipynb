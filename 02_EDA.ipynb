{
 "cells": [
  {
   "cell_type": "code",
   "execution_count": 1,
   "metadata": {},
   "outputs": [],
   "source": [
    "import pandas as pd"
   ]
  },
  {
   "cell_type": "code",
   "execution_count": null,
   "metadata": {},
   "outputs": [],
   "source": []
  },
  {
   "cell_type": "code",
   "execution_count": 2,
   "metadata": {},
   "outputs": [],
   "source": [
    "#reddit_file = 'running.csv'\n",
    "reddit_file = 'AskCulinary.csv'\n"
   ]
  },
  {
   "cell_type": "code",
   "execution_count": 4,
   "metadata": {},
   "outputs": [],
   "source": [
    "reddit_posts = pd.read_csv(f'./data/{reddit_file}')"
   ]
  },
  {
   "cell_type": "code",
   "execution_count": 5,
   "metadata": {},
   "outputs": [
    {
     "data": {
      "text/html": [
       "<div>\n",
       "<style scoped>\n",
       "    .dataframe tbody tr th:only-of-type {\n",
       "        vertical-align: middle;\n",
       "    }\n",
       "\n",
       "    .dataframe tbody tr th {\n",
       "        vertical-align: top;\n",
       "    }\n",
       "\n",
       "    .dataframe thead th {\n",
       "        text-align: right;\n",
       "    }\n",
       "</style>\n",
       "<table border=\"1\" class=\"dataframe\">\n",
       "  <thead>\n",
       "    <tr style=\"text-align: right;\">\n",
       "      <th></th>\n",
       "      <th>subreddit</th>\n",
       "      <th>selftext</th>\n",
       "      <th>title</th>\n",
       "      <th>author</th>\n",
       "      <th>created_utc</th>\n",
       "      <th>created_date</th>\n",
       "    </tr>\n",
       "  </thead>\n",
       "  <tbody>\n",
       "    <tr>\n",
       "      <th>1095</th>\n",
       "      <td>AskCulinary</td>\n",
       "      <td>I'm really having a hard time being creative a...</td>\n",
       "      <td>What Would You Make For Christmas Eve Dinner F...</td>\n",
       "      <td>mattyjayy</td>\n",
       "      <td>1608153106</td>\n",
       "      <td>2020-12-16 21:11:46</td>\n",
       "    </tr>\n",
       "    <tr>\n",
       "      <th>1096</th>\n",
       "      <td>AskCulinary</td>\n",
       "      <td>Ho ho ho, fellow redditers,\\n\\nMy girlfriend a...</td>\n",
       "      <td>Need help with preparing a Christmas dinner th...</td>\n",
       "      <td>AceOblivion</td>\n",
       "      <td>1608153000</td>\n",
       "      <td>2020-12-16 21:10:00</td>\n",
       "    </tr>\n",
       "    <tr>\n",
       "      <th>1097</th>\n",
       "      <td>AskCulinary</td>\n",
       "      <td>I'm usually not too picky and I'm happy with m...</td>\n",
       "      <td>When should I pull my steaks off for rare/med ...</td>\n",
       "      <td>blakjack9</td>\n",
       "      <td>1608152777</td>\n",
       "      <td>2020-12-16 21:06:17</td>\n",
       "    </tr>\n",
       "    <tr>\n",
       "      <th>1098</th>\n",
       "      <td>AskCulinary</td>\n",
       "      <td>I was considering roasting a chicken for Chris...</td>\n",
       "      <td>Chicken roasting temp versus turkey roasting temp</td>\n",
       "      <td>I_Like_Knitting_TBH</td>\n",
       "      <td>1608151957</td>\n",
       "      <td>2020-12-16 20:52:37</td>\n",
       "    </tr>\n",
       "    <tr>\n",
       "      <th>1099</th>\n",
       "      <td>AskCulinary</td>\n",
       "      <td>It seems like traditionally, cream isn’t used....</td>\n",
       "      <td>Why don’t traditional pastas use cream?</td>\n",
       "      <td>ScruffyMayfield</td>\n",
       "      <td>1608149939</td>\n",
       "      <td>2020-12-16 20:18:59</td>\n",
       "    </tr>\n",
       "  </tbody>\n",
       "</table>\n",
       "</div>"
      ],
      "text/plain": [
       "        subreddit                                           selftext  \\\n",
       "1095  AskCulinary  I'm really having a hard time being creative a...   \n",
       "1096  AskCulinary  Ho ho ho, fellow redditers,\\n\\nMy girlfriend a...   \n",
       "1097  AskCulinary  I'm usually not too picky and I'm happy with m...   \n",
       "1098  AskCulinary  I was considering roasting a chicken for Chris...   \n",
       "1099  AskCulinary  It seems like traditionally, cream isn’t used....   \n",
       "\n",
       "                                                  title               author  \\\n",
       "1095  What Would You Make For Christmas Eve Dinner F...            mattyjayy   \n",
       "1096  Need help with preparing a Christmas dinner th...          AceOblivion   \n",
       "1097  When should I pull my steaks off for rare/med ...            blakjack9   \n",
       "1098  Chicken roasting temp versus turkey roasting temp  I_Like_Knitting_TBH   \n",
       "1099            Why don’t traditional pastas use cream?      ScruffyMayfield   \n",
       "\n",
       "      created_utc         created_date  \n",
       "1095   1608153106  2020-12-16 21:11:46  \n",
       "1096   1608153000  2020-12-16 21:10:00  \n",
       "1097   1608152777  2020-12-16 21:06:17  \n",
       "1098   1608151957  2020-12-16 20:52:37  \n",
       "1099   1608149939  2020-12-16 20:18:59  "
      ]
     },
     "execution_count": 5,
     "metadata": {},
     "output_type": "execute_result"
    }
   ],
   "source": [
    "reddit_posts.tail()"
   ]
  },
  {
   "cell_type": "code",
   "execution_count": 6,
   "metadata": {},
   "outputs": [
    {
     "data": {
      "text/plain": [
       "subreddit        0\n",
       "selftext        10\n",
       "title            0\n",
       "author           0\n",
       "created_utc      0\n",
       "created_date     0\n",
       "dtype: int64"
      ]
     },
     "execution_count": 6,
     "metadata": {},
     "output_type": "execute_result"
    }
   ],
   "source": [
    "reddit_posts.isnull().sum()"
   ]
  },
  {
   "cell_type": "code",
   "execution_count": 7,
   "metadata": {},
   "outputs": [],
   "source": [
    "reddit_posts.dropna(inplace=True)\n",
    "reddit_posts.reset_index(inplace=True)"
   ]
  },
  {
   "cell_type": "code",
   "execution_count": 8,
   "metadata": {},
   "outputs": [
    {
     "data": {
      "text/plain": [
       "index           0\n",
       "subreddit       0\n",
       "selftext        0\n",
       "title           0\n",
       "author          0\n",
       "created_utc     0\n",
       "created_date    0\n",
       "dtype: int64"
      ]
     },
     "execution_count": 8,
     "metadata": {},
     "output_type": "execute_result"
    }
   ],
   "source": [
    "reddit_posts.isnull().sum()"
   ]
  },
  {
   "cell_type": "code",
   "execution_count": null,
   "metadata": {},
   "outputs": [],
   "source": []
  },
  {
   "cell_type": "code",
   "execution_count": null,
   "metadata": {},
   "outputs": [],
   "source": []
  },
  {
   "cell_type": "code",
   "execution_count": null,
   "metadata": {},
   "outputs": [],
   "source": []
  },
  {
   "cell_type": "code",
   "execution_count": null,
   "metadata": {},
   "outputs": [],
   "source": []
  },
  {
   "cell_type": "code",
   "execution_count": null,
   "metadata": {},
   "outputs": [],
   "source": []
  },
  {
   "cell_type": "code",
   "execution_count": null,
   "metadata": {},
   "outputs": [],
   "source": []
  },
  {
   "cell_type": "code",
   "execution_count": null,
   "metadata": {},
   "outputs": [],
   "source": []
  },
  {
   "cell_type": "code",
   "execution_count": null,
   "metadata": {},
   "outputs": [],
   "source": []
  },
  {
   "cell_type": "code",
   "execution_count": null,
   "metadata": {},
   "outputs": [],
   "source": []
  },
  {
   "cell_type": "code",
   "execution_count": null,
   "metadata": {},
   "outputs": [],
   "source": []
  },
  {
   "cell_type": "code",
   "execution_count": null,
   "metadata": {},
   "outputs": [],
   "source": []
  },
  {
   "cell_type": "code",
   "execution_count": null,
   "metadata": {},
   "outputs": [],
   "source": []
  },
  {
   "cell_type": "code",
   "execution_count": null,
   "metadata": {},
   "outputs": [],
   "source": []
  },
  {
   "cell_type": "code",
   "execution_count": null,
   "metadata": {},
   "outputs": [],
   "source": []
  },
  {
   "cell_type": "code",
   "execution_count": null,
   "metadata": {},
   "outputs": [],
   "source": []
  }
 ],
 "metadata": {
  "kernelspec": {
   "display_name": "Python 3",
   "language": "python",
   "name": "python3"
  },
  "language_info": {
   "codemirror_mode": {
    "name": "ipython",
    "version": 3
   },
   "file_extension": ".py",
   "mimetype": "text/x-python",
   "name": "python",
   "nbconvert_exporter": "python",
   "pygments_lexer": "ipython3",
   "version": "3.8.3"
  }
 },
 "nbformat": 4,
 "nbformat_minor": 4
}
