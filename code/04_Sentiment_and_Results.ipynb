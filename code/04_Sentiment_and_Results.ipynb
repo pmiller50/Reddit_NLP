{
 "cells": [
  {
   "cell_type": "markdown",
   "metadata": {},
   "source": [
    "## Reddit Post Natural Language Processing and Classification\n",
    "![reddit](../images/reddit_logo.png)\n",
    "### 04. Sentiment Analysis and Results"
   ]
  },
  {
   "cell_type": "code",
   "execution_count": 23,
   "metadata": {},
   "outputs": [],
   "source": [
    "import pandas as pd\n",
    "from nltk.sentiment.vader import SentimentIntensityAnalyzer\n",
    "\n",
    "from sklearn.feature_extraction.text import CountVectorizer\n",
    "from sklearn.feature_extraction import text\n",
    "import matplotlib.pyplot as plt\n",
    "import seaborn as sns"
   ]
  },
  {
   "cell_type": "code",
   "execution_count": 24,
   "metadata": {},
   "outputs": [
    {
     "name": "stdout",
     "output_type": "stream",
     "text": [
      "posts_df.shape: (17847, 8) \n"
     ]
    },
    {
     "data": {
      "text/html": [
       "<div>\n",
       "<style scoped>\n",
       "    .dataframe tbody tr th:only-of-type {\n",
       "        vertical-align: middle;\n",
       "    }\n",
       "\n",
       "    .dataframe tbody tr th {\n",
       "        vertical-align: top;\n",
       "    }\n",
       "\n",
       "    .dataframe thead th {\n",
       "        text-align: right;\n",
       "    }\n",
       "</style>\n",
       "<table border=\"1\" class=\"dataframe\">\n",
       "  <thead>\n",
       "    <tr style=\"text-align: right;\">\n",
       "      <th></th>\n",
       "      <th>subreddit</th>\n",
       "      <th>selftext</th>\n",
       "      <th>title</th>\n",
       "      <th>author</th>\n",
       "      <th>created_utc</th>\n",
       "      <th>created_date</th>\n",
       "      <th>all_text</th>\n",
       "      <th>class</th>\n",
       "    </tr>\n",
       "  </thead>\n",
       "  <tbody>\n",
       "    <tr>\n",
       "      <th>0</th>\n",
       "      <td>AskCulinary</td>\n",
       "      <td>Hi everyone,\\n\\nI'm not sure if this is the pl...</td>\n",
       "      <td>Fridge for an instructional kitchen?</td>\n",
       "      <td>PrinceOfWales_</td>\n",
       "      <td>1610056955</td>\n",
       "      <td>2021-01-07 22:02:35</td>\n",
       "      <td>Hi everyone,  I'm not sure if this is the plac...</td>\n",
       "      <td>1</td>\n",
       "    </tr>\n",
       "    <tr>\n",
       "      <th>1</th>\n",
       "      <td>AskCulinary</td>\n",
       "      <td>Hey, I was wondering if anybody had tips to ke...</td>\n",
       "      <td>How to keep sourdough starter jar clean?</td>\n",
       "      <td>frowogger</td>\n",
       "      <td>1610055394</td>\n",
       "      <td>2021-01-07 21:36:34</td>\n",
       "      <td>Hey, I was wondering if anybody had tips to ke...</td>\n",
       "      <td>1</td>\n",
       "    </tr>\n",
       "    <tr>\n",
       "      <th>2</th>\n",
       "      <td>AskCulinary</td>\n",
       "      <td>\\nI’m Gonna make birria tacos tomorrow and my ...</td>\n",
       "      <td>What substitutes can I use for guajillo chili’...</td>\n",
       "      <td>pelse_O_clock</td>\n",
       "      <td>1610055301</td>\n",
       "      <td>2021-01-07 21:35:01</td>\n",
       "      <td>I’m Gonna make birria tacos tomorrow and my g...</td>\n",
       "      <td>1</td>\n",
       "    </tr>\n",
       "    <tr>\n",
       "      <th>3</th>\n",
       "      <td>AskCulinary</td>\n",
       "      <td>Hi all,\\n\\nI just found a steal on a WagnerWar...</td>\n",
       "      <td>Wagner Magnalite Dutch Oven</td>\n",
       "      <td>EmbryoRoux</td>\n",
       "      <td>1610055100</td>\n",
       "      <td>2021-01-07 21:31:40</td>\n",
       "      <td>Hi all,  I just found a steal on a WagnerWare ...</td>\n",
       "      <td>1</td>\n",
       "    </tr>\n",
       "    <tr>\n",
       "      <th>4</th>\n",
       "      <td>AskCulinary</td>\n",
       "      <td>Hi all,\\n\\nI tried making Julia's recipe for P...</td>\n",
       "      <td>AWFUL SMELL Potage Parmentier/Vichyssoise</td>\n",
       "      <td>batcat03</td>\n",
       "      <td>1610054738</td>\n",
       "      <td>2021-01-07 21:25:38</td>\n",
       "      <td>Hi all,  I tried making Julia's recipe for Pot...</td>\n",
       "      <td>1</td>\n",
       "    </tr>\n",
       "  </tbody>\n",
       "</table>\n",
       "</div>"
      ],
      "text/plain": [
       "     subreddit                                           selftext  \\\n",
       "0  AskCulinary  Hi everyone,\\n\\nI'm not sure if this is the pl...   \n",
       "1  AskCulinary  Hey, I was wondering if anybody had tips to ke...   \n",
       "2  AskCulinary  \\nI’m Gonna make birria tacos tomorrow and my ...   \n",
       "3  AskCulinary  Hi all,\\n\\nI just found a steal on a WagnerWar...   \n",
       "4  AskCulinary  Hi all,\\n\\nI tried making Julia's recipe for P...   \n",
       "\n",
       "                                               title          author  \\\n",
       "0               Fridge for an instructional kitchen?  PrinceOfWales_   \n",
       "1           How to keep sourdough starter jar clean?       frowogger   \n",
       "2  What substitutes can I use for guajillo chili’...   pelse_O_clock   \n",
       "3                        Wagner Magnalite Dutch Oven      EmbryoRoux   \n",
       "4          AWFUL SMELL Potage Parmentier/Vichyssoise        batcat03   \n",
       "\n",
       "   created_utc         created_date  \\\n",
       "0   1610056955  2021-01-07 22:02:35   \n",
       "1   1610055394  2021-01-07 21:36:34   \n",
       "2   1610055301  2021-01-07 21:35:01   \n",
       "3   1610055100  2021-01-07 21:31:40   \n",
       "4   1610054738  2021-01-07 21:25:38   \n",
       "\n",
       "                                            all_text  class  \n",
       "0  Hi everyone,  I'm not sure if this is the plac...      1  \n",
       "1  Hey, I was wondering if anybody had tips to ke...      1  \n",
       "2   I’m Gonna make birria tacos tomorrow and my g...      1  \n",
       "3  Hi all,  I just found a steal on a WagnerWare ...      1  \n",
       "4  Hi all,  I tried making Julia's recipe for Pot...      1  "
      ]
     },
     "execution_count": 24,
     "metadata": {},
     "output_type": "execute_result"
    }
   ],
   "source": [
    "posts_df = pd.read_csv('../data/clean_posts.csv')\n",
    "print (f'posts_df.shape: {posts_df.shape} ')\n",
    "posts_df.head()"
   ]
  },
  {
   "cell_type": "markdown",
   "metadata": {},
   "source": [
    "In the dataset of approximately 18,000 posts, around 190 posts contain the term **lone**<br>\n",
    "This provides a guide for what we should expect to find as we perform the sentiment analysis."
   ]
  },
  {
   "cell_type": "code",
   "execution_count": 25,
   "metadata": {},
   "outputs": [
    {
     "data": {
      "text/plain": [
       "(189, 8)"
      ]
     },
     "execution_count": 25,
     "metadata": {},
     "output_type": "execute_result"
    }
   ],
   "source": [
    "posts_df[posts_df['all_text'].str.contains('lone', regex=False)].shape"
   ]
  },
  {
   "cell_type": "markdown",
   "metadata": {},
   "source": [
    "---\n",
    "Compare sentiment of text data in the **AskCulinary** posts to the **running** posts.<br>\n",
    "Culinary posts are classified as 1, running posts as 0."
   ]
  },
  {
   "cell_type": "code",
   "execution_count": 26,
   "metadata": {},
   "outputs": [
    {
     "data": {
      "text/html": [
       "<div>\n",
       "<style scoped>\n",
       "    .dataframe tbody tr th:only-of-type {\n",
       "        vertical-align: middle;\n",
       "    }\n",
       "\n",
       "    .dataframe tbody tr th {\n",
       "        vertical-align: top;\n",
       "    }\n",
       "\n",
       "    .dataframe thead th {\n",
       "        text-align: right;\n",
       "    }\n",
       "</style>\n",
       "<table border=\"1\" class=\"dataframe\">\n",
       "  <thead>\n",
       "    <tr style=\"text-align: right;\">\n",
       "      <th></th>\n",
       "      <th>subreddit</th>\n",
       "      <th>selftext</th>\n",
       "      <th>title</th>\n",
       "      <th>author</th>\n",
       "      <th>created_utc</th>\n",
       "      <th>created_date</th>\n",
       "      <th>all_text</th>\n",
       "      <th>class</th>\n",
       "    </tr>\n",
       "  </thead>\n",
       "  <tbody>\n",
       "    <tr>\n",
       "      <th>0</th>\n",
       "      <td>AskCulinary</td>\n",
       "      <td>Hi everyone,\\n\\nI'm not sure if this is the pl...</td>\n",
       "      <td>Fridge for an instructional kitchen?</td>\n",
       "      <td>PrinceOfWales_</td>\n",
       "      <td>1610056955</td>\n",
       "      <td>2021-01-07 22:02:35</td>\n",
       "      <td>Hi everyone,  I'm not sure if this is the plac...</td>\n",
       "      <td>1</td>\n",
       "    </tr>\n",
       "    <tr>\n",
       "      <th>1</th>\n",
       "      <td>AskCulinary</td>\n",
       "      <td>Hey, I was wondering if anybody had tips to ke...</td>\n",
       "      <td>How to keep sourdough starter jar clean?</td>\n",
       "      <td>frowogger</td>\n",
       "      <td>1610055394</td>\n",
       "      <td>2021-01-07 21:36:34</td>\n",
       "      <td>Hey, I was wondering if anybody had tips to ke...</td>\n",
       "      <td>1</td>\n",
       "    </tr>\n",
       "    <tr>\n",
       "      <th>2</th>\n",
       "      <td>AskCulinary</td>\n",
       "      <td>\\nI’m Gonna make birria tacos tomorrow and my ...</td>\n",
       "      <td>What substitutes can I use for guajillo chili’...</td>\n",
       "      <td>pelse_O_clock</td>\n",
       "      <td>1610055301</td>\n",
       "      <td>2021-01-07 21:35:01</td>\n",
       "      <td>I’m Gonna make birria tacos tomorrow and my g...</td>\n",
       "      <td>1</td>\n",
       "    </tr>\n",
       "    <tr>\n",
       "      <th>3</th>\n",
       "      <td>AskCulinary</td>\n",
       "      <td>Hi all,\\n\\nI just found a steal on a WagnerWar...</td>\n",
       "      <td>Wagner Magnalite Dutch Oven</td>\n",
       "      <td>EmbryoRoux</td>\n",
       "      <td>1610055100</td>\n",
       "      <td>2021-01-07 21:31:40</td>\n",
       "      <td>Hi all,  I just found a steal on a WagnerWare ...</td>\n",
       "      <td>1</td>\n",
       "    </tr>\n",
       "    <tr>\n",
       "      <th>4</th>\n",
       "      <td>AskCulinary</td>\n",
       "      <td>Hi all,\\n\\nI tried making Julia's recipe for P...</td>\n",
       "      <td>AWFUL SMELL Potage Parmentier/Vichyssoise</td>\n",
       "      <td>batcat03</td>\n",
       "      <td>1610054738</td>\n",
       "      <td>2021-01-07 21:25:38</td>\n",
       "      <td>Hi all,  I tried making Julia's recipe for Pot...</td>\n",
       "      <td>1</td>\n",
       "    </tr>\n",
       "  </tbody>\n",
       "</table>\n",
       "</div>"
      ],
      "text/plain": [
       "     subreddit                                           selftext  \\\n",
       "0  AskCulinary  Hi everyone,\\n\\nI'm not sure if this is the pl...   \n",
       "1  AskCulinary  Hey, I was wondering if anybody had tips to ke...   \n",
       "2  AskCulinary  \\nI’m Gonna make birria tacos tomorrow and my ...   \n",
       "3  AskCulinary  Hi all,\\n\\nI just found a steal on a WagnerWar...   \n",
       "4  AskCulinary  Hi all,\\n\\nI tried making Julia's recipe for P...   \n",
       "\n",
       "                                               title          author  \\\n",
       "0               Fridge for an instructional kitchen?  PrinceOfWales_   \n",
       "1           How to keep sourdough starter jar clean?       frowogger   \n",
       "2  What substitutes can I use for guajillo chili’...   pelse_O_clock   \n",
       "3                        Wagner Magnalite Dutch Oven      EmbryoRoux   \n",
       "4          AWFUL SMELL Potage Parmentier/Vichyssoise        batcat03   \n",
       "\n",
       "   created_utc         created_date  \\\n",
       "0   1610056955  2021-01-07 22:02:35   \n",
       "1   1610055394  2021-01-07 21:36:34   \n",
       "2   1610055301  2021-01-07 21:35:01   \n",
       "3   1610055100  2021-01-07 21:31:40   \n",
       "4   1610054738  2021-01-07 21:25:38   \n",
       "\n",
       "                                            all_text  class  \n",
       "0  Hi everyone,  I'm not sure if this is the plac...      1  \n",
       "1  Hey, I was wondering if anybody had tips to ke...      1  \n",
       "2   I’m Gonna make birria tacos tomorrow and my g...      1  \n",
       "3  Hi all,  I just found a steal on a WagnerWare ...      1  \n",
       "4  Hi all,  I tried making Julia's recipe for Pot...      1  "
      ]
     },
     "execution_count": 26,
     "metadata": {},
     "output_type": "execute_result"
    }
   ],
   "source": [
    "culinary_df = posts_df[posts_df['class'] == 1].copy()\n",
    "culinary_df.head()"
   ]
  },
  {
   "cell_type": "code",
   "execution_count": 27,
   "metadata": {},
   "outputs": [
    {
     "data": {
      "text/html": [
       "<div>\n",
       "<style scoped>\n",
       "    .dataframe tbody tr th:only-of-type {\n",
       "        vertical-align: middle;\n",
       "    }\n",
       "\n",
       "    .dataframe tbody tr th {\n",
       "        vertical-align: top;\n",
       "    }\n",
       "\n",
       "    .dataframe thead th {\n",
       "        text-align: right;\n",
       "    }\n",
       "</style>\n",
       "<table border=\"1\" class=\"dataframe\">\n",
       "  <thead>\n",
       "    <tr style=\"text-align: right;\">\n",
       "      <th></th>\n",
       "      <th>index</th>\n",
       "      <th>subreddit</th>\n",
       "      <th>selftext</th>\n",
       "      <th>title</th>\n",
       "      <th>author</th>\n",
       "      <th>created_utc</th>\n",
       "      <th>created_date</th>\n",
       "      <th>all_text</th>\n",
       "      <th>class</th>\n",
       "    </tr>\n",
       "  </thead>\n",
       "  <tbody>\n",
       "    <tr>\n",
       "      <th>0</th>\n",
       "      <td>9766</td>\n",
       "      <td>running</td>\n",
       "      <td>I\"m just getting into running. TBQH a lot of t...</td>\n",
       "      <td>Do you try to beat your personal record everyt...</td>\n",
       "      <td>theRealLOCURO</td>\n",
       "      <td>1610054995</td>\n",
       "      <td>2021-01-07 21:29:55</td>\n",
       "      <td>I\"m just getting into running. TBQH a lot of t...</td>\n",
       "      <td>0</td>\n",
       "    </tr>\n",
       "    <tr>\n",
       "      <th>1</th>\n",
       "      <td>9767</td>\n",
       "      <td>running</td>\n",
       "      <td>One day I hope to run a sub 3 marathon. I know...</td>\n",
       "      <td>Training advice?</td>\n",
       "      <td>lilteezybaby117</td>\n",
       "      <td>1610054062</td>\n",
       "      <td>2021-01-07 21:14:22</td>\n",
       "      <td>One day I hope to run a sub   marathon. I know...</td>\n",
       "      <td>0</td>\n",
       "    </tr>\n",
       "    <tr>\n",
       "      <th>2</th>\n",
       "      <td>9768</td>\n",
       "      <td>running</td>\n",
       "      <td>Hi,\\n\\nI wear size 45 (EU Size) for my Convers...</td>\n",
       "      <td>What size should running shoes be?</td>\n",
       "      <td>Emil_1996</td>\n",
       "      <td>1610053837</td>\n",
       "      <td>2021-01-07 21:10:37</td>\n",
       "      <td>Hi,  I wear size   (EU Size) for my Converse A...</td>\n",
       "      <td>0</td>\n",
       "    </tr>\n",
       "    <tr>\n",
       "      <th>3</th>\n",
       "      <td>9769</td>\n",
       "      <td>running</td>\n",
       "      <td>Got myself a little (not so little) running pa...</td>\n",
       "      <td>running buddy</td>\n",
       "      <td>nofeeit</td>\n",
       "      <td>1610053330</td>\n",
       "      <td>2021-01-07 21:02:10</td>\n",
       "      <td>Got myself a little (not so little) running pa...</td>\n",
       "      <td>0</td>\n",
       "    </tr>\n",
       "    <tr>\n",
       "      <th>4</th>\n",
       "      <td>9770</td>\n",
       "      <td>running</td>\n",
       "      <td>This is my highest number yet! I was a solid s...</td>\n",
       "      <td>Yo I ran 24.2 miles yesterday</td>\n",
       "      <td>surfsteph</td>\n",
       "      <td>1610052424</td>\n",
       "      <td>2021-01-07 20:47:04</td>\n",
       "      <td>This is my highest number yet! I was a solid s...</td>\n",
       "      <td>0</td>\n",
       "    </tr>\n",
       "  </tbody>\n",
       "</table>\n",
       "</div>"
      ],
      "text/plain": [
       "   index subreddit                                           selftext  \\\n",
       "0   9766   running  I\"m just getting into running. TBQH a lot of t...   \n",
       "1   9767   running  One day I hope to run a sub 3 marathon. I know...   \n",
       "2   9768   running  Hi,\\n\\nI wear size 45 (EU Size) for my Convers...   \n",
       "3   9769   running  Got myself a little (not so little) running pa...   \n",
       "4   9770   running  This is my highest number yet! I was a solid s...   \n",
       "\n",
       "                                               title           author  \\\n",
       "0  Do you try to beat your personal record everyt...    theRealLOCURO   \n",
       "1                                   Training advice?  lilteezybaby117   \n",
       "2                 What size should running shoes be?        Emil_1996   \n",
       "3                                      running buddy          nofeeit   \n",
       "4                      Yo I ran 24.2 miles yesterday        surfsteph   \n",
       "\n",
       "   created_utc         created_date  \\\n",
       "0   1610054995  2021-01-07 21:29:55   \n",
       "1   1610054062  2021-01-07 21:14:22   \n",
       "2   1610053837  2021-01-07 21:10:37   \n",
       "3   1610053330  2021-01-07 21:02:10   \n",
       "4   1610052424  2021-01-07 20:47:04   \n",
       "\n",
       "                                            all_text  class  \n",
       "0  I\"m just getting into running. TBQH a lot of t...      0  \n",
       "1  One day I hope to run a sub   marathon. I know...      0  \n",
       "2  Hi,  I wear size   (EU Size) for my Converse A...      0  \n",
       "3  Got myself a little (not so little) running pa...      0  \n",
       "4  This is my highest number yet! I was a solid s...      0  "
      ]
     },
     "execution_count": 27,
     "metadata": {},
     "output_type": "execute_result"
    }
   ],
   "source": [
    "running_df = posts_df[posts_df['class'] == 0].copy()\n",
    "running_df.reset_index(inplace=True)\n",
    "running_df.head()"
   ]
  },
  {
   "cell_type": "code",
   "execution_count": null,
   "metadata": {},
   "outputs": [],
   "source": []
  },
  {
   "cell_type": "markdown",
   "metadata": {},
   "source": [
    "### Examine the VADER Sentiment Library\n",
    "This lexicon is used by a Sentiment Intensity Analyzer instance to produce a sentiment score on a text string.\n",
    "\n",
    "Import all tokens in the VADER.  Will use to search for negative words later"
   ]
  },
  {
   "cell_type": "code",
   "execution_count": 28,
   "metadata": {},
   "outputs": [
    {
     "data": {
      "text/html": [
       "<div>\n",
       "<style scoped>\n",
       "    .dataframe tbody tr th:only-of-type {\n",
       "        vertical-align: middle;\n",
       "    }\n",
       "\n",
       "    .dataframe tbody tr th {\n",
       "        vertical-align: top;\n",
       "    }\n",
       "\n",
       "    .dataframe thead th {\n",
       "        text-align: right;\n",
       "    }\n",
       "</style>\n",
       "<table border=\"1\" class=\"dataframe\">\n",
       "  <thead>\n",
       "    <tr style=\"text-align: right;\">\n",
       "      <th></th>\n",
       "      <th>token</th>\n",
       "      <th>mean_sentiment_rating</th>\n",
       "      <th>standard_deviation</th>\n",
       "      <th>raw_human_sentiment_ratings</th>\n",
       "    </tr>\n",
       "  </thead>\n",
       "  <tbody>\n",
       "    <tr>\n",
       "      <th>4400</th>\n",
       "      <td>loathes</td>\n",
       "      <td>-1.9</td>\n",
       "      <td>1.13578</td>\n",
       "      <td>[-1, -4, -1, -3, -3, -1, -1, -3, -1, -1]</td>\n",
       "    </tr>\n",
       "    <tr>\n",
       "      <th>4401</th>\n",
       "      <td>loathing</td>\n",
       "      <td>-2.7</td>\n",
       "      <td>0.78102</td>\n",
       "      <td>[-3, -3, -3, -1, -4, -2, -3, -3, -2, -3]</td>\n",
       "    </tr>\n",
       "    <tr>\n",
       "      <th>4402</th>\n",
       "      <td>lobby</td>\n",
       "      <td>0.1</td>\n",
       "      <td>0.53852</td>\n",
       "      <td>[0, 0, 0, 1, 0, 1, 0, -1, 0, 0]</td>\n",
       "    </tr>\n",
       "    <tr>\n",
       "      <th>4403</th>\n",
       "      <td>lobbying</td>\n",
       "      <td>-0.3</td>\n",
       "      <td>0.45826</td>\n",
       "      <td>[0, -1, 0, 0, 0, 0, 0, -1, -1, 0]</td>\n",
       "    </tr>\n",
       "    <tr>\n",
       "      <th>4404</th>\n",
       "      <td>lol</td>\n",
       "      <td>1.8</td>\n",
       "      <td>1.46969</td>\n",
       "      <td>[1, 3, 4, 1, 2, 4, 1, 2, -1, 1]</td>\n",
       "    </tr>\n",
       "    <tr>\n",
       "      <th>4405</th>\n",
       "      <td>lone</td>\n",
       "      <td>-1.1</td>\n",
       "      <td>0.30000</td>\n",
       "      <td>[-1, -1, -1, -1, -1, -1, -2, -1, -1, -1]</td>\n",
       "    </tr>\n",
       "    <tr>\n",
       "      <th>4406</th>\n",
       "      <td>lonelier</td>\n",
       "      <td>-1.4</td>\n",
       "      <td>0.66332</td>\n",
       "      <td>[-2, -1, -2, -2, 0, -2, -1, -1, -1, -2]</td>\n",
       "    </tr>\n",
       "    <tr>\n",
       "      <th>4407</th>\n",
       "      <td>loneliest</td>\n",
       "      <td>-2.4</td>\n",
       "      <td>0.80000</td>\n",
       "      <td>[-3, -1, -2, -4, -2, -2, -3, -3, -2, -2]</td>\n",
       "    </tr>\n",
       "    <tr>\n",
       "      <th>4408</th>\n",
       "      <td>loneliness</td>\n",
       "      <td>-1.8</td>\n",
       "      <td>0.60000</td>\n",
       "      <td>[-2, -2, -1, -3, -2, -2, -1, -2, -1, -2]</td>\n",
       "    </tr>\n",
       "    <tr>\n",
       "      <th>4409</th>\n",
       "      <td>lonelinesses</td>\n",
       "      <td>-1.5</td>\n",
       "      <td>1.36015</td>\n",
       "      <td>[-2, -2, -1, -1, 2, -1, -3, -2, -3, -2]</td>\n",
       "    </tr>\n",
       "    <tr>\n",
       "      <th>4410</th>\n",
       "      <td>lonely</td>\n",
       "      <td>-1.5</td>\n",
       "      <td>0.50000</td>\n",
       "      <td>[-1, -2, -2, -1, -1, -1, -1, -2, -2, -2]</td>\n",
       "    </tr>\n",
       "    <tr>\n",
       "      <th>4411</th>\n",
       "      <td>loneness</td>\n",
       "      <td>-1.1</td>\n",
       "      <td>0.83066</td>\n",
       "      <td>[-1, -2, -1, -2, -1, -1, -2, 1, -1, -1]</td>\n",
       "    </tr>\n",
       "    <tr>\n",
       "      <th>4412</th>\n",
       "      <td>loner</td>\n",
       "      <td>-1.3</td>\n",
       "      <td>0.45826</td>\n",
       "      <td>[-1, -2, -1, -1, -1, -1, -1, -2, -2, -1]</td>\n",
       "    </tr>\n",
       "    <tr>\n",
       "      <th>4413</th>\n",
       "      <td>loners</td>\n",
       "      <td>-0.9</td>\n",
       "      <td>0.53852</td>\n",
       "      <td>[-1, -1, -2, -1, -1, -1, 0, 0, -1, -1]</td>\n",
       "    </tr>\n",
       "    <tr>\n",
       "      <th>4414</th>\n",
       "      <td>lonesome</td>\n",
       "      <td>-1.5</td>\n",
       "      <td>0.67082</td>\n",
       "      <td>[-2, -1, -2, -1, -2, -1, -2, 0, -2, -2]</td>\n",
       "    </tr>\n",
       "  </tbody>\n",
       "</table>\n",
       "</div>"
      ],
      "text/plain": [
       "             token  mean_sentiment_rating  standard_deviation  \\\n",
       "4400       loathes                   -1.9             1.13578   \n",
       "4401      loathing                   -2.7             0.78102   \n",
       "4402         lobby                    0.1             0.53852   \n",
       "4403      lobbying                   -0.3             0.45826   \n",
       "4404           lol                    1.8             1.46969   \n",
       "4405          lone                   -1.1             0.30000   \n",
       "4406      lonelier                   -1.4             0.66332   \n",
       "4407     loneliest                   -2.4             0.80000   \n",
       "4408    loneliness                   -1.8             0.60000   \n",
       "4409  lonelinesses                   -1.5             1.36015   \n",
       "4410        lonely                   -1.5             0.50000   \n",
       "4411      loneness                   -1.1             0.83066   \n",
       "4412         loner                   -1.3             0.45826   \n",
       "4413        loners                   -0.9             0.53852   \n",
       "4414      lonesome                   -1.5             0.67082   \n",
       "\n",
       "                   raw_human_sentiment_ratings  \n",
       "4400  [-1, -4, -1, -3, -3, -1, -1, -3, -1, -1]  \n",
       "4401  [-3, -3, -3, -1, -4, -2, -3, -3, -2, -3]  \n",
       "4402           [0, 0, 0, 1, 0, 1, 0, -1, 0, 0]  \n",
       "4403         [0, -1, 0, 0, 0, 0, 0, -1, -1, 0]  \n",
       "4404           [1, 3, 4, 1, 2, 4, 1, 2, -1, 1]  \n",
       "4405  [-1, -1, -1, -1, -1, -1, -2, -1, -1, -1]  \n",
       "4406   [-2, -1, -2, -2, 0, -2, -1, -1, -1, -2]  \n",
       "4407  [-3, -1, -2, -4, -2, -2, -3, -3, -2, -2]  \n",
       "4408  [-2, -2, -1, -3, -2, -2, -1, -2, -1, -2]  \n",
       "4409   [-2, -2, -1, -1, 2, -1, -3, -2, -3, -2]  \n",
       "4410  [-1, -2, -2, -1, -1, -1, -1, -2, -2, -2]  \n",
       "4411   [-1, -2, -1, -2, -1, -1, -2, 1, -1, -1]  \n",
       "4412  [-1, -2, -1, -1, -1, -1, -1, -2, -2, -1]  \n",
       "4413    [-1, -1, -2, -1, -1, -1, 0, 0, -1, -1]  \n",
       "4414   [-2, -1, -2, -1, -2, -1, -2, 0, -2, -2]  "
      ]
     },
     "execution_count": 28,
     "metadata": {},
     "output_type": "execute_result"
    }
   ],
   "source": [
    "vader_lexicon = pd.read_csv('../data/vader_lexicon.txt', sep='\\t', header=0, names=['token', 'mean_sentiment_rating', 'standard_deviation', 'raw_human_sentiment_ratings'])\n",
    "vader_lexicon.iloc[4400:4415]"
   ]
  },
  {
   "cell_type": "code",
   "execution_count": 29,
   "metadata": {},
   "outputs": [
    {
     "name": "stdout",
     "output_type": "stream",
     "text": [
      "There are 7519 words in the VADER lexicon.\n"
     ]
    }
   ],
   "source": [
    "print (f'There are {vader_lexicon.shape[0]} words in the VADER lexicon.' )"
   ]
  },
  {
   "cell_type": "code",
   "execution_count": 30,
   "metadata": {},
   "outputs": [],
   "source": [
    "# Instantiate Sentiment Intensity Analyzer\n",
    "sent = SentimentIntensityAnalyzer()"
   ]
  },
  {
   "cell_type": "markdown",
   "metadata": {},
   "source": [
    "Use the SentimentIntensityAnalyzer to judge the sentiment of each reddit post.  After which we can compare the overall sentiment between the two reddit subcategories.\n",
    "\n",
    "From the documentation :\n",
    "https://github.com/cjhutto/vaderSentiment\n",
    "* A score of –4 equates to Extremely Negative.\n",
    "* A score of 4 equates to Extremely Positive\n",
    "\n",
    "If a term is not present in the VADER lexicon, the Analyzer returns a neutral score.\n",
    "The Analyzer returns scores that should always add up to a total of 1.\n",
    "\n",
    "For example, the term **cooking** is not in the lexicon, and has a score indicating 100% neutral (*neu*: 1.0)"
   ]
  },
  {
   "cell_type": "code",
   "execution_count": 31,
   "metadata": {},
   "outputs": [
    {
     "name": "stdout",
     "output_type": "stream",
     "text": [
      "\"cooking\" sentiment: {'neg': 0.0, 'neu': 1.0, 'pos': 0.0, 'compound': 0.0} \n"
     ]
    }
   ],
   "source": [
    "print (f'\"cooking\" sentiment: {sent.polarity_scores(\"cooking\")} ')"
   ]
  },
  {
   "cell_type": "markdown",
   "metadata": {},
   "source": [
    "The term **running**, or **run** are not in the lexicon."
   ]
  },
  {
   "cell_type": "code",
   "execution_count": 32,
   "metadata": {},
   "outputs": [
    {
     "name": "stdout",
     "output_type": "stream",
     "text": [
      "\"running\" sentiment: {'neg': 0.0, 'neu': 1.0, 'pos': 0.0, 'compound': 0.0} \n",
      "\"run\" sentiment: {'neg': 0.0, 'neu': 1.0, 'pos': 0.0, 'compound': 0.0} \n"
     ]
    }
   ],
   "source": [
    "print (f'\"running\" sentiment: {sent.polarity_scores(\"running\")} ')\n",
    "print (f'\"run\" sentiment: {sent.polarity_scores(\"run\")} ')"
   ]
  },
  {
   "cell_type": "markdown",
   "metadata": {},
   "source": [
    "From the [documentation](https://github.com/cjhutto/vaderSentiment):<br>\n",
    "The **compound score** is computed by summing the valence scores of each word in the lexicon, adjusted according to the rules, and then normalized to be between -1 (most extreme negative) and +1 (most extreme positive). \n",
    "\n",
    "The term **alone** has a slightly negative compund score."
   ]
  },
  {
   "cell_type": "code",
   "execution_count": 33,
   "metadata": {},
   "outputs": [
    {
     "name": "stdout",
     "output_type": "stream",
     "text": [
      "\"alone\" sentiment: {'neg': 1.0, 'neu': 0.0, 'pos': 0.0, 'compound': -0.25} \n"
     ]
    }
   ],
   "source": [
    "print (f'\"alone\" sentiment: {sent.polarity_scores(\"alone\")} ')"
   ]
  },
  {
   "cell_type": "markdown",
   "metadata": {},
   "source": [
    "Other terms similar to **lonely** have slightly negative compund scores."
   ]
  },
  {
   "cell_type": "code",
   "execution_count": 34,
   "metadata": {},
   "outputs": [
    {
     "name": "stdout",
     "output_type": "stream",
     "text": [
      "\"lonely\" sentiment: {'neg': 1.0, 'neu': 0.0, 'pos': 0.0, 'compound': -0.3612} \n",
      "\"loner\" sentiment: {'neg': 1.0, 'neu': 0.0, 'pos': 0.0, 'compound': -0.3182} \n"
     ]
    }
   ],
   "source": [
    "print (f'\"lonely\" sentiment: {sent.polarity_scores(\"lonely\")} ')\n",
    "print (f'\"loner\" sentiment: {sent.polarity_scores(\"loner\")} ')"
   ]
  },
  {
   "cell_type": "markdown",
   "metadata": {},
   "source": [
    "The words **together** and **family** are not included in the lexicon, but the many variations of the word **friend** do appear.  These are expectedly positive."
   ]
  },
  {
   "cell_type": "code",
   "execution_count": 35,
   "metadata": {},
   "outputs": [
    {
     "data": {
      "text/plain": [
       "{'neg': 0.0, 'neu': 0.392, 'pos': 0.608, 'compound': 0.4767}"
      ]
     },
     "execution_count": 35,
     "metadata": {},
     "output_type": "execute_result"
    }
   ],
   "source": [
    "sent.polarity_scores(\"I am with friends\")"
   ]
  },
  {
   "cell_type": "code",
   "execution_count": 36,
   "metadata": {},
   "outputs": [
    {
     "data": {
      "text/plain": [
       "{'neg': 0.0, 'neu': 0.492, 'pos': 0.508, 'compound': 0.4767}"
      ]
     },
     "execution_count": 36,
     "metadata": {},
     "output_type": "execute_result"
    }
   ],
   "source": [
    "sent.polarity_scores(\"I am with friends running\")"
   ]
  },
  {
   "cell_type": "code",
   "execution_count": null,
   "metadata": {},
   "outputs": [],
   "source": []
  },
  {
   "cell_type": "markdown",
   "metadata": {},
   "source": [
    "---\n",
    "Loop through every Ask Culinary reddit post, and find the VADER sentiment scores for the contents of all_text (which is simply the title combined with the selftext"
   ]
  },
  {
   "cell_type": "code",
   "execution_count": 37,
   "metadata": {},
   "outputs": [
    {
     "data": {
      "text/html": [
       "<div>\n",
       "<style scoped>\n",
       "    .dataframe tbody tr th:only-of-type {\n",
       "        vertical-align: middle;\n",
       "    }\n",
       "\n",
       "    .dataframe tbody tr th {\n",
       "        vertical-align: top;\n",
       "    }\n",
       "\n",
       "    .dataframe thead th {\n",
       "        text-align: right;\n",
       "    }\n",
       "</style>\n",
       "<table border=\"1\" class=\"dataframe\">\n",
       "  <thead>\n",
       "    <tr style=\"text-align: right;\">\n",
       "      <th></th>\n",
       "      <th>subreddit</th>\n",
       "      <th>selftext</th>\n",
       "      <th>title</th>\n",
       "      <th>author</th>\n",
       "      <th>created_utc</th>\n",
       "      <th>created_date</th>\n",
       "      <th>all_text</th>\n",
       "      <th>class</th>\n",
       "      <th>neg</th>\n",
       "      <th>neu</th>\n",
       "      <th>pos</th>\n",
       "      <th>compound</th>\n",
       "    </tr>\n",
       "  </thead>\n",
       "  <tbody>\n",
       "    <tr>\n",
       "      <th>0</th>\n",
       "      <td>AskCulinary</td>\n",
       "      <td>Hi everyone,\\n\\nI'm not sure if this is the pl...</td>\n",
       "      <td>Fridge for an instructional kitchen?</td>\n",
       "      <td>PrinceOfWales_</td>\n",
       "      <td>1610056955</td>\n",
       "      <td>2021-01-07 22:02:35</td>\n",
       "      <td>Hi everyone,  I'm not sure if this is the plac...</td>\n",
       "      <td>1</td>\n",
       "      <td>0.014</td>\n",
       "      <td>0.916</td>\n",
       "      <td>0.069</td>\n",
       "      <td>0.7663</td>\n",
       "    </tr>\n",
       "    <tr>\n",
       "      <th>1</th>\n",
       "      <td>AskCulinary</td>\n",
       "      <td>Hey, I was wondering if anybody had tips to ke...</td>\n",
       "      <td>How to keep sourdough starter jar clean?</td>\n",
       "      <td>frowogger</td>\n",
       "      <td>1610055394</td>\n",
       "      <td>2021-01-07 21:36:34</td>\n",
       "      <td>Hey, I was wondering if anybody had tips to ke...</td>\n",
       "      <td>1</td>\n",
       "      <td>0.044</td>\n",
       "      <td>0.829</td>\n",
       "      <td>0.127</td>\n",
       "      <td>0.9332</td>\n",
       "    </tr>\n",
       "    <tr>\n",
       "      <th>2</th>\n",
       "      <td>AskCulinary</td>\n",
       "      <td>\\nI’m Gonna make birria tacos tomorrow and my ...</td>\n",
       "      <td>What substitutes can I use for guajillo chili’...</td>\n",
       "      <td>pelse_O_clock</td>\n",
       "      <td>1610055301</td>\n",
       "      <td>2021-01-07 21:35:01</td>\n",
       "      <td>I’m Gonna make birria tacos tomorrow and my g...</td>\n",
       "      <td>1</td>\n",
       "      <td>0.000</td>\n",
       "      <td>0.953</td>\n",
       "      <td>0.047</td>\n",
       "      <td>0.3612</td>\n",
       "    </tr>\n",
       "  </tbody>\n",
       "</table>\n",
       "</div>"
      ],
      "text/plain": [
       "     subreddit                                           selftext  \\\n",
       "0  AskCulinary  Hi everyone,\\n\\nI'm not sure if this is the pl...   \n",
       "1  AskCulinary  Hey, I was wondering if anybody had tips to ke...   \n",
       "2  AskCulinary  \\nI’m Gonna make birria tacos tomorrow and my ...   \n",
       "\n",
       "                                               title          author  \\\n",
       "0               Fridge for an instructional kitchen?  PrinceOfWales_   \n",
       "1           How to keep sourdough starter jar clean?       frowogger   \n",
       "2  What substitutes can I use for guajillo chili’...   pelse_O_clock   \n",
       "\n",
       "   created_utc         created_date  \\\n",
       "0   1610056955  2021-01-07 22:02:35   \n",
       "1   1610055394  2021-01-07 21:36:34   \n",
       "2   1610055301  2021-01-07 21:35:01   \n",
       "\n",
       "                                            all_text  class    neg    neu  \\\n",
       "0  Hi everyone,  I'm not sure if this is the plac...      1  0.014  0.916   \n",
       "1  Hey, I was wondering if anybody had tips to ke...      1  0.044  0.829   \n",
       "2   I’m Gonna make birria tacos tomorrow and my g...      1  0.000  0.953   \n",
       "\n",
       "     pos  compound  \n",
       "0  0.069    0.7663  \n",
       "1  0.127    0.9332  \n",
       "2  0.047    0.3612  "
      ]
     },
     "execution_count": 37,
     "metadata": {},
     "output_type": "execute_result"
    }
   ],
   "source": [
    "culinary_df['neg'] = [sent.polarity_scores(post)['neg'] for post in culinary_df['all_text']]\n",
    "culinary_df['neu'] = [sent.polarity_scores(post)['neu'] for post in culinary_df['all_text']]\n",
    "culinary_df['pos'] = [sent.polarity_scores(post)['pos'] for post in culinary_df['all_text']]\n",
    "culinary_df['compound'] = [sent.polarity_scores(post)['compound'] for post in culinary_df['all_text']]\n",
    "culinary_df.head(3)"
   ]
  },
  {
   "cell_type": "code",
   "execution_count": 38,
   "metadata": {},
   "outputs": [
    {
     "data": {
      "text/html": [
       "<div>\n",
       "<style scoped>\n",
       "    .dataframe tbody tr th:only-of-type {\n",
       "        vertical-align: middle;\n",
       "    }\n",
       "\n",
       "    .dataframe tbody tr th {\n",
       "        vertical-align: top;\n",
       "    }\n",
       "\n",
       "    .dataframe thead th {\n",
       "        text-align: right;\n",
       "    }\n",
       "</style>\n",
       "<table border=\"1\" class=\"dataframe\">\n",
       "  <thead>\n",
       "    <tr style=\"text-align: right;\">\n",
       "      <th></th>\n",
       "      <th>Negative</th>\n",
       "      <th>Neutral</th>\n",
       "      <th>Positive</th>\n",
       "      <th>Compound</th>\n",
       "    </tr>\n",
       "  </thead>\n",
       "  <tbody>\n",
       "    <tr>\n",
       "      <th>Ask Culinary</th>\n",
       "      <td>0.041164</td>\n",
       "      <td>0.854365</td>\n",
       "      <td>0.104473</td>\n",
       "      <td>0.40366</td>\n",
       "    </tr>\n",
       "  </tbody>\n",
       "</table>\n",
       "</div>"
      ],
      "text/plain": [
       "              Negative   Neutral  Positive  Compound\n",
       "Ask Culinary  0.041164  0.854365  0.104473   0.40366"
      ]
     },
     "execution_count": 38,
     "metadata": {},
     "output_type": "execute_result"
    }
   ],
   "source": [
    "# print(f'Average of culinary scores {round(culinary_df[\"neg\"].mean(), 4)*100 }% negative \\n')\n",
    "# print(f'Average of culinary scores { culinary_df[\"neu\"].mean()*100:{4}.{4}}% neutral \\n')\n",
    "# print(f'Average of culinary scores {round(culinary_df[\"pos\"].mean(), 4)*100 }% positive\\n')\n",
    "# print(f'Average of culinary compound scores {round(culinary_df[\"compound\"].mean(), 4)*100 }% \\n')\n",
    "\n",
    "# Help with the f string formatting (since round was giving me long floating numbers):\n",
    "#https://docs.python.org/3/reference/lexical_analysis.html#f-strings\n",
    "\n",
    "data = { 'Negative': culinary_df[\"neg\"].mean(),\n",
    "        'Neutral': culinary_df[\"neu\"].mean(),\n",
    "        'Positive': culinary_df[\"pos\"].mean(),\n",
    "        'Compound' : culinary_df[\"compound\"].mean()}\n",
    "\n",
    "df_scores = pd.DataFrame(data, index=['Ask Culinary'])\n",
    "df_scores.head()\n"
   ]
  },
  {
   "cell_type": "markdown",
   "metadata": {},
   "source": [
    "---\n",
    "Loop through every running reddit post, and find the VADER sentiment scores for the contents of all_text (which is simply the title combined with the selftext)"
   ]
  },
  {
   "cell_type": "code",
   "execution_count": 39,
   "metadata": {},
   "outputs": [
    {
     "data": {
      "text/html": [
       "<div>\n",
       "<style scoped>\n",
       "    .dataframe tbody tr th:only-of-type {\n",
       "        vertical-align: middle;\n",
       "    }\n",
       "\n",
       "    .dataframe tbody tr th {\n",
       "        vertical-align: top;\n",
       "    }\n",
       "\n",
       "    .dataframe thead th {\n",
       "        text-align: right;\n",
       "    }\n",
       "</style>\n",
       "<table border=\"1\" class=\"dataframe\">\n",
       "  <thead>\n",
       "    <tr style=\"text-align: right;\">\n",
       "      <th></th>\n",
       "      <th>index</th>\n",
       "      <th>subreddit</th>\n",
       "      <th>selftext</th>\n",
       "      <th>title</th>\n",
       "      <th>author</th>\n",
       "      <th>created_utc</th>\n",
       "      <th>created_date</th>\n",
       "      <th>all_text</th>\n",
       "      <th>class</th>\n",
       "      <th>neg</th>\n",
       "      <th>neu</th>\n",
       "      <th>pos</th>\n",
       "      <th>compound</th>\n",
       "    </tr>\n",
       "  </thead>\n",
       "  <tbody>\n",
       "    <tr>\n",
       "      <th>0</th>\n",
       "      <td>9766</td>\n",
       "      <td>running</td>\n",
       "      <td>I\"m just getting into running. TBQH a lot of t...</td>\n",
       "      <td>Do you try to beat your personal record everyt...</td>\n",
       "      <td>theRealLOCURO</td>\n",
       "      <td>1610054995</td>\n",
       "      <td>2021-01-07 21:29:55</td>\n",
       "      <td>I\"m just getting into running. TBQH a lot of t...</td>\n",
       "      <td>0</td>\n",
       "      <td>0.040</td>\n",
       "      <td>0.884</td>\n",
       "      <td>0.076</td>\n",
       "      <td>0.6134</td>\n",
       "    </tr>\n",
       "    <tr>\n",
       "      <th>1</th>\n",
       "      <td>9767</td>\n",
       "      <td>running</td>\n",
       "      <td>One day I hope to run a sub 3 marathon. I know...</td>\n",
       "      <td>Training advice?</td>\n",
       "      <td>lilteezybaby117</td>\n",
       "      <td>1610054062</td>\n",
       "      <td>2021-01-07 21:14:22</td>\n",
       "      <td>One day I hope to run a sub   marathon. I know...</td>\n",
       "      <td>0</td>\n",
       "      <td>0.032</td>\n",
       "      <td>0.838</td>\n",
       "      <td>0.130</td>\n",
       "      <td>0.9696</td>\n",
       "    </tr>\n",
       "    <tr>\n",
       "      <th>2</th>\n",
       "      <td>9768</td>\n",
       "      <td>running</td>\n",
       "      <td>Hi,\\n\\nI wear size 45 (EU Size) for my Convers...</td>\n",
       "      <td>What size should running shoes be?</td>\n",
       "      <td>Emil_1996</td>\n",
       "      <td>1610053837</td>\n",
       "      <td>2021-01-07 21:10:37</td>\n",
       "      <td>Hi,  I wear size   (EU Size) for my Converse A...</td>\n",
       "      <td>0</td>\n",
       "      <td>0.037</td>\n",
       "      <td>0.771</td>\n",
       "      <td>0.192</td>\n",
       "      <td>0.9050</td>\n",
       "    </tr>\n",
       "  </tbody>\n",
       "</table>\n",
       "</div>"
      ],
      "text/plain": [
       "   index subreddit                                           selftext  \\\n",
       "0   9766   running  I\"m just getting into running. TBQH a lot of t...   \n",
       "1   9767   running  One day I hope to run a sub 3 marathon. I know...   \n",
       "2   9768   running  Hi,\\n\\nI wear size 45 (EU Size) for my Convers...   \n",
       "\n",
       "                                               title           author  \\\n",
       "0  Do you try to beat your personal record everyt...    theRealLOCURO   \n",
       "1                                   Training advice?  lilteezybaby117   \n",
       "2                 What size should running shoes be?        Emil_1996   \n",
       "\n",
       "   created_utc         created_date  \\\n",
       "0   1610054995  2021-01-07 21:29:55   \n",
       "1   1610054062  2021-01-07 21:14:22   \n",
       "2   1610053837  2021-01-07 21:10:37   \n",
       "\n",
       "                                            all_text  class    neg    neu  \\\n",
       "0  I\"m just getting into running. TBQH a lot of t...      0  0.040  0.884   \n",
       "1  One day I hope to run a sub   marathon. I know...      0  0.032  0.838   \n",
       "2  Hi,  I wear size   (EU Size) for my Converse A...      0  0.037  0.771   \n",
       "\n",
       "     pos  compound  \n",
       "0  0.076    0.6134  \n",
       "1  0.130    0.9696  \n",
       "2  0.192    0.9050  "
      ]
     },
     "execution_count": 39,
     "metadata": {},
     "output_type": "execute_result"
    }
   ],
   "source": [
    "running_df['neg'] = [sent.polarity_scores(post)['neg'] for post in running_df['all_text']]\n",
    "running_df['neu'] = [sent.polarity_scores(post)['neu'] for post in running_df['all_text']]\n",
    "running_df['pos'] = [sent.polarity_scores(post)['pos'] for post in running_df['all_text']]\n",
    "running_df['compound'] = [sent.polarity_scores(post)['compound'] for post in running_df['all_text']]\n",
    "running_df.head(3)"
   ]
  },
  {
   "cell_type": "code",
   "execution_count": 40,
   "metadata": {},
   "outputs": [
    {
     "data": {
      "text/html": [
       "<div>\n",
       "<style scoped>\n",
       "    .dataframe tbody tr th:only-of-type {\n",
       "        vertical-align: middle;\n",
       "    }\n",
       "\n",
       "    .dataframe tbody tr th {\n",
       "        vertical-align: top;\n",
       "    }\n",
       "\n",
       "    .dataframe thead th {\n",
       "        text-align: right;\n",
       "    }\n",
       "</style>\n",
       "<table border=\"1\" class=\"dataframe\">\n",
       "  <thead>\n",
       "    <tr style=\"text-align: right;\">\n",
       "      <th></th>\n",
       "      <th>Negative</th>\n",
       "      <th>Neutral</th>\n",
       "      <th>Positive</th>\n",
       "      <th>Compound</th>\n",
       "    </tr>\n",
       "  </thead>\n",
       "  <tbody>\n",
       "    <tr>\n",
       "      <th>Ask Culinary</th>\n",
       "      <td>0.041164</td>\n",
       "      <td>0.854365</td>\n",
       "      <td>0.104473</td>\n",
       "      <td>0.403660</td>\n",
       "    </tr>\n",
       "    <tr>\n",
       "      <th>running</th>\n",
       "      <td>0.062230</td>\n",
       "      <td>0.816841</td>\n",
       "      <td>0.120933</td>\n",
       "      <td>0.378753</td>\n",
       "    </tr>\n",
       "  </tbody>\n",
       "</table>\n",
       "</div>"
      ],
      "text/plain": [
       "              Negative   Neutral  Positive  Compound\n",
       "Ask Culinary  0.041164  0.854365  0.104473  0.403660\n",
       "running       0.062230  0.816841  0.120933  0.378753"
      ]
     },
     "execution_count": 40,
     "metadata": {},
     "output_type": "execute_result"
    }
   ],
   "source": [
    "# print(f'Average of running scores {round(running_df[\"neg\"].mean(), 4)*100 }% negative \\n')\n",
    "# print(f'Average of running scores { running_df[\"neu\"].mean()*100:{4}.{4}}% neutral \\n')\n",
    "# print(f'Average of running scores {round(running_df[\"pos\"].mean(), 4)*100 }% positive\\n')\n",
    "# print(f'Average of running compound scores {round(running_df[\"compound\"].mean(), 4)*100 }% \\n')\n",
    "\n",
    "# This tip was helpful in adding the new row of running data\n",
    "#https://pythonexamples.org/pandas-dataframe-add-append-row/\n",
    "    \n",
    "df_scores.loc['running'] = [running_df[\"neg\"].mean(),\n",
    "                            running_df[\"neu\"].mean(),\n",
    "                            running_df[\"pos\"].mean(),\n",
    "                            running_df[\"compound\"].mean()\n",
    "                           ]\n",
    "\n",
    "df_scores.head()"
   ]
  },
  {
   "cell_type": "markdown",
   "metadata": {},
   "source": [
    "The Ask Culinary average compound sentiment score for it's posts was higher (40.37%) than the running posts, which had a compound sentiment score of 37.88%.\n",
    "This implies on average the Ask Culinary posts were more positive."
   ]
  },
  {
   "cell_type": "code",
   "execution_count": 41,
   "metadata": {},
   "outputs": [
    {
     "data": {
      "image/png": "[encoded data removed]",
      "text/plain": [
       "<Figure size 720x360 with 1 Axes>"
      ]
     },
     "metadata": {
      "needs_background": "light"
     },
     "output_type": "display_data"
    }
   ],
   "source": [
    "ax = df_scores.T.plot(kind='bar', cmap=\"crest\", figsize=(10,5));\n",
    "\n",
    "ax.set_title(\"Average Subreddit Sentiment Scores For All Posts\",fontsize=20)\n",
    "ax.set_xlabel(\"Sentiment Ratings\",fontsize=20)\n",
    "ax.set_ylabel(\"Sentiment Scores\",fontsize=20)\n",
    "ax.tick_params(labelsize=15)\n",
    "plt.setp(ax.get_legend().get_texts(), fontsize='20')\n",
    "plt.setp(ax.get_legend().get_title(), fontsize='20')\n",
    "\n",
    "sns.set_style(\"white\")\n",
    "ax.grid(False)"
   ]
  },
  {
   "cell_type": "code",
   "execution_count": 42,
   "metadata": {},
   "outputs": [
    {
     "data": {
      "image/png": "[encoded data removed]",
      "text/plain": [
       "<Figure size 720x432 with 1 Axes>"
      ]
     },
     "metadata": {},
     "output_type": "display_data"
    }
   ],
   "source": [
    "fig_dims = (10, 6)\n",
    "fig, ax = plt.subplots(figsize=fig_dims)\n",
    "\n",
    "ax = sns.histplot(x='compound', data=culinary_df, ax=ax, color='darkseagreen')\n",
    "\n",
    "ax.set_title(\"Ask Culinary Compound Sentiment Score Distribution\\nSelf Text and Post Title\",fontsize=20)\n",
    "ax.set_xlabel(\"Max Negative Sentiment   Neutral Sentiment   Max Positive Sentiment\",fontsize=15)\n",
    "ax.set_ylabel(\"Number of Posts\",fontsize=20)\n",
    "ax.tick_params(labelsize=15)\n"
   ]
  },
  {
   "cell_type": "code",
   "execution_count": 43,
   "metadata": {},
   "outputs": [
    {
     "data": {
      "image/png": "[encoded data removed]",
      "text/plain": [
       "<Figure size 720x432 with 1 Axes>"
      ]
     },
     "metadata": {},
     "output_type": "display_data"
    }
   ],
   "source": [
    "fig_dims = (10, 6)\n",
    "fig, ax = plt.subplots(figsize=fig_dims)\n",
    "\n",
    "ax = sns.histplot(x='compound', data=running_df, ax=ax, color='navy')\n",
    "\n",
    "ax.set_title(\"Running Compound Sentiment Score Distribution\\nSelf Text and Post Title\",fontsize=20)\n",
    "ax.set_xlabel(\"Max Negative Sentiment   Neutral Sentiment   Max Positive Sentiment\",fontsize=15)\n",
    "ax.set_ylabel(\"Number of Posts\",fontsize=20)\n",
    "ax.tick_params(labelsize=15)"
   ]
  },
  {
   "cell_type": "markdown",
   "metadata": {},
   "source": [
    "The running posts actually did have more posts with a positive score, but the higher number of negative posts brought the total score lower than the Ask Culinary posts."
   ]
  },
  {
   "cell_type": "code",
   "execution_count": null,
   "metadata": {},
   "outputs": [],
   "source": []
  },
  {
   "cell_type": "markdown",
   "metadata": {},
   "source": [
    "#### Create Word Vectorizer to analyze 16_000 posts and compare overall negativity (i.e. negative sentiment scores).\n",
    "\n",
    "Use sklearn's default collection of English stop words as a starting point, but add a few terms that would not be useful.\n",
    "\n",
    "Add stop words that might be measurements for recipes, and distance for running (km).\n",
    "\n",
    "The terms **run** and **running** were very common, as one would expect, in the running posts, so add to the list of stop words.\n",
    "\n",
    "From 02.EDA, the terms **like** and **just** were the two most popular terms, but do not add value, so also add to the list of stop words."
   ]
  },
  {
   "cell_type": "code",
   "execution_count": 44,
   "metadata": {},
   "outputs": [],
   "source": [
    "# hat tip to for adding custom stop words : https://stackoverflow.com/a/24386751/732396\n",
    "\n",
    "# after sorting through a lot of highly negative words, the term 'fu' came up, so will add to the list of stop words.\n",
    "more_stop_words = ['oz', 'cups', 'km', 'run', 'running', 'like','just','fu']\n",
    "stop_words_list = text.ENGLISH_STOP_WORDS.union(more_stop_words)"
   ]
  },
  {
   "cell_type": "code",
   "execution_count": 45,
   "metadata": {},
   "outputs": [
    {
     "name": "stdout",
     "output_type": "stream",
     "text": [
      "There are 318 words in sklearn's default stop word file.\n"
     ]
    }
   ],
   "source": [
    "print (f'There are {len(text.ENGLISH_STOP_WORDS)} words in sklearn\\'s default stop word file.')"
   ]
  },
  {
   "cell_type": "code",
   "execution_count": 46,
   "metadata": {},
   "outputs": [
    {
     "data": {
      "text/plain": [
       "['a',\n",
       " 'about',\n",
       " 'above',\n",
       " 'across',\n",
       " 'after',\n",
       " 'afterwards',\n",
       " 'again',\n",
       " 'against',\n",
       " 'all',\n",
       " 'almost',\n",
       " 'alone',\n",
       " 'along',\n",
       " 'already']"
      ]
     },
     "execution_count": 46,
     "metadata": {},
     "output_type": "execute_result"
    }
   ],
   "source": [
    "sorted(stop_words_list)[0:13]"
   ]
  },
  {
   "cell_type": "markdown",
   "metadata": {},
   "source": [
    "The word **'alone'** is in the default stop words file, but this is something I am trying to research for my problem statement. So remove it from the list of stop_words.\n",
    "\n",
    "The sklearn ENGLISH_STOP_WORDS is a frozenset, so a value can not be easily removed.<br>\n",
    "Instead, make a copy into a new list, then remove the word 'alone'."
   ]
  },
  {
   "cell_type": "code",
   "execution_count": 47,
   "metadata": {},
   "outputs": [],
   "source": [
    "unfrozen_stop_words = [word for word in stop_words_list]\n",
    "unfrozen_stop_words.remove('alone')"
   ]
  },
  {
   "cell_type": "code",
   "execution_count": 48,
   "metadata": {},
   "outputs": [
    {
     "name": "stdout",
     "output_type": "stream",
     "text": [
      "After adjustments, there are now 325 stop words the CountVectorizer will not include.\n"
     ]
    }
   ],
   "source": [
    "print(f'After adjustments, there are now {len(unfrozen_stop_words)} stop words the CountVectorizer will not include.')"
   ]
  },
  {
   "cell_type": "markdown",
   "metadata": {},
   "source": [
    "Analyze the sentiment of the stop word list:"
   ]
  },
  {
   "cell_type": "code",
   "execution_count": 49,
   "metadata": {},
   "outputs": [],
   "source": [
    "stop_word_sentence = ' '.join([word for word in text.ENGLISH_STOP_WORDS])\n",
    "#stop_word_sentence"
   ]
  },
  {
   "cell_type": "code",
   "execution_count": 50,
   "metadata": {},
   "outputs": [
    {
     "data": {
      "text/plain": [
       "{'neg': 0.035, 'neu': 0.924, 'pos': 0.041, 'compound': 0.2354}"
      ]
     },
     "execution_count": 50,
     "metadata": {},
     "output_type": "execute_result"
    }
   ],
   "source": [
    "sent.polarity_scores(stop_word_sentence)"
   ]
  },
  {
   "cell_type": "markdown",
   "metadata": {},
   "source": [
    "If all 325 default stop words are put into a sentence, it has a slightly positive sentiment. \n",
    "\n",
    "Excluding these words could have an effect on the compound scores of the reddit posts."
   ]
  },
  {
   "cell_type": "code",
   "execution_count": null,
   "metadata": {},
   "outputs": [],
   "source": []
  },
  {
   "cell_type": "code",
   "execution_count": 51,
   "metadata": {},
   "outputs": [
    {
     "data": {
      "text/plain": [
       "(9766, 12)"
      ]
     },
     "execution_count": 51,
     "metadata": {},
     "output_type": "execute_result"
    }
   ],
   "source": [
    "culinary_df.shape"
   ]
  },
  {
   "cell_type": "code",
   "execution_count": 52,
   "metadata": {},
   "outputs": [
    {
     "data": {
      "text/html": [
       "<div>\n",
       "<style scoped>\n",
       "    .dataframe tbody tr th:only-of-type {\n",
       "        vertical-align: middle;\n",
       "    }\n",
       "\n",
       "    .dataframe tbody tr th {\n",
       "        vertical-align: top;\n",
       "    }\n",
       "\n",
       "    .dataframe thead th {\n",
       "        text-align: right;\n",
       "    }\n",
       "</style>\n",
       "<table border=\"1\" class=\"dataframe\">\n",
       "  <thead>\n",
       "    <tr style=\"text-align: right;\">\n",
       "      <th></th>\n",
       "      <th>subreddit</th>\n",
       "      <th>selftext</th>\n",
       "      <th>title</th>\n",
       "      <th>author</th>\n",
       "      <th>created_utc</th>\n",
       "      <th>created_date</th>\n",
       "      <th>all_text</th>\n",
       "      <th>class</th>\n",
       "      <th>neg</th>\n",
       "      <th>neu</th>\n",
       "      <th>pos</th>\n",
       "      <th>compound</th>\n",
       "    </tr>\n",
       "  </thead>\n",
       "  <tbody>\n",
       "    <tr>\n",
       "      <th>5882</th>\n",
       "      <td>AskCulinary</td>\n",
       "      <td>im looking for a place that pays better and ha...</td>\n",
       "      <td>I work at a Midwestern USA gas station/pizza p...</td>\n",
       "      <td>geopjm10</td>\n",
       "      <td>1602041695</td>\n",
       "      <td>2020-10-07 03:34:55</td>\n",
       "      <td>im looking for a place that pays better and ha...</td>\n",
       "      <td>1</td>\n",
       "      <td>0.000</td>\n",
       "      <td>0.706</td>\n",
       "      <td>0.294</td>\n",
       "      <td>0.9062</td>\n",
       "    </tr>\n",
       "    <tr>\n",
       "      <th>2337</th>\n",
       "      <td>AskCulinary</td>\n",
       "      <td>I want to make some cakesicles for my kids fri...</td>\n",
       "      <td>What tempered chocolate is best to use to make...</td>\n",
       "      <td>lolalaughed</td>\n",
       "      <td>1607388315</td>\n",
       "      <td>2020-12-08 00:45:15</td>\n",
       "      <td>I want to make some cakesicles for my kids fri...</td>\n",
       "      <td>1</td>\n",
       "      <td>0.029</td>\n",
       "      <td>0.721</td>\n",
       "      <td>0.250</td>\n",
       "      <td>0.9062</td>\n",
       "    </tr>\n",
       "    <tr>\n",
       "      <th>5213</th>\n",
       "      <td>AskCulinary</td>\n",
       "      <td>I’ve been making lot of pizza recently, but fr...</td>\n",
       "      <td>How to add ‘sourness’ to pizza?</td>\n",
       "      <td>lexpi</td>\n",
       "      <td>1603085866</td>\n",
       "      <td>2020-10-19 05:37:46</td>\n",
       "      <td>I have been making lot of pizza recently, but ...</td>\n",
       "      <td>1</td>\n",
       "      <td>0.000</td>\n",
       "      <td>0.865</td>\n",
       "      <td>0.135</td>\n",
       "      <td>0.9062</td>\n",
       "    </tr>\n",
       "  </tbody>\n",
       "</table>\n",
       "</div>"
      ],
      "text/plain": [
       "        subreddit                                           selftext  \\\n",
       "5882  AskCulinary  im looking for a place that pays better and ha...   \n",
       "2337  AskCulinary  I want to make some cakesicles for my kids fri...   \n",
       "5213  AskCulinary  I’ve been making lot of pizza recently, but fr...   \n",
       "\n",
       "                                                  title       author  \\\n",
       "5882  I work at a Midwestern USA gas station/pizza p...     geopjm10   \n",
       "2337  What tempered chocolate is best to use to make...  lolalaughed   \n",
       "5213                    How to add ‘sourness’ to pizza?        lexpi   \n",
       "\n",
       "      created_utc         created_date  \\\n",
       "5882   1602041695  2020-10-07 03:34:55   \n",
       "2337   1607388315  2020-12-08 00:45:15   \n",
       "5213   1603085866  2020-10-19 05:37:46   \n",
       "\n",
       "                                               all_text  class    neg    neu  \\\n",
       "5882  im looking for a place that pays better and ha...      1  0.000  0.706   \n",
       "2337  I want to make some cakesicles for my kids fri...      1  0.029  0.721   \n",
       "5213  I have been making lot of pizza recently, but ...      1  0.000  0.865   \n",
       "\n",
       "        pos  compound  \n",
       "5882  0.294    0.9062  \n",
       "2337  0.250    0.9062  \n",
       "5213  0.135    0.9062  "
      ]
     },
     "execution_count": 52,
     "metadata": {},
     "output_type": "execute_result"
    }
   ],
   "source": [
    "# First idea was just take the most 300 posts, but later decided to go with 8_000 for each\n",
    "culinary_neg_posts = culinary_df.sort_values(by='compound')[0:8000]\n",
    "culinary_neg_posts.tail(3)"
   ]
  },
  {
   "cell_type": "code",
   "execution_count": 53,
   "metadata": {},
   "outputs": [
    {
     "data": {
      "text/plain": [
       "'Hi I just failed my first try to make poached eggs and I do not know where it went wrong.      So I brought the water to boil and then I decreased the temperature and waited until the water wasn’t boing but only had like tiny bubbles I gave the water a twirl and put in (from a cup) the egg. But instead of the egg white wrapping itself around the yolk, the two just got separated and I got bits of egg white swimming in the pot  and the yolk swimming in the water all alone.        Where might it have gone wrong? The only things I could think of that maybe the water was too cold/hot or that I haven’t used a fresh egg as recommended. Just failed my first try to make poached eggs. Egg white just got seperated from the yolk. Where might it have gone wrong?'"
      ]
     },
     "execution_count": 53,
     "metadata": {},
     "output_type": "execute_result"
    }
   ],
   "source": [
    "lone_culinary_df = culinary_neg_posts[culinary_neg_posts['all_text'].str.contains('lone', regex=False)]\n",
    "lone_culinary_df.iloc[0]['all_text']"
   ]
  },
  {
   "cell_type": "markdown",
   "metadata": {},
   "source": [
    "#### Create CountVectorizer"
   ]
  },
  {
   "cell_type": "code",
   "execution_count": 54,
   "metadata": {},
   "outputs": [
    {
     "data": {
      "text/html": [
       "<div>\n",
       "<style scoped>\n",
       "    .dataframe tbody tr th:only-of-type {\n",
       "        vertical-align: middle;\n",
       "    }\n",
       "\n",
       "    .dataframe tbody tr th {\n",
       "        vertical-align: top;\n",
       "    }\n",
       "\n",
       "    .dataframe thead th {\n",
       "        text-align: right;\n",
       "    }\n",
       "</style>\n",
       "<table border=\"1\" class=\"dataframe\">\n",
       "  <thead>\n",
       "    <tr style=\"text-align: right;\">\n",
       "      <th></th>\n",
       "      <th>aa</th>\n",
       "      <th>aahu</th>\n",
       "      <th>aaron</th>\n",
       "      <th>abdomen</th>\n",
       "      <th>abiding</th>\n",
       "      <th>ability</th>\n",
       "      <th>abit</th>\n",
       "      <th>able</th>\n",
       "      <th>abnb</th>\n",
       "      <th>abnormal</th>\n",
       "      <th>...</th>\n",
       "      <th>ひだまりクッキング</th>\n",
       "      <th>五香粉</th>\n",
       "      <th>北京烤鴨</th>\n",
       "      <th>半筋半肉</th>\n",
       "      <th>牛腩</th>\n",
       "      <th>牛腱子</th>\n",
       "      <th>花椒</th>\n",
       "      <th>草果</th>\n",
       "      <th>갈비찜</th>\n",
       "      <th>진간장</th>\n",
       "    </tr>\n",
       "  </thead>\n",
       "  <tbody>\n",
       "    <tr>\n",
       "      <th>0</th>\n",
       "      <td>0</td>\n",
       "      <td>0</td>\n",
       "      <td>0</td>\n",
       "      <td>0</td>\n",
       "      <td>0</td>\n",
       "      <td>0</td>\n",
       "      <td>0</td>\n",
       "      <td>0</td>\n",
       "      <td>0</td>\n",
       "      <td>0</td>\n",
       "      <td>...</td>\n",
       "      <td>0</td>\n",
       "      <td>0</td>\n",
       "      <td>0</td>\n",
       "      <td>0</td>\n",
       "      <td>0</td>\n",
       "      <td>0</td>\n",
       "      <td>0</td>\n",
       "      <td>0</td>\n",
       "      <td>0</td>\n",
       "      <td>0</td>\n",
       "    </tr>\n",
       "    <tr>\n",
       "      <th>1</th>\n",
       "      <td>0</td>\n",
       "      <td>0</td>\n",
       "      <td>0</td>\n",
       "      <td>0</td>\n",
       "      <td>0</td>\n",
       "      <td>0</td>\n",
       "      <td>0</td>\n",
       "      <td>1</td>\n",
       "      <td>0</td>\n",
       "      <td>0</td>\n",
       "      <td>...</td>\n",
       "      <td>0</td>\n",
       "      <td>0</td>\n",
       "      <td>0</td>\n",
       "      <td>0</td>\n",
       "      <td>0</td>\n",
       "      <td>0</td>\n",
       "      <td>0</td>\n",
       "      <td>0</td>\n",
       "      <td>0</td>\n",
       "      <td>0</td>\n",
       "    </tr>\n",
       "    <tr>\n",
       "      <th>2</th>\n",
       "      <td>0</td>\n",
       "      <td>0</td>\n",
       "      <td>0</td>\n",
       "      <td>0</td>\n",
       "      <td>0</td>\n",
       "      <td>0</td>\n",
       "      <td>0</td>\n",
       "      <td>0</td>\n",
       "      <td>0</td>\n",
       "      <td>0</td>\n",
       "      <td>...</td>\n",
       "      <td>0</td>\n",
       "      <td>0</td>\n",
       "      <td>0</td>\n",
       "      <td>0</td>\n",
       "      <td>0</td>\n",
       "      <td>0</td>\n",
       "      <td>0</td>\n",
       "      <td>0</td>\n",
       "      <td>0</td>\n",
       "      <td>0</td>\n",
       "    </tr>\n",
       "  </tbody>\n",
       "</table>\n",
       "<p>3 rows × 16270 columns</p>\n",
       "</div>"
      ],
      "text/plain": [
       "   aa  aahu  aaron  abdomen  abiding  ability  abit  able  abnb  abnormal  \\\n",
       "0   0     0      0        0        0        0     0     0     0         0   \n",
       "1   0     0      0        0        0        0     0     1     0         0   \n",
       "2   0     0      0        0        0        0     0     0     0         0   \n",
       "\n",
       "   ...  ひだまりクッキング  五香粉  北京烤鴨  半筋半肉  牛腩  牛腱子  花椒  草果  갈비찜  진간장  \n",
       "0  ...          0    0     0     0   0    0   0   0    0    0  \n",
       "1  ...          0    0     0     0   0    0   0   0    0    0  \n",
       "2  ...          0    0     0     0   0    0   0   0    0    0  \n",
       "\n",
       "[3 rows x 16270 columns]"
      ]
     },
     "execution_count": 54,
     "metadata": {},
     "output_type": "execute_result"
    }
   ],
   "source": [
    "# use the new set of stop words (which does NOT include 'alone')\n",
    "count_vec_culinary_neg = CountVectorizer(stop_words = unfrozen_stop_words)\n",
    "count_vec_culinary_neg.fit(culinary_neg_posts['all_text'])\n",
    "\n",
    "cul_neg_posts_matrix = count_vec_culinary_neg.transform(culinary_neg_posts['all_text'])\n",
    "\n",
    "# Code borrowed from lesson 5.04\n",
    "# convert training data to dataframe\n",
    "culinary_neg_words_df = pd.DataFrame(cul_neg_posts_matrix.todense(), columns = count_vec_culinary_neg.get_feature_names())\n",
    "\n",
    "culinary_neg_words_df.head(3)"
   ]
  },
  {
   "cell_type": "code",
   "execution_count": 55,
   "metadata": {},
   "outputs": [
    {
     "name": "stdout",
     "output_type": "stream",
     "text": [
      "There are 7519 words in the VADER lexicon.\n",
      "Try to find a match of the 16270 words found in the Ask Culinary posts.\n"
     ]
    }
   ],
   "source": [
    "print (f'There are {vader_lexicon.shape[0]} words in the VADER lexicon.' )\n",
    "print (f'Try to find a match of the {culinary_neg_words_df.shape[1]} words found in the Ask Culinary posts.' )"
   ]
  },
  {
   "cell_type": "markdown",
   "metadata": {},
   "source": [
    "Per lesson 5.04, summing the count vector dataframe creates a Series of word counts.  Its index contains the words themselves:"
   ]
  },
  {
   "cell_type": "code",
   "execution_count": 56,
   "metadata": {},
   "outputs": [
    {
     "data": {
      "text/plain": [
       "make            2960\n",
       "use             2336\n",
       "recipe          2021\n",
       "chicken         1691\n",
       "does            1567\n",
       "                ... \n",
       "maraschino         1\n",
       "manwich            1\n",
       "manufactures       1\n",
       "manufactors        1\n",
       "aa                 1\n",
       "Length: 16270, dtype: int64"
      ]
     },
     "execution_count": 56,
     "metadata": {},
     "output_type": "execute_result"
    }
   ],
   "source": [
    "culinary_neg_words_df.sum().sort_values(ascending=False)"
   ]
  },
  {
   "cell_type": "code",
   "execution_count": 57,
   "metadata": {},
   "outputs": [
    {
     "data": {
      "text/plain": [
       "Index(['make', 'use', 'recipe', 'chicken', 'does', 'time', 'cooking', 'know',\n",
       "       'making', 'cook',\n",
       "       ...\n",
       "       'margarhita', 'marcato', 'mantecare', 'maraville', 'marathon',\n",
       "       'maraschino', 'manwich', 'manufactures', 'manufactors', 'aa'],\n",
       "      dtype='object', length=16270)"
      ]
     },
     "execution_count": 57,
     "metadata": {},
     "output_type": "execute_result"
    }
   ],
   "source": [
    "#Started with the idea of just getting the most common 500 words, but instead just get all words in the reddit posts.\n",
    "\n",
    "common_cul_neg_words = culinary_neg_words_df.sum().sort_values(ascending=False)\n",
    "common_cul_neg_words.index"
   ]
  },
  {
   "cell_type": "markdown",
   "metadata": {},
   "source": [
    "For each word in the subreddit posts, try to see if a sentiment value exists. If not a word is considered neutral."
   ]
  },
  {
   "cell_type": "code",
   "execution_count": 58,
   "metadata": {},
   "outputs": [
    {
     "name": "stdout",
     "output_type": "stream",
     "text": [
      "Found 1510 Ask Culinary words in the VADER lexicon.\n"
     ]
    },
    {
     "data": {
      "text/html": [
       "<div>\n",
       "<style scoped>\n",
       "    .dataframe tbody tr th:only-of-type {\n",
       "        vertical-align: middle;\n",
       "    }\n",
       "\n",
       "    .dataframe tbody tr th {\n",
       "        vertical-align: top;\n",
       "    }\n",
       "\n",
       "    .dataframe thead th {\n",
       "        text-align: right;\n",
       "    }\n",
       "</style>\n",
       "<table border=\"1\" class=\"dataframe\">\n",
       "  <thead>\n",
       "    <tr style=\"text-align: right;\">\n",
       "      <th></th>\n",
       "      <th>word</th>\n",
       "    </tr>\n",
       "  </thead>\n",
       "  <tbody>\n",
       "    <tr>\n",
       "      <th>0</th>\n",
       "      <td>want</td>\n",
       "    </tr>\n",
       "    <tr>\n",
       "      <th>1</th>\n",
       "      <td>good</td>\n",
       "    </tr>\n",
       "    <tr>\n",
       "      <th>2</th>\n",
       "      <td>help</td>\n",
       "    </tr>\n",
       "    <tr>\n",
       "      <th>3</th>\n",
       "      <td>thanks</td>\n",
       "    </tr>\n",
       "    <tr>\n",
       "      <th>4</th>\n",
       "      <td>sure</td>\n",
       "    </tr>\n",
       "  </tbody>\n",
       "</table>\n",
       "</div>"
      ],
      "text/plain": [
       "     word\n",
       "0    want\n",
       "1    good\n",
       "2    help\n",
       "3  thanks\n",
       "4    sure"
      ]
     },
     "execution_count": 58,
     "metadata": {},
     "output_type": "execute_result"
    }
   ],
   "source": [
    "found_cul_neg_words = pd.DataFrame([ word for word in list(common_cul_neg_words.index) if word in list(vader_lexicon['token'])] , columns =['word']) \n",
    "print (f'Found {found_cul_neg_words.shape[0]} Ask Culinary words in the VADER lexicon.')\n",
    "found_cul_neg_words.head()"
   ]
  },
  {
   "cell_type": "markdown",
   "metadata": {},
   "source": [
    "If a word is found in the VADER lexicon, add its average rating (-4 for most negative, +4 for most positive)"
   ]
  },
  {
   "cell_type": "code",
   "execution_count": 59,
   "metadata": {},
   "outputs": [
    {
     "data": {
      "text/html": [
       "<div>\n",
       "<style scoped>\n",
       "    .dataframe tbody tr th:only-of-type {\n",
       "        vertical-align: middle;\n",
       "    }\n",
       "\n",
       "    .dataframe tbody tr th {\n",
       "        vertical-align: top;\n",
       "    }\n",
       "\n",
       "    .dataframe thead th {\n",
       "        text-align: right;\n",
       "    }\n",
       "</style>\n",
       "<table border=\"1\" class=\"dataframe\">\n",
       "  <thead>\n",
       "    <tr style=\"text-align: right;\">\n",
       "      <th></th>\n",
       "      <th>word</th>\n",
       "      <th>rating</th>\n",
       "    </tr>\n",
       "  </thead>\n",
       "  <tbody>\n",
       "    <tr>\n",
       "      <th>0</th>\n",
       "      <td>want</td>\n",
       "      <td>0.3</td>\n",
       "    </tr>\n",
       "    <tr>\n",
       "      <th>1</th>\n",
       "      <td>good</td>\n",
       "      <td>1.9</td>\n",
       "    </tr>\n",
       "    <tr>\n",
       "      <th>2</th>\n",
       "      <td>help</td>\n",
       "      <td>1.7</td>\n",
       "    </tr>\n",
       "    <tr>\n",
       "      <th>3</th>\n",
       "      <td>thanks</td>\n",
       "      <td>1.9</td>\n",
       "    </tr>\n",
       "    <tr>\n",
       "      <th>4</th>\n",
       "      <td>sure</td>\n",
       "      <td>1.3</td>\n",
       "    </tr>\n",
       "  </tbody>\n",
       "</table>\n",
       "</div>"
      ],
      "text/plain": [
       "     word  rating\n",
       "0    want     0.3\n",
       "1    good     1.9\n",
       "2    help     1.7\n",
       "3  thanks     1.9\n",
       "4    sure     1.3"
      ]
     },
     "execution_count": 59,
     "metadata": {},
     "output_type": "execute_result"
    }
   ],
   "source": [
    "found_cul_neg_words['rating'] = [vader_lexicon[vader_lexicon['token'] == word]['mean_sentiment_rating'].values[0] for word in found_cul_neg_words['word']]\n",
    "\n",
    "# Sorting the words by most negative words in the lexicon displays some truly horrible words, so will not print out here.\n",
    "#found_cul_neg_words.sort_values(by='rating', inplace=True, ignore_index=True)\n",
    "\n",
    "found_cul_neg_words.head()"
   ]
  },
  {
   "cell_type": "code",
   "execution_count": 60,
   "metadata": {},
   "outputs": [
    {
     "name": "stdout",
     "output_type": "stream",
     "text": [
      "Of the 1510 words founds with a sentiment rating, 852 had a negative rating.\n"
     ]
    }
   ],
   "source": [
    "print (f'Of the {found_cul_neg_words.shape[0]} words founds with a sentiment rating, {sum(found_cul_neg_words[\"rating\"]<0)} had a negative rating.' )"
   ]
  },
  {
   "cell_type": "markdown",
   "metadata": {},
   "source": [
    "Find all words in Ask Culinary posts that contain word fragment of **lone**"
   ]
  },
  {
   "cell_type": "code",
   "execution_count": 61,
   "metadata": {},
   "outputs": [
    {
     "data": {
      "text/html": [
       "<div>\n",
       "<style scoped>\n",
       "    .dataframe tbody tr th:only-of-type {\n",
       "        vertical-align: middle;\n",
       "    }\n",
       "\n",
       "    .dataframe tbody tr th {\n",
       "        vertical-align: top;\n",
       "    }\n",
       "\n",
       "    .dataframe thead th {\n",
       "        text-align: right;\n",
       "    }\n",
       "</style>\n",
       "<table border=\"1\" class=\"dataframe\">\n",
       "  <thead>\n",
       "    <tr style=\"text-align: right;\">\n",
       "      <th></th>\n",
       "      <th>rating</th>\n",
       "      <th>count</th>\n",
       "    </tr>\n",
       "    <tr>\n",
       "      <th>word</th>\n",
       "      <th></th>\n",
       "      <th></th>\n",
       "    </tr>\n",
       "  </thead>\n",
       "  <tbody>\n",
       "    <tr>\n",
       "      <th>alone</th>\n",
       "      <td>-1.0</td>\n",
       "      <td>40</td>\n",
       "    </tr>\n",
       "    <tr>\n",
       "      <th>lonely</th>\n",
       "      <td>-1.5</td>\n",
       "      <td>2</td>\n",
       "    </tr>\n",
       "  </tbody>\n",
       "</table>\n",
       "</div>"
      ],
      "text/plain": [
       "        rating  count\n",
       "word                 \n",
       "alone     -1.0     40\n",
       "lonely    -1.5      2"
      ]
     },
     "execution_count": 61,
     "metadata": {},
     "output_type": "execute_result"
    }
   ],
   "source": [
    "lonely_cul_words = found_cul_neg_words[found_cul_neg_words['word'].str.contains('lone', regex=False)].copy()\n",
    "lonely_cul_words['count'] = [common_cul_neg_words [word] for word in lonely_cul_words['word']]\n",
    "lonely_cul_words.set_index('word', inplace=True)\n",
    "lonely_cul_words"
   ]
  },
  {
   "cell_type": "markdown",
   "metadata": {},
   "source": [
    "The word **alone** was found in the Ask Culinary subreddit posts 40 times.  The word **lonely** was found two times."
   ]
  },
  {
   "cell_type": "code",
   "execution_count": 62,
   "metadata": {},
   "outputs": [
    {
     "data": {
      "image/png": "[encoded data removed]",
      "text/plain": [
       "<Figure size 504x288 with 1 Axes>"
      ]
     },
     "metadata": {},
     "output_type": "display_data"
    }
   ],
   "source": [
    "plt.figure(figsize=(7,4))\n",
    "\n",
    "ax = sns.barplot(y ='count', hue = 'rating', x = lonely_cul_words.index, data = lonely_cul_words,\n",
    "            palette = 'Blues', edgecolor = 'w', dodge=False)\n",
    "\n",
    "ax.set_title(\"Word Frequency in 8,000 Ask Culinary Posts\",fontsize=20)\n",
    "ax.set_xlabel(\"Word\",fontsize=20)\n",
    "ax.set_ylabel(\"Count\",fontsize=20)\n",
    "ax.tick_params(labelsize=25)\n",
    "plt.setp(ax.get_legend().get_texts(), fontsize='20')\n",
    "plt.setp(ax.get_legend().get_title(), fontsize='20')\n",
    "\n",
    "ax.text(0,30, '40', ha='center', fontsize=20, color='white')\n",
    "ax.text(1,7, '2', ha='center', fontsize=20, color='gray')\n",
    "\n",
    "sns.despine()\n",
    "\n",
    "plt.show()"
   ]
  },
  {
   "cell_type": "markdown",
   "metadata": {},
   "source": [
    "Repeat all steps to find negative words in most negative running posts"
   ]
  },
  {
   "cell_type": "code",
   "execution_count": 63,
   "metadata": {},
   "outputs": [
    {
     "data": {
      "text/plain": [
       "(8081, 13)"
      ]
     },
     "execution_count": 63,
     "metadata": {},
     "output_type": "execute_result"
    }
   ],
   "source": [
    "running_df.shape"
   ]
  },
  {
   "cell_type": "code",
   "execution_count": 64,
   "metadata": {},
   "outputs": [
    {
     "data": {
      "text/html": [
       "<div>\n",
       "<style scoped>\n",
       "    .dataframe tbody tr th:only-of-type {\n",
       "        vertical-align: middle;\n",
       "    }\n",
       "\n",
       "    .dataframe tbody tr th {\n",
       "        vertical-align: top;\n",
       "    }\n",
       "\n",
       "    .dataframe thead th {\n",
       "        text-align: right;\n",
       "    }\n",
       "</style>\n",
       "<table border=\"1\" class=\"dataframe\">\n",
       "  <thead>\n",
       "    <tr style=\"text-align: right;\">\n",
       "      <th></th>\n",
       "      <th>index</th>\n",
       "      <th>subreddit</th>\n",
       "      <th>selftext</th>\n",
       "      <th>title</th>\n",
       "      <th>author</th>\n",
       "      <th>created_utc</th>\n",
       "      <th>created_date</th>\n",
       "      <th>all_text</th>\n",
       "      <th>class</th>\n",
       "      <th>neg</th>\n",
       "      <th>neu</th>\n",
       "      <th>pos</th>\n",
       "      <th>compound</th>\n",
       "    </tr>\n",
       "  </thead>\n",
       "  <tbody>\n",
       "    <tr>\n",
       "      <th>2024</th>\n",
       "      <td>11790</td>\n",
       "      <td>running</td>\n",
       "      <td>I've been running since August. Smaller distan...</td>\n",
       "      <td>Impromptu Half Marathon (my 1st)</td>\n",
       "      <td>pako1337</td>\n",
       "      <td>1607930409</td>\n",
       "      <td>2020-12-14 07:20:09</td>\n",
       "      <td>I have been running since August. Smaller dist...</td>\n",
       "      <td>0</td>\n",
       "      <td>0.058</td>\n",
       "      <td>0.736</td>\n",
       "      <td>0.206</td>\n",
       "      <td>0.9965</td>\n",
       "    </tr>\n",
       "    <tr>\n",
       "      <th>7612</th>\n",
       "      <td>17378</td>\n",
       "      <td>running</td>\n",
       "      <td>Good morning runners,\\n\\nToday I set out for a...</td>\n",
       "      <td>Alternate ways to check your progress (not che...</td>\n",
       "      <td>Musef</td>\n",
       "      <td>1601901059</td>\n",
       "      <td>2020-10-05 12:30:59</td>\n",
       "      <td>Good morning runners,  Today I set out for a  ...</td>\n",
       "      <td>0</td>\n",
       "      <td>0.005</td>\n",
       "      <td>0.754</td>\n",
       "      <td>0.241</td>\n",
       "      <td>0.9965</td>\n",
       "    </tr>\n",
       "    <tr>\n",
       "      <th>4605</th>\n",
       "      <td>14371</td>\n",
       "      <td>running</td>\n",
       "      <td>Lots of posts be like .. i ran 2 miles without...</td>\n",
       "      <td>Runners need to stop saying they're \"bad\" at r...</td>\n",
       "      <td>miii13</td>\n",
       "      <td>1605050194</td>\n",
       "      <td>2020-11-10 23:16:34</td>\n",
       "      <td>Lots of posts be like .. i ran   miles without...</td>\n",
       "      <td>0</td>\n",
       "      <td>0.022</td>\n",
       "      <td>0.699</td>\n",
       "      <td>0.279</td>\n",
       "      <td>0.9965</td>\n",
       "    </tr>\n",
       "  </tbody>\n",
       "</table>\n",
       "</div>"
      ],
      "text/plain": [
       "      index subreddit                                           selftext  \\\n",
       "2024  11790   running  I've been running since August. Smaller distan...   \n",
       "7612  17378   running  Good morning runners,\\n\\nToday I set out for a...   \n",
       "4605  14371   running  Lots of posts be like .. i ran 2 miles without...   \n",
       "\n",
       "                                                  title    author  \\\n",
       "2024                   Impromptu Half Marathon (my 1st)  pako1337   \n",
       "7612  Alternate ways to check your progress (not che...     Musef   \n",
       "4605  Runners need to stop saying they're \"bad\" at r...    miii13   \n",
       "\n",
       "      created_utc         created_date  \\\n",
       "2024   1607930409  2020-12-14 07:20:09   \n",
       "7612   1601901059  2020-10-05 12:30:59   \n",
       "4605   1605050194  2020-11-10 23:16:34   \n",
       "\n",
       "                                               all_text  class    neg    neu  \\\n",
       "2024  I have been running since August. Smaller dist...      0  0.058  0.736   \n",
       "7612  Good morning runners,  Today I set out for a  ...      0  0.005  0.754   \n",
       "4605  Lots of posts be like .. i ran   miles without...      0  0.022  0.699   \n",
       "\n",
       "        pos  compound  \n",
       "2024  0.206    0.9965  \n",
       "7612  0.241    0.9965  \n",
       "4605  0.279    0.9965  "
      ]
     },
     "execution_count": 64,
     "metadata": {},
     "output_type": "execute_result"
    }
   ],
   "source": [
    "# First idea was just take the most negative 500 posts, but later decided to go with 8_000 for each\n",
    "running_neg_posts = running_df.sort_values(by='compound')[0:8000]\n",
    "running_neg_posts.tail(3)"
   ]
  },
  {
   "cell_type": "code",
   "execution_count": 65,
   "metadata": {},
   "outputs": [
    {
     "data": {
      "text/plain": [
       "(116, 13)"
      ]
     },
     "execution_count": 65,
     "metadata": {},
     "output_type": "execute_result"
    }
   ],
   "source": [
    "running_neg_posts[running_neg_posts['all_text'].str.contains('lone', regex=False)].shape"
   ]
  },
  {
   "cell_type": "markdown",
   "metadata": {},
   "source": [
    "#### Create CountVectorizer"
   ]
  },
  {
   "cell_type": "code",
   "execution_count": 66,
   "metadata": {},
   "outputs": [
    {
     "data": {
      "text/html": [
       "<div>\n",
       "<style scoped>\n",
       "    .dataframe tbody tr th:only-of-type {\n",
       "        vertical-align: middle;\n",
       "    }\n",
       "\n",
       "    .dataframe tbody tr th {\n",
       "        vertical-align: top;\n",
       "    }\n",
       "\n",
       "    .dataframe thead th {\n",
       "        text-align: right;\n",
       "    }\n",
       "</style>\n",
       "<table border=\"1\" class=\"dataframe\">\n",
       "  <thead>\n",
       "    <tr style=\"text-align: right;\">\n",
       "      <th></th>\n",
       "      <th>aa</th>\n",
       "      <th>aaand</th>\n",
       "      <th>ab</th>\n",
       "      <th>ababel</th>\n",
       "      <th>aback</th>\n",
       "      <th>abandon</th>\n",
       "      <th>abandoned</th>\n",
       "      <th>abandoning</th>\n",
       "      <th>abb</th>\n",
       "      <th>abc</th>\n",
       "      <th>...</th>\n",
       "      <th>zoomx</th>\n",
       "      <th>zr</th>\n",
       "      <th>zwift</th>\n",
       "      <th>zyrtec</th>\n",
       "      <th>élévation</th>\n",
       "      <th>œil</th>\n",
       "      <th>και</th>\n",
       "      <th>καλημέρα</th>\n",
       "      <th>καλό</th>\n",
       "      <th>μήνα</th>\n",
       "    </tr>\n",
       "  </thead>\n",
       "  <tbody>\n",
       "    <tr>\n",
       "      <th>0</th>\n",
       "      <td>0</td>\n",
       "      <td>0</td>\n",
       "      <td>0</td>\n",
       "      <td>0</td>\n",
       "      <td>0</td>\n",
       "      <td>0</td>\n",
       "      <td>0</td>\n",
       "      <td>0</td>\n",
       "      <td>0</td>\n",
       "      <td>0</td>\n",
       "      <td>...</td>\n",
       "      <td>0</td>\n",
       "      <td>0</td>\n",
       "      <td>0</td>\n",
       "      <td>0</td>\n",
       "      <td>0</td>\n",
       "      <td>0</td>\n",
       "      <td>0</td>\n",
       "      <td>0</td>\n",
       "      <td>0</td>\n",
       "      <td>0</td>\n",
       "    </tr>\n",
       "    <tr>\n",
       "      <th>1</th>\n",
       "      <td>0</td>\n",
       "      <td>0</td>\n",
       "      <td>0</td>\n",
       "      <td>0</td>\n",
       "      <td>0</td>\n",
       "      <td>0</td>\n",
       "      <td>0</td>\n",
       "      <td>0</td>\n",
       "      <td>0</td>\n",
       "      <td>0</td>\n",
       "      <td>...</td>\n",
       "      <td>0</td>\n",
       "      <td>0</td>\n",
       "      <td>0</td>\n",
       "      <td>0</td>\n",
       "      <td>0</td>\n",
       "      <td>0</td>\n",
       "      <td>0</td>\n",
       "      <td>0</td>\n",
       "      <td>0</td>\n",
       "      <td>0</td>\n",
       "    </tr>\n",
       "    <tr>\n",
       "      <th>2</th>\n",
       "      <td>0</td>\n",
       "      <td>0</td>\n",
       "      <td>0</td>\n",
       "      <td>0</td>\n",
       "      <td>0</td>\n",
       "      <td>0</td>\n",
       "      <td>0</td>\n",
       "      <td>0</td>\n",
       "      <td>0</td>\n",
       "      <td>0</td>\n",
       "      <td>...</td>\n",
       "      <td>0</td>\n",
       "      <td>0</td>\n",
       "      <td>0</td>\n",
       "      <td>0</td>\n",
       "      <td>0</td>\n",
       "      <td>0</td>\n",
       "      <td>0</td>\n",
       "      <td>0</td>\n",
       "      <td>0</td>\n",
       "      <td>0</td>\n",
       "    </tr>\n",
       "  </tbody>\n",
       "</table>\n",
       "<p>3 rows × 17963 columns</p>\n",
       "</div>"
      ],
      "text/plain": [
       "   aa  aaand  ab  ababel  aback  abandon  abandoned  abandoning  abb  abc  \\\n",
       "0   0      0   0       0      0        0          0           0    0    0   \n",
       "1   0      0   0       0      0        0          0           0    0    0   \n",
       "2   0      0   0       0      0        0          0           0    0    0   \n",
       "\n",
       "   ...  zoomx  zr  zwift  zyrtec  élévation  œil  και  καλημέρα  καλό  μήνα  \n",
       "0  ...      0   0      0       0          0    0    0         0     0     0  \n",
       "1  ...      0   0      0       0          0    0    0         0     0     0  \n",
       "2  ...      0   0      0       0          0    0    0         0     0     0  \n",
       "\n",
       "[3 rows x 17963 columns]"
      ]
     },
     "execution_count": 66,
     "metadata": {},
     "output_type": "execute_result"
    }
   ],
   "source": [
    "# use the new set of stop words (which does NOT include 'alone')\n",
    "count_vec_running_neg = CountVectorizer(stop_words = unfrozen_stop_words)\n",
    "\n",
    "count_vec_running_neg.fit(running_neg_posts['all_text'])\n",
    "\n",
    "run_neg_posts_matrix = count_vec_running_neg.transform(running_neg_posts['all_text'])\n",
    "\n",
    "running_neg_words_df = pd.DataFrame(run_neg_posts_matrix.todense(), columns = count_vec_running_neg.get_feature_names())\n",
    "\n",
    "running_neg_words_df.head(3)"
   ]
  },
  {
   "cell_type": "code",
   "execution_count": 67,
   "metadata": {},
   "outputs": [
    {
     "name": "stdout",
     "output_type": "stream",
     "text": [
      "There are 7519 words in the VADER lexicon.\n",
      "Try to find a match of the 17963 words found in the running posts.\n"
     ]
    }
   ],
   "source": [
    "print (f'There are {vader_lexicon.shape[0]} words in the VADER lexicon.' )\n",
    "print (f'Try to find a match of the {running_neg_words_df.shape[1]} words found in the running posts.' )"
   ]
  },
  {
   "cell_type": "markdown",
   "metadata": {},
   "source": [
    "Per lesson 5.04, summing the count vector dataframe creates a Series of word counts.  Its index contains the words themselves:"
   ]
  },
  {
   "cell_type": "code",
   "execution_count": 68,
   "metadata": {},
   "outputs": [
    {
     "data": {
      "text/plain": [
       "time         4076\n",
       "week         3270\n",
       "miles        2876\n",
       "training     2612\n",
       "really       2537\n",
       "             ... \n",
       "roadblock       1\n",
       "fuvking         1\n",
       "rivs            1\n",
       "fz              1\n",
       "μήνα            1\n",
       "Length: 17963, dtype: int64"
      ]
     },
     "execution_count": 68,
     "metadata": {},
     "output_type": "execute_result"
    }
   ],
   "source": [
    "running_neg_words_df.sum().sort_values(ascending=False)"
   ]
  },
  {
   "cell_type": "code",
   "execution_count": 69,
   "metadata": {},
   "outputs": [
    {
     "data": {
      "text/plain": [
       "Index(['time', 'week', 'miles', 'training', 'really', 'mile', 'started',\n",
       "       'runs', 'marathon', 'day',\n",
       "       ...\n",
       "       'fussy', 'fusterated', 'futbol', 'roadhawk', 'futility', 'roadblock',\n",
       "       'fuvking', 'rivs', 'fz', 'μήνα'],\n",
       "      dtype='object', length=17963)"
      ]
     },
     "execution_count": 69,
     "metadata": {},
     "output_type": "execute_result"
    }
   ],
   "source": [
    "#Started with the idea of just getting the most common 500 words, but instead just get all words in the reddit posts.\n",
    "\n",
    "common_run_neg_words = running_neg_words_df.sum().sort_values(ascending=False)\n",
    "common_run_neg_words.index"
   ]
  },
  {
   "cell_type": "markdown",
   "metadata": {},
   "source": [
    "For each word in the subreddit posts, try to see if a sentiment value exists. If not a word is considered neutral."
   ]
  },
  {
   "cell_type": "code",
   "execution_count": 70,
   "metadata": {},
   "outputs": [
    {
     "name": "stdout",
     "output_type": "stream",
     "text": [
      "Found 2096 running words in the VADER lexicon.\n"
     ]
    },
    {
     "data": {
      "text/html": [
       "<div>\n",
       "<style scoped>\n",
       "    .dataframe tbody tr th:only-of-type {\n",
       "        vertical-align: middle;\n",
       "    }\n",
       "\n",
       "    .dataframe tbody tr th {\n",
       "        vertical-align: top;\n",
       "    }\n",
       "\n",
       "    .dataframe thead th {\n",
       "        text-align: right;\n",
       "    }\n",
       "</style>\n",
       "<table border=\"1\" class=\"dataframe\">\n",
       "  <thead>\n",
       "    <tr style=\"text-align: right;\">\n",
       "      <th></th>\n",
       "      <th>word</th>\n",
       "    </tr>\n",
       "  </thead>\n",
       "  <tbody>\n",
       "    <tr>\n",
       "      <th>0</th>\n",
       "      <td>pain</td>\n",
       "    </tr>\n",
       "    <tr>\n",
       "      <th>1</th>\n",
       "      <td>good</td>\n",
       "    </tr>\n",
       "    <tr>\n",
       "      <th>2</th>\n",
       "      <td>want</td>\n",
       "    </tr>\n",
       "    <tr>\n",
       "      <th>3</th>\n",
       "      <td>help</td>\n",
       "    </tr>\n",
       "    <tr>\n",
       "      <th>4</th>\n",
       "      <td>thanks</td>\n",
       "    </tr>\n",
       "  </tbody>\n",
       "</table>\n",
       "</div>"
      ],
      "text/plain": [
       "     word\n",
       "0    pain\n",
       "1    good\n",
       "2    want\n",
       "3    help\n",
       "4  thanks"
      ]
     },
     "execution_count": 70,
     "metadata": {},
     "output_type": "execute_result"
    }
   ],
   "source": [
    "found_run_neg_words = pd.DataFrame([ word for word in list(common_run_neg_words.index) if word in list(vader_lexicon['token'])] , columns =['word']) \n",
    "print (f'Found {found_run_neg_words.shape[0]} running words in the VADER lexicon.')\n",
    "found_run_neg_words.head()"
   ]
  },
  {
   "cell_type": "markdown",
   "metadata": {},
   "source": [
    "If a word is found in the VADER lexicon, add its average rating (-4 for most negative, +4 for most positive)"
   ]
  },
  {
   "cell_type": "code",
   "execution_count": 71,
   "metadata": {},
   "outputs": [
    {
     "data": {
      "text/html": [
       "<div>\n",
       "<style scoped>\n",
       "    .dataframe tbody tr th:only-of-type {\n",
       "        vertical-align: middle;\n",
       "    }\n",
       "\n",
       "    .dataframe tbody tr th {\n",
       "        vertical-align: top;\n",
       "    }\n",
       "\n",
       "    .dataframe thead th {\n",
       "        text-align: right;\n",
       "    }\n",
       "</style>\n",
       "<table border=\"1\" class=\"dataframe\">\n",
       "  <thead>\n",
       "    <tr style=\"text-align: right;\">\n",
       "      <th></th>\n",
       "      <th>word</th>\n",
       "      <th>rating</th>\n",
       "    </tr>\n",
       "  </thead>\n",
       "  <tbody>\n",
       "    <tr>\n",
       "      <th>0</th>\n",
       "      <td>pain</td>\n",
       "      <td>-2.3</td>\n",
       "    </tr>\n",
       "    <tr>\n",
       "      <th>1</th>\n",
       "      <td>good</td>\n",
       "      <td>1.9</td>\n",
       "    </tr>\n",
       "    <tr>\n",
       "      <th>2</th>\n",
       "      <td>want</td>\n",
       "      <td>0.3</td>\n",
       "    </tr>\n",
       "    <tr>\n",
       "      <th>3</th>\n",
       "      <td>help</td>\n",
       "      <td>1.7</td>\n",
       "    </tr>\n",
       "    <tr>\n",
       "      <th>4</th>\n",
       "      <td>thanks</td>\n",
       "      <td>1.9</td>\n",
       "    </tr>\n",
       "  </tbody>\n",
       "</table>\n",
       "</div>"
      ],
      "text/plain": [
       "     word  rating\n",
       "0    pain    -2.3\n",
       "1    good     1.9\n",
       "2    want     0.3\n",
       "3    help     1.7\n",
       "4  thanks     1.9"
      ]
     },
     "execution_count": 71,
     "metadata": {},
     "output_type": "execute_result"
    }
   ],
   "source": [
    "found_run_neg_words['rating'] = [vader_lexicon[vader_lexicon['token'] == word]['mean_sentiment_rating'].values[0] for word in found_run_neg_words['word']]\n",
    "\n",
    "# Sorting the words by most negative words in the lexicon displays some truly horrible words, so will not print out here.\n",
    "#found_run_neg_words.sort_values(by='rating', inplace=True, ignore_index=True)\n",
    "\n",
    "found_run_neg_words.head()"
   ]
  },
  {
   "cell_type": "code",
   "execution_count": 72,
   "metadata": {},
   "outputs": [
    {
     "name": "stdout",
     "output_type": "stream",
     "text": [
      "Of the 2096 words founds with a sentiment rating, 1164 had a negative rating.\n"
     ]
    }
   ],
   "source": [
    "print (f'Of the {found_run_neg_words.shape[0]} words founds with a sentiment rating, {sum(found_run_neg_words[\"rating\"]<0)} had a negative rating.' )"
   ]
  },
  {
   "cell_type": "markdown",
   "metadata": {},
   "source": [
    "Find all words in Running posts that contain word fragment of **lone**"
   ]
  },
  {
   "cell_type": "code",
   "execution_count": 73,
   "metadata": {},
   "outputs": [
    {
     "data": {
      "text/html": [
       "<div>\n",
       "<style scoped>\n",
       "    .dataframe tbody tr th:only-of-type {\n",
       "        vertical-align: middle;\n",
       "    }\n",
       "\n",
       "    .dataframe tbody tr th {\n",
       "        vertical-align: top;\n",
       "    }\n",
       "\n",
       "    .dataframe thead th {\n",
       "        text-align: right;\n",
       "    }\n",
       "</style>\n",
       "<table border=\"1\" class=\"dataframe\">\n",
       "  <thead>\n",
       "    <tr style=\"text-align: right;\">\n",
       "      <th></th>\n",
       "      <th>rating</th>\n",
       "      <th>count</th>\n",
       "    </tr>\n",
       "    <tr>\n",
       "      <th>word</th>\n",
       "      <th></th>\n",
       "      <th></th>\n",
       "    </tr>\n",
       "  </thead>\n",
       "  <tbody>\n",
       "    <tr>\n",
       "      <th>alone</th>\n",
       "      <td>-1.0</td>\n",
       "      <td>125</td>\n",
       "    </tr>\n",
       "    <tr>\n",
       "      <th>lonely</th>\n",
       "      <td>-1.5</td>\n",
       "      <td>8</td>\n",
       "    </tr>\n",
       "    <tr>\n",
       "      <th>lone</th>\n",
       "      <td>-1.1</td>\n",
       "      <td>7</td>\n",
       "    </tr>\n",
       "    <tr>\n",
       "      <th>lonelier</th>\n",
       "      <td>-1.4</td>\n",
       "      <td>1</td>\n",
       "    </tr>\n",
       "    <tr>\n",
       "      <th>loneliness</th>\n",
       "      <td>-1.8</td>\n",
       "      <td>1</td>\n",
       "    </tr>\n",
       "  </tbody>\n",
       "</table>\n",
       "</div>"
      ],
      "text/plain": [
       "            rating  count\n",
       "word                     \n",
       "alone         -1.0    125\n",
       "lonely        -1.5      8\n",
       "lone          -1.1      7\n",
       "lonelier      -1.4      1\n",
       "loneliness    -1.8      1"
      ]
     },
     "execution_count": 73,
     "metadata": {},
     "output_type": "execute_result"
    }
   ],
   "source": [
    "lonely_run_words = found_run_neg_words[found_run_neg_words['word'].str.contains('lone', regex=False)].copy()\n",
    "lonely_run_words['count'] = [common_run_neg_words [word] for word in lonely_run_words['word']]\n",
    "lonely_run_words.set_index('word', inplace=True)\n",
    "lonely_run_words.head()"
   ]
  },
  {
   "cell_type": "code",
   "execution_count": 74,
   "metadata": {},
   "outputs": [
    {
     "data": {
      "image/png": "[encoded data removed]",
      "text/plain": [
       "<Figure size 504x288 with 1 Axes>"
      ]
     },
     "metadata": {},
     "output_type": "display_data"
    }
   ],
   "source": [
    "plt.figure(figsize=(7,4))\n",
    "\n",
    "ax = sns.barplot(y ='count', hue = 'rating', x = lonely_run_words.index, data = lonely_run_words,\n",
    "            palette = 'Blues', edgecolor = 'w', dodge=False)\n",
    "\n",
    "ax.set_title(\"Word Frequency in 8,000 running Posts\",fontsize=20)\n",
    "ax.set_xlabel(\"Word\",fontsize=20)\n",
    "ax.set_ylabel(\"Count\",fontsize=20)\n",
    "ax.tick_params(labelsize=15)\n",
    "plt.setp(ax.get_legend().get_texts(), fontsize='20')\n",
    "plt.setp(ax.get_legend().get_title(), fontsize='20')\n",
    "\n",
    "ax.text(0,110, '125', ha='center', fontsize=15, color='white')\n",
    "ax.text(1,15, '8', ha='center', fontsize=15, color='gray')\n",
    "ax.text(2,15, '7', ha='center', fontsize=15, color='gray')\n",
    "ax.text(3,10, '1', ha='center', fontsize=15, color='gray')\n",
    "ax.text(4,10, '1', ha='center', fontsize=15, color='gray')\n",
    "\n",
    "sns.despine()\n",
    "\n",
    "plt.show()\n",
    "\n",
    "\n"
   ]
  },
  {
   "cell_type": "markdown",
   "metadata": {},
   "source": [
    "---\n",
    "Ratio of negative words found in the 8_000 running posts, compared to the total number of words in those 8_000 posts.\n",
    "\n",
    "This only includes the negative identified by a match in the VADER lexicon."
   ]
  },
  {
   "cell_type": "code",
   "execution_count": 75,
   "metadata": {},
   "outputs": [
    {
     "name": "stdout",
     "output_type": "stream",
     "text": [
      "The percentage of negative words used in the running subreddit is 6.48% \n"
     ]
    }
   ],
   "source": [
    "# Number of negative words / number of columns in running word vector\n",
    "print (f'The percentage of negative words used in the running subreddit is \\\n",
    "{ round( (sum(found_run_neg_words[\"rating\"]<0)) / running_neg_words_df.shape[1] * 100 , 2) }% ')"
   ]
  },
  {
   "cell_type": "markdown",
   "metadata": {},
   "source": [
    "Compare this to the percentage of negative words found in the Ask Culinary subreddit posts."
   ]
  },
  {
   "cell_type": "code",
   "execution_count": 76,
   "metadata": {},
   "outputs": [
    {
     "name": "stdout",
     "output_type": "stream",
     "text": [
      "The percentage of negative words used in the running subreddit is 5.24% \n"
     ]
    }
   ],
   "source": [
    "# Number of negative words / number of columns in running word vector\n",
    "print (f'The percentage of negative words used in the running subreddit is \\\n",
    "{ round( (sum(found_cul_neg_words[\"rating\"]<0)) / culinary_neg_words_df.shape[1] * 100 , 2) }% ')"
   ]
  },
  {
   "cell_type": "markdown",
   "metadata": {},
   "source": [
    "Both data sets contain 8_000 reddit posts, so this shows us that the running subreddits have a higher number of negative words in their text. "
   ]
  },
  {
   "cell_type": "code",
   "execution_count": null,
   "metadata": {},
   "outputs": [],
   "source": []
  }
 ],
 "metadata": {
  "kernelspec": {
   "display_name": "Python 3",
   "language": "python",
   "name": "python3"
  },
  "language_info": {
   "codemirror_mode": {
    "name": "ipython",
    "version": 3
   },
   "file_extension": ".py",
   "mimetype": "text/x-python",
   "name": "python",
   "nbconvert_exporter": "python",
   "pygments_lexer": "ipython3",
   "version": "3.8.3"
  }
 },
 "nbformat": 4,
 "nbformat_minor": 4
}
