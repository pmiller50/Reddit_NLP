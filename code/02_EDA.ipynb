{
 "cells": [
  {
   "cell_type": "markdown",
   "metadata": {},
   "source": [
    "## Reddit Post Natural Language Processing and Classification\n",
    "![reddit](../images/reddit_logo.png)\n",
    "### 02. Exploratory Data Analysis (EDA)\n",
    "\n",
    "\n"
   ]
  },
  {
   "cell_type": "code",
   "execution_count": 1,
   "metadata": {},
   "outputs": [],
   "source": [
    "import pandas as pd\n",
    "import matplotlib.pyplot as plt\n",
    "\n",
    "from sklearn.feature_extraction.text import CountVectorizer\n",
    "from sklearn.feature_extraction import text"
   ]
  },
  {
   "cell_type": "code",
   "execution_count": null,
   "metadata": {},
   "outputs": [],
   "source": []
  },
  {
   "cell_type": "code",
   "execution_count": 2,
   "metadata": {},
   "outputs": [],
   "source": [
    "reddit_file_1 = 'AskCulinary.csv'\n",
    "reddit_file_2 = 'running.csv'"
   ]
  },
  {
   "cell_type": "code",
   "execution_count": 3,
   "metadata": {},
   "outputs": [],
   "source": [
    "posts_1 = pd.read_csv(f'../data/{reddit_file_1}')\n",
    "posts_2 = pd.read_csv(f'../data/{reddit_file_2}')"
   ]
  },
  {
   "cell_type": "markdown",
   "metadata": {},
   "source": [
    "Concat second reddit posts dataframe to the first so we have one large dataframe containing two subreddit categories."
   ]
  },
  {
   "cell_type": "code",
   "execution_count": 4,
   "metadata": {},
   "outputs": [],
   "source": [
    "reddit_posts = pd.concat([posts_1, posts_2])\n"
   ]
  },
  {
   "cell_type": "code",
   "execution_count": 5,
   "metadata": {},
   "outputs": [
    {
     "data": {
      "text/plain": [
       "(20200, 6)"
      ]
     },
     "execution_count": 5,
     "metadata": {},
     "output_type": "execute_result"
    }
   ],
   "source": [
    "reddit_posts.shape"
   ]
  },
  {
   "cell_type": "code",
   "execution_count": 6,
   "metadata": {},
   "outputs": [
    {
     "data": {
      "text/html": [
       "<div>\n",
       "<style scoped>\n",
       "    .dataframe tbody tr th:only-of-type {\n",
       "        vertical-align: middle;\n",
       "    }\n",
       "\n",
       "    .dataframe tbody tr th {\n",
       "        vertical-align: top;\n",
       "    }\n",
       "\n",
       "    .dataframe thead th {\n",
       "        text-align: right;\n",
       "    }\n",
       "</style>\n",
       "<table border=\"1\" class=\"dataframe\">\n",
       "  <thead>\n",
       "    <tr style=\"text-align: right;\">\n",
       "      <th></th>\n",
       "      <th>subreddit</th>\n",
       "      <th>selftext</th>\n",
       "      <th>title</th>\n",
       "      <th>author</th>\n",
       "      <th>created_utc</th>\n",
       "      <th>created_date</th>\n",
       "    </tr>\n",
       "  </thead>\n",
       "  <tbody>\n",
       "    <tr>\n",
       "      <th>10095</th>\n",
       "      <td>running</td>\n",
       "      <td>Curious as to if there are any benefits or dow...</td>\n",
       "      <td>Splitting up long runs</td>\n",
       "      <td>AmbitiousRunner</td>\n",
       "      <td>1601422029</td>\n",
       "      <td>2020-09-29 23:27:09</td>\n",
       "    </tr>\n",
       "    <tr>\n",
       "      <th>10096</th>\n",
       "      <td>running</td>\n",
       "      <td>Hello runners! \\n\\nI don’t have much to add be...</td>\n",
       "      <td>Started running when gyms closed due to covid....</td>\n",
       "      <td>snapbanana</td>\n",
       "      <td>1601421860</td>\n",
       "      <td>2020-09-29 23:24:20</td>\n",
       "    </tr>\n",
       "    <tr>\n",
       "      <th>10097</th>\n",
       "      <td>running</td>\n",
       "      <td>[removed]</td>\n",
       "      <td>How do I deal with this burnout/overtraining?</td>\n",
       "      <td>pikel27</td>\n",
       "      <td>1601421065</td>\n",
       "      <td>2020-09-29 23:11:05</td>\n",
       "    </tr>\n",
       "    <tr>\n",
       "      <th>10098</th>\n",
       "      <td>running</td>\n",
       "      <td>[removed]</td>\n",
       "      <td>How do I deal with this burnout/overtraining?</td>\n",
       "      <td>pikel27</td>\n",
       "      <td>1601420910</td>\n",
       "      <td>2020-09-29 23:08:30</td>\n",
       "    </tr>\n",
       "    <tr>\n",
       "      <th>10099</th>\n",
       "      <td>running</td>\n",
       "      <td>[removed]</td>\n",
       "      <td>When to increase time?</td>\n",
       "      <td>rosennolt</td>\n",
       "      <td>1601420875</td>\n",
       "      <td>2020-09-29 23:07:55</td>\n",
       "    </tr>\n",
       "  </tbody>\n",
       "</table>\n",
       "</div>"
      ],
      "text/plain": [
       "      subreddit                                           selftext  \\\n",
       "10095   running  Curious as to if there are any benefits or dow...   \n",
       "10096   running  Hello runners! \\n\\nI don’t have much to add be...   \n",
       "10097   running                                          [removed]   \n",
       "10098   running                                          [removed]   \n",
       "10099   running                                          [removed]   \n",
       "\n",
       "                                                   title           author  \\\n",
       "10095                             Splitting up long runs  AmbitiousRunner   \n",
       "10096  Started running when gyms closed due to covid....       snapbanana   \n",
       "10097      How do I deal with this burnout/overtraining?          pikel27   \n",
       "10098      How do I deal with this burnout/overtraining?          pikel27   \n",
       "10099                             When to increase time?        rosennolt   \n",
       "\n",
       "       created_utc         created_date  \n",
       "10095   1601422029  2020-09-29 23:27:09  \n",
       "10096   1601421860  2020-09-29 23:24:20  \n",
       "10097   1601421065  2020-09-29 23:11:05  \n",
       "10098   1601420910  2020-09-29 23:08:30  \n",
       "10099   1601420875  2020-09-29 23:07:55  "
      ]
     },
     "execution_count": 6,
     "metadata": {},
     "output_type": "execute_result"
    }
   ],
   "source": [
    "reddit_posts.tail()"
   ]
  },
  {
   "cell_type": "code",
   "execution_count": 7,
   "metadata": {},
   "outputs": [
    {
     "data": {
      "text/plain": [
       "subreddit         0\n",
       "selftext        172\n",
       "title             0\n",
       "author            0\n",
       "created_utc       0\n",
       "created_date      0\n",
       "dtype: int64"
      ]
     },
     "execution_count": 7,
     "metadata": {},
     "output_type": "execute_result"
    }
   ],
   "source": [
    "reddit_posts.isnull().sum()"
   ]
  },
  {
   "cell_type": "code",
   "execution_count": 8,
   "metadata": {},
   "outputs": [],
   "source": [
    "reddit_posts.dropna(inplace=True)\n",
    "reddit_posts.reset_index(drop=True, inplace=True)"
   ]
  },
  {
   "cell_type": "markdown",
   "metadata": {},
   "source": [
    "Combine selftext and title fields to build up word count."
   ]
  },
  {
   "cell_type": "code",
   "execution_count": 9,
   "metadata": {},
   "outputs": [],
   "source": [
    "reddit_posts['all_text'] = reddit_posts['selftext'] + ' ' + reddit_posts['title']"
   ]
  },
  {
   "cell_type": "code",
   "execution_count": null,
   "metadata": {},
   "outputs": [],
   "source": []
  },
  {
   "cell_type": "code",
   "execution_count": 10,
   "metadata": {},
   "outputs": [
    {
     "data": {
      "text/plain": [
       "\"Hi everyone,\\n\\nI'm not sure if this is the place to go with this question, but I was wondering if someone could provide me some insight on what type of fridge I should be looking for for an instructional culinary kitchen. Size, features, etc...\\n\\n&amp;#x200B;\\n\\nI am a little out of my element as I've been tasked with finding the equipment for my park district's new kitchen but I really don't have any experience with teaching cooking or running an educational kitchen.\\n\\n&amp;#x200B;\\n\\nI appreciate any help. I understand if this question is not allowed and needs to be deleted. Fridge for an instructional kitchen?\""
      ]
     },
     "execution_count": 10,
     "metadata": {},
     "output_type": "execute_result"
    }
   ],
   "source": [
    "reddit_posts.iloc[0]['all_text']"
   ]
  },
  {
   "cell_type": "markdown",
   "metadata": {},
   "source": [
    "Delete all posts that have been removed. (The selftext field contains \\[removed\\])"
   ]
  },
  {
   "cell_type": "code",
   "execution_count": 11,
   "metadata": {},
   "outputs": [],
   "source": [
    "#reddit_posts.sort_values(by='selftext')\n",
    "indices_to_remove = reddit_posts[reddit_posts['selftext'].str.contains('\\[removed\\]')].index\n",
    "\n",
    "reddit_posts.drop(indices_to_remove, inplace=True)\n",
    "reddit_posts.reset_index(drop=True, inplace=True)"
   ]
  },
  {
   "cell_type": "markdown",
   "metadata": {},
   "source": [
    "Delete all posts that have been deleted. (The selftext field contains \\[deleted\\])"
   ]
  },
  {
   "cell_type": "code",
   "execution_count": 12,
   "metadata": {},
   "outputs": [],
   "source": [
    "#reddit_posts.sort_values(by='selftext')\n",
    "deleted_to_remove = reddit_posts[reddit_posts['selftext'].str.contains('\\[deleted\\]')].index\n",
    "\n",
    "reddit_posts.drop(deleted_to_remove, inplace=True)\n",
    "reddit_posts.reset_index(drop=True, inplace=True)"
   ]
  },
  {
   "cell_type": "code",
   "execution_count": null,
   "metadata": {},
   "outputs": [],
   "source": []
  },
  {
   "cell_type": "markdown",
   "metadata": {},
   "source": [
    "#### Data cleaning:\n",
    " * Remove newline characters\n",
    " * Remove url's that might appear\n",
    " * Remove numeric data such as measurements in a cooking recipe.\n",
    " * Convert contractions such as I've to I have"
   ]
  },
  {
   "cell_type": "code",
   "execution_count": 13,
   "metadata": {},
   "outputs": [],
   "source": [
    "reddit_posts['all_text'].replace('\\n', ' ', regex=True, inplace=True)\n",
    "\n",
    "# Regex example here:\n",
    "#https://github.com/hundredblocks/concrete_NLP_tutorial/blob/master/NLP_notebook.ipynb\n",
    "# \\S captures all non-white space, + means greedy so goes until the end of a word.\n",
    "reddit_posts['all_text'].replace('http\\S+', ' ', regex=True, inplace=True)\n",
    "\n",
    "# delete stray &amp; words\n",
    "reddit_posts['all_text'].replace('&amp;', ' ', regex=True, inplace=True)\n",
    "\n",
    "# delete #x200B; which is zero width space\n",
    "reddit_posts['all_text'].replace('#x200B;', ' ', regex=True, inplace=True)\n",
    "\n",
    "# delete measurements in a recipe. eg. 5.3oz, 1 1/4 cups\n",
    "# This deletes all numbers, which may or may not include a period or a /, then have a letter or series of letters on the end\n",
    "# as in 57g\n",
    "reddit_posts['all_text'].replace('(\\d+)[.|\\/]?(\\d+)?(\\w+)?', ' ', regex=True, inplace=True)\n",
    "\n",
    "# delete underscores, backslashes and forward slashes\n",
    "reddit_posts['all_text'].replace('_|\\\\|\\/', ' ', regex=True, inplace=True)\n",
    "\n",
    "# to avoid getting a ton of 've' words after vectorizing, replace I've with I have\n",
    "reddit_posts['all_text'].replace('[i|I][\\’|\\']ve', 'I have', regex=True, inplace=True)\n",
    "\n",
    "# replace don't with do not\n",
    "reddit_posts['all_text'].replace('[d|D]on[\\’|\\']t', 'do not', regex=True, inplace=True)\n",
    "\n",
    "# replace aren't with are not\n",
    "reddit_posts['all_text'].replace('[a|A]ren[\\’|\\']t', 'are not', regex=True, inplace=True)\n",
    "\n",
    "# replace doesn't with does not\n",
    "reddit_posts['all_text'].replace('[d|D]oesn[\\’|\\']t', 'does not', regex=True, inplace=True)\n"
   ]
  },
  {
   "cell_type": "markdown",
   "metadata": {},
   "source": [
    "---\n",
    "Delete posts with less than 30 characters in their all_text - they are normally garbage data or not worth keeping"
   ]
  },
  {
   "cell_type": "code",
   "execution_count": 14,
   "metadata": {},
   "outputs": [
    {
     "data": {
      "text/plain": [
       "Int64Index([  561,   713,   714,  2049,  3471,  6023,  6612,  7617,  8469,\n",
       "            10361, 11798, 11876, 14625, 15037, 15076, 15136, 16417, 17147,\n",
       "            17151],\n",
       "           dtype='int64')"
      ]
     },
     "execution_count": 14,
     "metadata": {},
     "output_type": "execute_result"
    }
   ],
   "source": [
    "reddit_posts[(reddit_posts['all_text'].str.len() < 30)].index"
   ]
  },
  {
   "cell_type": "code",
   "execution_count": 15,
   "metadata": {},
   "outputs": [
    {
     "data": {
      "text/plain": [
       "'I came across a post here recently and one the comments was about the dangers of botulism when defrosting vacuum sealed fish. So it got me thinking about defrosting other vacuum sealed meat/foods. I was fortunate to find a gently used chamber vacuum sealer on Craigslist for a ridiculously cheap price few years back. So pretty much seal everything from beef, pork, chicken, fish and other non protein items. For the record, I have always defrosted meat under cold water vacuum sealed bags including fish. Been doing it for years without knowing. I’m fairly knowledgeable when it comes to food safety and was really surprised when i read this. Even thought it was bullshit and ended up confirming it from a publication from Michigan State University. So it got me thinking about my defrosting process and cannot find any legit publications/articles if there is the same dangers of botulism with other foods. Does anyone know if the risk are present outside of seafood? For the time being, I have started to break the seal and defrost in a ziplock back under water but this isn’t ideal and hate using this much plastic. Appreciate any feedback. Defrosting Vacuum Sealed Foods'"
      ]
     },
     "execution_count": 15,
     "metadata": {},
     "output_type": "execute_result"
    }
   ],
   "source": [
    "reddit_posts.iloc[661]['all_text']"
   ]
  },
  {
   "cell_type": "code",
   "execution_count": 16,
   "metadata": {},
   "outputs": [],
   "source": [
    "\n",
    "short_text_posts = reddit_posts[(reddit_posts['all_text'].str.len() < 30)].index\n",
    "\n",
    "reddit_posts.drop(short_text_posts, inplace=True)\n",
    "reddit_posts.reset_index(drop=True, inplace=True)"
   ]
  },
  {
   "cell_type": "markdown",
   "metadata": {},
   "source": [
    "Check for duplicates.  Not sure why but sometimes people submit the same post more than once. Perhaps they don't think it went through the first time?"
   ]
  },
  {
   "cell_type": "code",
   "execution_count": 17,
   "metadata": {},
   "outputs": [
    {
     "data": {
      "text/plain": [
       "(18105, 7)"
      ]
     },
     "execution_count": 17,
     "metadata": {},
     "output_type": "execute_result"
    }
   ],
   "source": [
    "reddit_posts.shape"
   ]
  },
  {
   "cell_type": "code",
   "execution_count": 18,
   "metadata": {},
   "outputs": [
    {
     "data": {
      "text/plain": [
       "17847"
      ]
     },
     "execution_count": 18,
     "metadata": {},
     "output_type": "execute_result"
    }
   ],
   "source": [
    "reddit_posts['all_text'].nunique()"
   ]
  },
  {
   "cell_type": "markdown",
   "metadata": {},
   "source": [
    "So there are 17,847 unique selftext values, but 18,105 total rows, so there are duplicates that should be dropped."
   ]
  },
  {
   "cell_type": "code",
   "execution_count": 19,
   "metadata": {},
   "outputs": [
    {
     "data": {
      "text/plain": [
       "(17847, 7)"
      ]
     },
     "execution_count": 19,
     "metadata": {},
     "output_type": "execute_result"
    }
   ],
   "source": [
    "reddit_posts.drop_duplicates(subset=['all_text'], inplace=True, ignore_index=True)\n",
    "reddit_posts.shape"
   ]
  },
  {
   "cell_type": "code",
   "execution_count": null,
   "metadata": {},
   "outputs": [],
   "source": []
  },
  {
   "cell_type": "markdown",
   "metadata": {},
   "source": [
    "---\n",
    "Create class column:\n",
    " * Subreddit 1 - AskCulinary\n",
    " * Subreddit 0 - running"
   ]
  },
  {
   "cell_type": "code",
   "execution_count": 20,
   "metadata": {},
   "outputs": [],
   "source": [
    "reddit_posts['class'] = [1 if cat=='AskCulinary' else 0 for cat in reddit_posts['subreddit']]"
   ]
  },
  {
   "cell_type": "code",
   "execution_count": 21,
   "metadata": {},
   "outputs": [
    {
     "data": {
      "text/html": [
       "<div>\n",
       "<style scoped>\n",
       "    .dataframe tbody tr th:only-of-type {\n",
       "        vertical-align: middle;\n",
       "    }\n",
       "\n",
       "    .dataframe tbody tr th {\n",
       "        vertical-align: top;\n",
       "    }\n",
       "\n",
       "    .dataframe thead th {\n",
       "        text-align: right;\n",
       "    }\n",
       "</style>\n",
       "<table border=\"1\" class=\"dataframe\">\n",
       "  <thead>\n",
       "    <tr style=\"text-align: right;\">\n",
       "      <th></th>\n",
       "      <th>subreddit</th>\n",
       "      <th>selftext</th>\n",
       "      <th>title</th>\n",
       "      <th>author</th>\n",
       "      <th>created_utc</th>\n",
       "      <th>created_date</th>\n",
       "      <th>all_text</th>\n",
       "      <th>class</th>\n",
       "    </tr>\n",
       "  </thead>\n",
       "  <tbody>\n",
       "    <tr>\n",
       "      <th>17842</th>\n",
       "      <td>running</td>\n",
       "      <td>I am on week 4 of an 8 week half marathon plan...</td>\n",
       "      <td>I started my training plan a week early, what ...</td>\n",
       "      <td>HoyAIAG</td>\n",
       "      <td>1601422568</td>\n",
       "      <td>2020-09-29 23:36:08</td>\n",
       "      <td>I am on week   of an   week half marathon plan...</td>\n",
       "      <td>0</td>\n",
       "    </tr>\n",
       "    <tr>\n",
       "      <th>17843</th>\n",
       "      <td>running</td>\n",
       "      <td>Hi, \\n\\nI've started running again 3 months ag...</td>\n",
       "      <td>So... Rain jackets, yes or no? side question, ...</td>\n",
       "      <td>AugusteRenoi</td>\n",
       "      <td>1601422394</td>\n",
       "      <td>2020-09-29 23:33:14</td>\n",
       "      <td>Hi,   I have started running again   months ag...</td>\n",
       "      <td>0</td>\n",
       "    </tr>\n",
       "    <tr>\n",
       "      <th>17844</th>\n",
       "      <td>running</td>\n",
       "      <td>How do you deal with exhaustion during menstru...</td>\n",
       "      <td>Extreme fatigue during menstruation</td>\n",
       "      <td>RotiRounderThanYours</td>\n",
       "      <td>1601422237</td>\n",
       "      <td>2020-09-29 23:30:37</td>\n",
       "      <td>How do you deal with exhaustion during menstru...</td>\n",
       "      <td>0</td>\n",
       "    </tr>\n",
       "    <tr>\n",
       "      <th>17845</th>\n",
       "      <td>running</td>\n",
       "      <td>Curious as to if there are any benefits or dow...</td>\n",
       "      <td>Splitting up long runs</td>\n",
       "      <td>AmbitiousRunner</td>\n",
       "      <td>1601422029</td>\n",
       "      <td>2020-09-29 23:27:09</td>\n",
       "      <td>Curious as to if there are any benefits or dow...</td>\n",
       "      <td>0</td>\n",
       "    </tr>\n",
       "    <tr>\n",
       "      <th>17846</th>\n",
       "      <td>running</td>\n",
       "      <td>Hello runners! \\n\\nI don’t have much to add be...</td>\n",
       "      <td>Started running when gyms closed due to covid....</td>\n",
       "      <td>snapbanana</td>\n",
       "      <td>1601421860</td>\n",
       "      <td>2020-09-29 23:24:20</td>\n",
       "      <td>Hello runners!   I do not have much to add bec...</td>\n",
       "      <td>0</td>\n",
       "    </tr>\n",
       "  </tbody>\n",
       "</table>\n",
       "</div>"
      ],
      "text/plain": [
       "      subreddit                                           selftext  \\\n",
       "17842   running  I am on week 4 of an 8 week half marathon plan...   \n",
       "17843   running  Hi, \\n\\nI've started running again 3 months ag...   \n",
       "17844   running  How do you deal with exhaustion during menstru...   \n",
       "17845   running  Curious as to if there are any benefits or dow...   \n",
       "17846   running  Hello runners! \\n\\nI don’t have much to add be...   \n",
       "\n",
       "                                                   title  \\\n",
       "17842  I started my training plan a week early, what ...   \n",
       "17843  So... Rain jackets, yes or no? side question, ...   \n",
       "17844                Extreme fatigue during menstruation   \n",
       "17845                             Splitting up long runs   \n",
       "17846  Started running when gyms closed due to covid....   \n",
       "\n",
       "                     author  created_utc         created_date  \\\n",
       "17842               HoyAIAG   1601422568  2020-09-29 23:36:08   \n",
       "17843          AugusteRenoi   1601422394  2020-09-29 23:33:14   \n",
       "17844  RotiRounderThanYours   1601422237  2020-09-29 23:30:37   \n",
       "17845       AmbitiousRunner   1601422029  2020-09-29 23:27:09   \n",
       "17846            snapbanana   1601421860  2020-09-29 23:24:20   \n",
       "\n",
       "                                                all_text  class  \n",
       "17842  I am on week   of an   week half marathon plan...      0  \n",
       "17843  Hi,   I have started running again   months ag...      0  \n",
       "17844  How do you deal with exhaustion during menstru...      0  \n",
       "17845  Curious as to if there are any benefits or dow...      0  \n",
       "17846  Hello runners!   I do not have much to add bec...      0  "
      ]
     },
     "execution_count": 21,
     "metadata": {},
     "output_type": "execute_result"
    }
   ],
   "source": [
    "reddit_posts.tail()"
   ]
  },
  {
   "cell_type": "code",
   "execution_count": 22,
   "metadata": {},
   "outputs": [],
   "source": [
    "# add stop words that might be measurements for recipes, and distance for running (km)\n",
    "# hat tip to for adding custom stop words : https://stackoverflow.com/a/24386751/732396\n",
    "\n",
    "# the most common words in the running subreddit were, not surprisingly, run and running, so let's take\n",
    "# those out\n",
    "more_stop_words = ['oz', 'cups', 'km', 'run', 'running']\n",
    "stop_words = text.ENGLISH_STOP_WORDS.union(more_stop_words)"
   ]
  },
  {
   "cell_type": "markdown",
   "metadata": {},
   "source": [
    "Inspect the data using Count Vectorizer.  This will also be done in the modeling step"
   ]
  },
  {
   "cell_type": "code",
   "execution_count": 23,
   "metadata": {},
   "outputs": [
    {
     "data": {
      "text/plain": [
       "CountVectorizer(stop_words=frozenset({'a', 'about', 'above', 'across', 'after',\n",
       "                                      'afterwards', 'again', 'against', 'all',\n",
       "                                      'almost', 'alone', 'along', 'already',\n",
       "                                      'also', 'although', 'always', 'am',\n",
       "                                      'among', 'amongst', 'amoungst', 'amount',\n",
       "                                      'an', 'and', 'another', 'any', 'anyhow',\n",
       "                                      'anyone', 'anything', 'anyway',\n",
       "                                      'anywhere', ...}))"
      ]
     },
     "execution_count": 23,
     "metadata": {},
     "output_type": "execute_result"
    }
   ],
   "source": [
    "count_vec = CountVectorizer(stop_words = stop_words)\n",
    "count_vec.fit(reddit_posts['all_text'])"
   ]
  },
  {
   "cell_type": "code",
   "execution_count": 24,
   "metadata": {},
   "outputs": [],
   "source": [
    "transformed_df = count_vec.transform(reddit_posts['all_text'])"
   ]
  },
  {
   "cell_type": "code",
   "execution_count": 25,
   "metadata": {},
   "outputs": [
    {
     "data": {
      "text/plain": [
       "(17847, 29220)"
      ]
     },
     "execution_count": 25,
     "metadata": {},
     "output_type": "execute_result"
    }
   ],
   "source": [
    "transformed_df.shape"
   ]
  },
  {
   "cell_type": "markdown",
   "metadata": {},
   "source": [
    "Show the 20 most common words in the dataset."
   ]
  },
  {
   "cell_type": "code",
   "execution_count": 26,
   "metadata": {},
   "outputs": [
    {
     "data": {
      "image/png": "[encoded data removed]",
      "text/plain": [
       "<Figure size 720x504 with 1 Axes>"
      ]
     },
     "metadata": {
      "needs_background": "light"
     },
     "output_type": "display_data"
    }
   ],
   "source": [
    "# Code borrowed from lesson 5.04\n",
    "# convert training data to dataframe\n",
    "words_df = pd.DataFrame(transformed_df.todense(), \n",
    "                          columns=count_vec.get_feature_names())\n",
    "\n",
    "# plot top occuring words\n",
    "ax = words_df.sum().sort_values(ascending=False).head(15).plot(kind='barh', figsize=(10,7), color='darkseagreen');\n",
    "ax.set_title(\"18,000 Ask Culinary and running Posts\",fontsize=20)\n",
    "ax.set_xlabel(\"Count\",fontsize=20)\n",
    "ax.set_ylabel(\"Most Common Words\",fontsize=20)\n",
    "ax.tick_params(labelsize=15)"
   ]
  },
  {
   "cell_type": "markdown",
   "metadata": {},
   "source": [
    "Based on above, we should add 'like' and 'just' to the list of stop words, since they don't add much value."
   ]
  },
  {
   "cell_type": "markdown",
   "metadata": {},
   "source": [
    "#### Export clean data"
   ]
  },
  {
   "cell_type": "code",
   "execution_count": 28,
   "metadata": {},
   "outputs": [],
   "source": [
    "reddit_posts.to_csv('../data/clean_posts.csv', index=False)"
   ]
  },
  {
   "cell_type": "code",
   "execution_count": null,
   "metadata": {},
   "outputs": [],
   "source": []
  }
 ],
 "metadata": {
  "kernelspec": {
   "display_name": "Python 3",
   "language": "python",
   "name": "python3"
  },
  "language_info": {
   "codemirror_mode": {
    "name": "ipython",
    "version": 3
   },
   "file_extension": ".py",
   "mimetype": "text/x-python",
   "name": "python",
   "nbconvert_exporter": "python",
   "pygments_lexer": "ipython3",
   "version": "3.8.3"
  }
 },
 "nbformat": 4,
 "nbformat_minor": 4
}
