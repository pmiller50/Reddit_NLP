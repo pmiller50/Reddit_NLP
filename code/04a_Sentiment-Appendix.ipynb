{
 "cells": [
  {
   "cell_type": "markdown",
   "metadata": {},
   "source": [
    "## Reddit Post Natural Language Processing and Classification\n",
    "![reddit](../images/reddit_logo.png)\n",
    "### 04. Sentiment Analysis"
   ]
  },
  {
   "cell_type": "code",
   "execution_count": 1,
   "metadata": {},
   "outputs": [],
   "source": [
    "import pandas as pd\n",
    "from nltk.sentiment.vader import SentimentIntensityAnalyzer\n",
    "\n",
    "from sklearn.feature_extraction.text import CountVectorizer\n",
    "from sklearn.feature_extraction import text\n",
    "import matplotlib.pyplot as plt\n",
    "import seaborn as sns"
   ]
  },
  {
   "cell_type": "code",
   "execution_count": 2,
   "metadata": {},
   "outputs": [],
   "source": [
    "posts_df = pd.read_csv('../data/clean_posts.csv')\n",
    "#posts_df.head()"
   ]
  },
  {
   "cell_type": "markdown",
   "metadata": {},
   "source": [
    "In the dataset of approximately 18,000 posts, around 190 posts contain the term **lone**<br>\n",
    "This provides a guide for what we should expect to find as we perform the sentiment analysis."
   ]
  },
  {
   "cell_type": "code",
   "execution_count": 3,
   "metadata": {},
   "outputs": [
    {
     "data": {
      "text/plain": [
       "(189, 8)"
      ]
     },
     "execution_count": 3,
     "metadata": {},
     "output_type": "execute_result"
    }
   ],
   "source": [
    "posts_df[posts_df['all_text'].str.contains('lone', regex=False)].shape"
   ]
  },
  {
   "cell_type": "markdown",
   "metadata": {},
   "source": [
    "---\n",
    "This notebook contains the results of NOT removing the term **alone** from the sklearn default English list of stop words."
   ]
  },
  {
   "cell_type": "code",
   "execution_count": 4,
   "metadata": {},
   "outputs": [],
   "source": [
    "culinary_df = posts_df[posts_df['class'] == 1].copy()\n",
    "#culinary_df.head()"
   ]
  },
  {
   "cell_type": "code",
   "execution_count": 5,
   "metadata": {},
   "outputs": [],
   "source": [
    "running_df = posts_df[posts_df['class'] == 0].copy()\n",
    "running_df.reset_index(inplace=True)\n",
    "#running_df.head()"
   ]
  },
  {
   "cell_type": "code",
   "execution_count": null,
   "metadata": {},
   "outputs": [],
   "source": []
  },
  {
   "cell_type": "markdown",
   "metadata": {},
   "source": [
    "### Examine the VADER Sentiment Library"
   ]
  },
  {
   "cell_type": "code",
   "execution_count": 6,
   "metadata": {},
   "outputs": [],
   "source": [
    "vader_lexicon = pd.read_csv('../data/vader_lexicon.txt', sep='\\t', header=0, names=['token', 'mean_sentiment_rating', 'standard_deviation', 'raw_human_sentiment_ratings'])\n",
    "#vader_lexicon.iloc[4400:4415]"
   ]
  },
  {
   "cell_type": "code",
   "execution_count": 7,
   "metadata": {},
   "outputs": [],
   "source": [
    "# Instantiate Sentiment Intensity Analyzer\n",
    "sent = SentimentIntensityAnalyzer()"
   ]
  },
  {
   "cell_type": "markdown",
   "metadata": {},
   "source": [
    "---\n",
    "Loop through every Ask Culinary reddit post, and find the VADER sentiment scores for the contents of all_text (which is simply the title combined with the selftext"
   ]
  },
  {
   "cell_type": "code",
   "execution_count": 8,
   "metadata": {},
   "outputs": [
    {
     "data": {
      "text/html": [
       "<div>\n",
       "<style scoped>\n",
       "    .dataframe tbody tr th:only-of-type {\n",
       "        vertical-align: middle;\n",
       "    }\n",
       "\n",
       "    .dataframe tbody tr th {\n",
       "        vertical-align: top;\n",
       "    }\n",
       "\n",
       "    .dataframe thead th {\n",
       "        text-align: right;\n",
       "    }\n",
       "</style>\n",
       "<table border=\"1\" class=\"dataframe\">\n",
       "  <thead>\n",
       "    <tr style=\"text-align: right;\">\n",
       "      <th></th>\n",
       "      <th>subreddit</th>\n",
       "      <th>selftext</th>\n",
       "      <th>title</th>\n",
       "      <th>author</th>\n",
       "      <th>created_utc</th>\n",
       "      <th>created_date</th>\n",
       "      <th>all_text</th>\n",
       "      <th>class</th>\n",
       "      <th>neg</th>\n",
       "      <th>neu</th>\n",
       "      <th>pos</th>\n",
       "      <th>compound</th>\n",
       "    </tr>\n",
       "  </thead>\n",
       "  <tbody>\n",
       "    <tr>\n",
       "      <th>0</th>\n",
       "      <td>AskCulinary</td>\n",
       "      <td>Hi everyone,\\n\\nI'm not sure if this is the pl...</td>\n",
       "      <td>Fridge for an instructional kitchen?</td>\n",
       "      <td>PrinceOfWales_</td>\n",
       "      <td>1610056955</td>\n",
       "      <td>2021-01-07 22:02:35</td>\n",
       "      <td>Hi everyone,  I'm not sure if this is the plac...</td>\n",
       "      <td>1</td>\n",
       "      <td>0.014</td>\n",
       "      <td>0.916</td>\n",
       "      <td>0.069</td>\n",
       "      <td>0.7663</td>\n",
       "    </tr>\n",
       "    <tr>\n",
       "      <th>1</th>\n",
       "      <td>AskCulinary</td>\n",
       "      <td>Hey, I was wondering if anybody had tips to ke...</td>\n",
       "      <td>How to keep sourdough starter jar clean?</td>\n",
       "      <td>frowogger</td>\n",
       "      <td>1610055394</td>\n",
       "      <td>2021-01-07 21:36:34</td>\n",
       "      <td>Hey, I was wondering if anybody had tips to ke...</td>\n",
       "      <td>1</td>\n",
       "      <td>0.044</td>\n",
       "      <td>0.829</td>\n",
       "      <td>0.127</td>\n",
       "      <td>0.9332</td>\n",
       "    </tr>\n",
       "    <tr>\n",
       "      <th>2</th>\n",
       "      <td>AskCulinary</td>\n",
       "      <td>\\nI’m Gonna make birria tacos tomorrow and my ...</td>\n",
       "      <td>What substitutes can I use for guajillo chili’...</td>\n",
       "      <td>pelse_O_clock</td>\n",
       "      <td>1610055301</td>\n",
       "      <td>2021-01-07 21:35:01</td>\n",
       "      <td>I’m Gonna make birria tacos tomorrow and my g...</td>\n",
       "      <td>1</td>\n",
       "      <td>0.000</td>\n",
       "      <td>0.953</td>\n",
       "      <td>0.047</td>\n",
       "      <td>0.3612</td>\n",
       "    </tr>\n",
       "  </tbody>\n",
       "</table>\n",
       "</div>"
      ],
      "text/plain": [
       "     subreddit                                           selftext  \\\n",
       "0  AskCulinary  Hi everyone,\\n\\nI'm not sure if this is the pl...   \n",
       "1  AskCulinary  Hey, I was wondering if anybody had tips to ke...   \n",
       "2  AskCulinary  \\nI’m Gonna make birria tacos tomorrow and my ...   \n",
       "\n",
       "                                               title          author  \\\n",
       "0               Fridge for an instructional kitchen?  PrinceOfWales_   \n",
       "1           How to keep sourdough starter jar clean?       frowogger   \n",
       "2  What substitutes can I use for guajillo chili’...   pelse_O_clock   \n",
       "\n",
       "   created_utc         created_date  \\\n",
       "0   1610056955  2021-01-07 22:02:35   \n",
       "1   1610055394  2021-01-07 21:36:34   \n",
       "2   1610055301  2021-01-07 21:35:01   \n",
       "\n",
       "                                            all_text  class    neg    neu  \\\n",
       "0  Hi everyone,  I'm not sure if this is the plac...      1  0.014  0.916   \n",
       "1  Hey, I was wondering if anybody had tips to ke...      1  0.044  0.829   \n",
       "2   I’m Gonna make birria tacos tomorrow and my g...      1  0.000  0.953   \n",
       "\n",
       "     pos  compound  \n",
       "0  0.069    0.7663  \n",
       "1  0.127    0.9332  \n",
       "2  0.047    0.3612  "
      ]
     },
     "execution_count": 8,
     "metadata": {},
     "output_type": "execute_result"
    }
   ],
   "source": [
    "culinary_df['neg'] = [sent.polarity_scores(post)['neg'] for post in culinary_df['all_text']]\n",
    "culinary_df['neu'] = [sent.polarity_scores(post)['neu'] for post in culinary_df['all_text']]\n",
    "culinary_df['pos'] = [sent.polarity_scores(post)['pos'] for post in culinary_df['all_text']]\n",
    "culinary_df['compound'] = [sent.polarity_scores(post)['compound'] for post in culinary_df['all_text']]\n",
    "culinary_df.head(3)"
   ]
  },
  {
   "cell_type": "markdown",
   "metadata": {},
   "source": [
    "---\n",
    "Loop through every running reddit post, and find the VADER sentiment scores for the contents of all_text (which is simply the title combined with the selftext)"
   ]
  },
  {
   "cell_type": "code",
   "execution_count": 9,
   "metadata": {},
   "outputs": [
    {
     "data": {
      "text/html": [
       "<div>\n",
       "<style scoped>\n",
       "    .dataframe tbody tr th:only-of-type {\n",
       "        vertical-align: middle;\n",
       "    }\n",
       "\n",
       "    .dataframe tbody tr th {\n",
       "        vertical-align: top;\n",
       "    }\n",
       "\n",
       "    .dataframe thead th {\n",
       "        text-align: right;\n",
       "    }\n",
       "</style>\n",
       "<table border=\"1\" class=\"dataframe\">\n",
       "  <thead>\n",
       "    <tr style=\"text-align: right;\">\n",
       "      <th></th>\n",
       "      <th>index</th>\n",
       "      <th>subreddit</th>\n",
       "      <th>selftext</th>\n",
       "      <th>title</th>\n",
       "      <th>author</th>\n",
       "      <th>created_utc</th>\n",
       "      <th>created_date</th>\n",
       "      <th>all_text</th>\n",
       "      <th>class</th>\n",
       "      <th>neg</th>\n",
       "      <th>neu</th>\n",
       "      <th>pos</th>\n",
       "      <th>compound</th>\n",
       "    </tr>\n",
       "  </thead>\n",
       "  <tbody>\n",
       "    <tr>\n",
       "      <th>0</th>\n",
       "      <td>9766</td>\n",
       "      <td>running</td>\n",
       "      <td>I\"m just getting into running. TBQH a lot of t...</td>\n",
       "      <td>Do you try to beat your personal record everyt...</td>\n",
       "      <td>theRealLOCURO</td>\n",
       "      <td>1610054995</td>\n",
       "      <td>2021-01-07 21:29:55</td>\n",
       "      <td>I\"m just getting into running. TBQH a lot of t...</td>\n",
       "      <td>0</td>\n",
       "      <td>0.040</td>\n",
       "      <td>0.884</td>\n",
       "      <td>0.076</td>\n",
       "      <td>0.6134</td>\n",
       "    </tr>\n",
       "    <tr>\n",
       "      <th>1</th>\n",
       "      <td>9767</td>\n",
       "      <td>running</td>\n",
       "      <td>One day I hope to run a sub 3 marathon. I know...</td>\n",
       "      <td>Training advice?</td>\n",
       "      <td>lilteezybaby117</td>\n",
       "      <td>1610054062</td>\n",
       "      <td>2021-01-07 21:14:22</td>\n",
       "      <td>One day I hope to run a sub   marathon. I know...</td>\n",
       "      <td>0</td>\n",
       "      <td>0.032</td>\n",
       "      <td>0.838</td>\n",
       "      <td>0.130</td>\n",
       "      <td>0.9696</td>\n",
       "    </tr>\n",
       "    <tr>\n",
       "      <th>2</th>\n",
       "      <td>9768</td>\n",
       "      <td>running</td>\n",
       "      <td>Hi,\\n\\nI wear size 45 (EU Size) for my Convers...</td>\n",
       "      <td>What size should running shoes be?</td>\n",
       "      <td>Emil_1996</td>\n",
       "      <td>1610053837</td>\n",
       "      <td>2021-01-07 21:10:37</td>\n",
       "      <td>Hi,  I wear size   (EU Size) for my Converse A...</td>\n",
       "      <td>0</td>\n",
       "      <td>0.037</td>\n",
       "      <td>0.771</td>\n",
       "      <td>0.192</td>\n",
       "      <td>0.9050</td>\n",
       "    </tr>\n",
       "  </tbody>\n",
       "</table>\n",
       "</div>"
      ],
      "text/plain": [
       "   index subreddit                                           selftext  \\\n",
       "0   9766   running  I\"m just getting into running. TBQH a lot of t...   \n",
       "1   9767   running  One day I hope to run a sub 3 marathon. I know...   \n",
       "2   9768   running  Hi,\\n\\nI wear size 45 (EU Size) for my Convers...   \n",
       "\n",
       "                                               title           author  \\\n",
       "0  Do you try to beat your personal record everyt...    theRealLOCURO   \n",
       "1                                   Training advice?  lilteezybaby117   \n",
       "2                 What size should running shoes be?        Emil_1996   \n",
       "\n",
       "   created_utc         created_date  \\\n",
       "0   1610054995  2021-01-07 21:29:55   \n",
       "1   1610054062  2021-01-07 21:14:22   \n",
       "2   1610053837  2021-01-07 21:10:37   \n",
       "\n",
       "                                            all_text  class    neg    neu  \\\n",
       "0  I\"m just getting into running. TBQH a lot of t...      0  0.040  0.884   \n",
       "1  One day I hope to run a sub   marathon. I know...      0  0.032  0.838   \n",
       "2  Hi,  I wear size   (EU Size) for my Converse A...      0  0.037  0.771   \n",
       "\n",
       "     pos  compound  \n",
       "0  0.076    0.6134  \n",
       "1  0.130    0.9696  \n",
       "2  0.192    0.9050  "
      ]
     },
     "execution_count": 9,
     "metadata": {},
     "output_type": "execute_result"
    }
   ],
   "source": [
    "running_df['neg'] = [sent.polarity_scores(post)['neg'] for post in running_df['all_text']]\n",
    "running_df['neu'] = [sent.polarity_scores(post)['neu'] for post in running_df['all_text']]\n",
    "running_df['pos'] = [sent.polarity_scores(post)['pos'] for post in running_df['all_text']]\n",
    "running_df['compound'] = [sent.polarity_scores(post)['compound'] for post in running_df['all_text']]\n",
    "running_df.head(3)"
   ]
  },
  {
   "cell_type": "markdown",
   "metadata": {},
   "source": [
    "The Ask Culinary average compound sentiment score for it's posts was higher (40.37%) than the running posts, which had a compound sentiment score of 37.88%.\n",
    "This implies on average the Ask Culinary posts were more positive."
   ]
  },
  {
   "cell_type": "markdown",
   "metadata": {},
   "source": [
    "The running posts actually did have more posts with a positive score, but the higher number of negative posts brought the total score lower than the Ask Culinary posts."
   ]
  },
  {
   "cell_type": "code",
   "execution_count": null,
   "metadata": {},
   "outputs": [],
   "source": []
  },
  {
   "cell_type": "code",
   "execution_count": null,
   "metadata": {},
   "outputs": [],
   "source": []
  },
  {
   "cell_type": "markdown",
   "metadata": {},
   "source": [
    "#### Create Word Vectorizer to analyze 16_000 posts and compare overall negativity (i.e. negative sentiment scores).\n",
    "\n",
    "Use sklearn's default collection of English stop words as a starting point, but add a few terms that would not be useful.\n",
    "\n",
    "Add stop words that might be measurements for recipes, and distance for running (km).\n",
    "\n",
    "The terms **run** and **running** were very common, as one would expect, in the running posts, so add to the list of stop words.\n",
    "\n",
    "From 02.EDA, the terms **like** and **just** were the two most popular terms, but do not add value, so also add to the list of stop words."
   ]
  },
  {
   "cell_type": "code",
   "execution_count": 10,
   "metadata": {},
   "outputs": [],
   "source": [
    "# hat tip to for adding custom stop words : https://stackoverflow.com/a/24386751/732396\n",
    "\n",
    "# after sorting through a lot of highly negative words, the term 'fu' came up, so will add to the list of stop words.\n",
    "more_stop_words = ['oz', 'cups', 'km', 'run', 'running', 'like','just','fu']\n",
    "stop_words_list = text.ENGLISH_STOP_WORDS.union(more_stop_words)"
   ]
  },
  {
   "cell_type": "markdown",
   "metadata": {},
   "source": [
    "This notebook demonstrates my first attempts with using the Sentiment Analyzer in hopes of trying to isolate posts that contained the words **alone**, **lone** etc.\n",
    "\n",
    "Unbeknownst to me, the default sklearn stop words list contained the term **alone**, meaning it was excluding the very terms I was searching for."
   ]
  },
  {
   "cell_type": "code",
   "execution_count": 11,
   "metadata": {},
   "outputs": [
    {
     "data": {
      "text/html": [
       "<div>\n",
       "<style scoped>\n",
       "    .dataframe tbody tr th:only-of-type {\n",
       "        vertical-align: middle;\n",
       "    }\n",
       "\n",
       "    .dataframe tbody tr th {\n",
       "        vertical-align: top;\n",
       "    }\n",
       "\n",
       "    .dataframe thead th {\n",
       "        text-align: right;\n",
       "    }\n",
       "</style>\n",
       "<table border=\"1\" class=\"dataframe\">\n",
       "  <thead>\n",
       "    <tr style=\"text-align: right;\">\n",
       "      <th></th>\n",
       "      <th>subreddit</th>\n",
       "      <th>selftext</th>\n",
       "      <th>title</th>\n",
       "      <th>author</th>\n",
       "      <th>created_utc</th>\n",
       "      <th>created_date</th>\n",
       "      <th>all_text</th>\n",
       "      <th>class</th>\n",
       "      <th>neg</th>\n",
       "      <th>neu</th>\n",
       "      <th>pos</th>\n",
       "      <th>compound</th>\n",
       "    </tr>\n",
       "  </thead>\n",
       "  <tbody>\n",
       "    <tr>\n",
       "      <th>5882</th>\n",
       "      <td>AskCulinary</td>\n",
       "      <td>im looking for a place that pays better and ha...</td>\n",
       "      <td>I work at a Midwestern USA gas station/pizza p...</td>\n",
       "      <td>geopjm10</td>\n",
       "      <td>1602041695</td>\n",
       "      <td>2020-10-07 03:34:55</td>\n",
       "      <td>im looking for a place that pays better and ha...</td>\n",
       "      <td>1</td>\n",
       "      <td>0.000</td>\n",
       "      <td>0.706</td>\n",
       "      <td>0.294</td>\n",
       "      <td>0.9062</td>\n",
       "    </tr>\n",
       "    <tr>\n",
       "      <th>2337</th>\n",
       "      <td>AskCulinary</td>\n",
       "      <td>I want to make some cakesicles for my kids fri...</td>\n",
       "      <td>What tempered chocolate is best to use to make...</td>\n",
       "      <td>lolalaughed</td>\n",
       "      <td>1607388315</td>\n",
       "      <td>2020-12-08 00:45:15</td>\n",
       "      <td>I want to make some cakesicles for my kids fri...</td>\n",
       "      <td>1</td>\n",
       "      <td>0.029</td>\n",
       "      <td>0.721</td>\n",
       "      <td>0.250</td>\n",
       "      <td>0.9062</td>\n",
       "    </tr>\n",
       "    <tr>\n",
       "      <th>5213</th>\n",
       "      <td>AskCulinary</td>\n",
       "      <td>I’ve been making lot of pizza recently, but fr...</td>\n",
       "      <td>How to add ‘sourness’ to pizza?</td>\n",
       "      <td>lexpi</td>\n",
       "      <td>1603085866</td>\n",
       "      <td>2020-10-19 05:37:46</td>\n",
       "      <td>I have been making lot of pizza recently, but ...</td>\n",
       "      <td>1</td>\n",
       "      <td>0.000</td>\n",
       "      <td>0.865</td>\n",
       "      <td>0.135</td>\n",
       "      <td>0.9062</td>\n",
       "    </tr>\n",
       "  </tbody>\n",
       "</table>\n",
       "</div>"
      ],
      "text/plain": [
       "        subreddit                                           selftext  \\\n",
       "5882  AskCulinary  im looking for a place that pays better and ha...   \n",
       "2337  AskCulinary  I want to make some cakesicles for my kids fri...   \n",
       "5213  AskCulinary  I’ve been making lot of pizza recently, but fr...   \n",
       "\n",
       "                                                  title       author  \\\n",
       "5882  I work at a Midwestern USA gas station/pizza p...     geopjm10   \n",
       "2337  What tempered chocolate is best to use to make...  lolalaughed   \n",
       "5213                    How to add ‘sourness’ to pizza?        lexpi   \n",
       "\n",
       "      created_utc         created_date  \\\n",
       "5882   1602041695  2020-10-07 03:34:55   \n",
       "2337   1607388315  2020-12-08 00:45:15   \n",
       "5213   1603085866  2020-10-19 05:37:46   \n",
       "\n",
       "                                               all_text  class    neg    neu  \\\n",
       "5882  im looking for a place that pays better and ha...      1  0.000  0.706   \n",
       "2337  I want to make some cakesicles for my kids fri...      1  0.029  0.721   \n",
       "5213  I have been making lot of pizza recently, but ...      1  0.000  0.865   \n",
       "\n",
       "        pos  compound  \n",
       "5882  0.294    0.9062  \n",
       "2337  0.250    0.9062  \n",
       "5213  0.135    0.9062  "
      ]
     },
     "execution_count": 11,
     "metadata": {},
     "output_type": "execute_result"
    }
   ],
   "source": [
    "culinary_neg_posts = culinary_df.sort_values(by='compound')[0:8000]\n",
    "culinary_neg_posts.tail(3)"
   ]
  },
  {
   "cell_type": "code",
   "execution_count": 12,
   "metadata": {},
   "outputs": [],
   "source": [
    "lone_culinary_df = culinary_neg_posts[culinary_neg_posts['all_text'].str.contains('lone', regex=False)]\n",
    "#lone_culinary_df.iloc[0]['all_text']"
   ]
  },
  {
   "cell_type": "markdown",
   "metadata": {},
   "source": [
    "#### Create CountVectorizer"
   ]
  },
  {
   "cell_type": "code",
   "execution_count": 13,
   "metadata": {},
   "outputs": [
    {
     "data": {
      "text/html": [
       "<div>\n",
       "<style scoped>\n",
       "    .dataframe tbody tr th:only-of-type {\n",
       "        vertical-align: middle;\n",
       "    }\n",
       "\n",
       "    .dataframe tbody tr th {\n",
       "        vertical-align: top;\n",
       "    }\n",
       "\n",
       "    .dataframe thead th {\n",
       "        text-align: right;\n",
       "    }\n",
       "</style>\n",
       "<table border=\"1\" class=\"dataframe\">\n",
       "  <thead>\n",
       "    <tr style=\"text-align: right;\">\n",
       "      <th></th>\n",
       "      <th>aa</th>\n",
       "      <th>aahu</th>\n",
       "      <th>aaron</th>\n",
       "      <th>abdomen</th>\n",
       "      <th>abiding</th>\n",
       "      <th>ability</th>\n",
       "      <th>abit</th>\n",
       "      <th>able</th>\n",
       "      <th>abnb</th>\n",
       "      <th>abnormal</th>\n",
       "      <th>...</th>\n",
       "      <th>ひだまりクッキング</th>\n",
       "      <th>五香粉</th>\n",
       "      <th>北京烤鴨</th>\n",
       "      <th>半筋半肉</th>\n",
       "      <th>牛腩</th>\n",
       "      <th>牛腱子</th>\n",
       "      <th>花椒</th>\n",
       "      <th>草果</th>\n",
       "      <th>갈비찜</th>\n",
       "      <th>진간장</th>\n",
       "    </tr>\n",
       "  </thead>\n",
       "  <tbody>\n",
       "    <tr>\n",
       "      <th>0</th>\n",
       "      <td>0</td>\n",
       "      <td>0</td>\n",
       "      <td>0</td>\n",
       "      <td>0</td>\n",
       "      <td>0</td>\n",
       "      <td>0</td>\n",
       "      <td>0</td>\n",
       "      <td>0</td>\n",
       "      <td>0</td>\n",
       "      <td>0</td>\n",
       "      <td>...</td>\n",
       "      <td>0</td>\n",
       "      <td>0</td>\n",
       "      <td>0</td>\n",
       "      <td>0</td>\n",
       "      <td>0</td>\n",
       "      <td>0</td>\n",
       "      <td>0</td>\n",
       "      <td>0</td>\n",
       "      <td>0</td>\n",
       "      <td>0</td>\n",
       "    </tr>\n",
       "    <tr>\n",
       "      <th>1</th>\n",
       "      <td>0</td>\n",
       "      <td>0</td>\n",
       "      <td>0</td>\n",
       "      <td>0</td>\n",
       "      <td>0</td>\n",
       "      <td>0</td>\n",
       "      <td>0</td>\n",
       "      <td>1</td>\n",
       "      <td>0</td>\n",
       "      <td>0</td>\n",
       "      <td>...</td>\n",
       "      <td>0</td>\n",
       "      <td>0</td>\n",
       "      <td>0</td>\n",
       "      <td>0</td>\n",
       "      <td>0</td>\n",
       "      <td>0</td>\n",
       "      <td>0</td>\n",
       "      <td>0</td>\n",
       "      <td>0</td>\n",
       "      <td>0</td>\n",
       "    </tr>\n",
       "    <tr>\n",
       "      <th>2</th>\n",
       "      <td>0</td>\n",
       "      <td>0</td>\n",
       "      <td>0</td>\n",
       "      <td>0</td>\n",
       "      <td>0</td>\n",
       "      <td>0</td>\n",
       "      <td>0</td>\n",
       "      <td>0</td>\n",
       "      <td>0</td>\n",
       "      <td>0</td>\n",
       "      <td>...</td>\n",
       "      <td>0</td>\n",
       "      <td>0</td>\n",
       "      <td>0</td>\n",
       "      <td>0</td>\n",
       "      <td>0</td>\n",
       "      <td>0</td>\n",
       "      <td>0</td>\n",
       "      <td>0</td>\n",
       "      <td>0</td>\n",
       "      <td>0</td>\n",
       "    </tr>\n",
       "  </tbody>\n",
       "</table>\n",
       "<p>3 rows × 16269 columns</p>\n",
       "</div>"
      ],
      "text/plain": [
       "   aa  aahu  aaron  abdomen  abiding  ability  abit  able  abnb  abnormal  \\\n",
       "0   0     0      0        0        0        0     0     0     0         0   \n",
       "1   0     0      0        0        0        0     0     1     0         0   \n",
       "2   0     0      0        0        0        0     0     0     0         0   \n",
       "\n",
       "   ...  ひだまりクッキング  五香粉  北京烤鴨  半筋半肉  牛腩  牛腱子  花椒  草果  갈비찜  진간장  \n",
       "0  ...          0    0     0     0   0    0   0   0    0    0  \n",
       "1  ...          0    0     0     0   0    0   0   0    0    0  \n",
       "2  ...          0    0     0     0   0    0   0   0    0    0  \n",
       "\n",
       "[3 rows x 16269 columns]"
      ]
     },
     "execution_count": 13,
     "metadata": {},
     "output_type": "execute_result"
    }
   ],
   "source": [
    "# use the default set of stop words (which includes 'alone')\n",
    "count_vec_culinary_neg = CountVectorizer(stop_words = stop_words_list)\n",
    "count_vec_culinary_neg.fit(culinary_neg_posts['all_text'])\n",
    "\n",
    "cul_neg_posts_matrix = count_vec_culinary_neg.transform(culinary_neg_posts['all_text'])\n",
    "\n",
    "# Code borrowed from lesson 5.04\n",
    "# convert training data to dataframe\n",
    "culinary_neg_words_df = pd.DataFrame(cul_neg_posts_matrix.todense(), columns = count_vec_culinary_neg.get_feature_names())\n",
    "\n",
    "culinary_neg_words_df.head(3)"
   ]
  },
  {
   "cell_type": "code",
   "execution_count": 14,
   "metadata": {},
   "outputs": [
    {
     "name": "stdout",
     "output_type": "stream",
     "text": [
      "There are 7519 words in the VADER lexicon.\n",
      "Try to find a match of the 16269 words found in the Ask Culinary posts.\n"
     ]
    }
   ],
   "source": [
    "print (f'There are {vader_lexicon.shape[0]} words in the VADER lexicon.' )\n",
    "print (f'Try to find a match of the {culinary_neg_words_df.shape[1]} words found in the Ask Culinary posts.' )"
   ]
  },
  {
   "cell_type": "markdown",
   "metadata": {},
   "source": [
    "Per lesson 5.04, summing the count vector dataframe creates a Series of word counts.  Its index contains the words themselves:"
   ]
  },
  {
   "cell_type": "code",
   "execution_count": 15,
   "metadata": {},
   "outputs": [
    {
     "data": {
      "text/plain": [
       "Index(['make', 'use', 'recipe', 'chicken', 'does', 'time', 'cooking', 'know',\n",
       "       'making', 'cook',\n",
       "       ...\n",
       "       'margarhita', 'marcato', 'mantecare', 'maraville', 'marathon',\n",
       "       'maraschino', 'manwich', 'manufactures', 'manufactors', 'aa'],\n",
       "      dtype='object', length=16269)"
      ]
     },
     "execution_count": 15,
     "metadata": {},
     "output_type": "execute_result"
    }
   ],
   "source": [
    "#Started with the idea of just getting the most common 500 words, but instead just get all words in the reddit posts.\n",
    "\n",
    "common_cul_neg_words = culinary_neg_words_df.sum().sort_values(ascending=False)\n",
    "common_cul_neg_words.index"
   ]
  },
  {
   "cell_type": "markdown",
   "metadata": {},
   "source": [
    "For each word in the subreddit posts, try to see if a sentiment value exists. If not a word is considered neutral."
   ]
  },
  {
   "cell_type": "code",
   "execution_count": 16,
   "metadata": {},
   "outputs": [
    {
     "name": "stdout",
     "output_type": "stream",
     "text": [
      "Found 1509 Ask Culinary words in the VADER lexicon.\n"
     ]
    },
    {
     "data": {
      "text/html": [
       "<div>\n",
       "<style scoped>\n",
       "    .dataframe tbody tr th:only-of-type {\n",
       "        vertical-align: middle;\n",
       "    }\n",
       "\n",
       "    .dataframe tbody tr th {\n",
       "        vertical-align: top;\n",
       "    }\n",
       "\n",
       "    .dataframe thead th {\n",
       "        text-align: right;\n",
       "    }\n",
       "</style>\n",
       "<table border=\"1\" class=\"dataframe\">\n",
       "  <thead>\n",
       "    <tr style=\"text-align: right;\">\n",
       "      <th></th>\n",
       "      <th>word</th>\n",
       "    </tr>\n",
       "  </thead>\n",
       "  <tbody>\n",
       "    <tr>\n",
       "      <th>0</th>\n",
       "      <td>want</td>\n",
       "    </tr>\n",
       "    <tr>\n",
       "      <th>1</th>\n",
       "      <td>good</td>\n",
       "    </tr>\n",
       "    <tr>\n",
       "      <th>2</th>\n",
       "      <td>help</td>\n",
       "    </tr>\n",
       "    <tr>\n",
       "      <th>3</th>\n",
       "      <td>thanks</td>\n",
       "    </tr>\n",
       "    <tr>\n",
       "      <th>4</th>\n",
       "      <td>sure</td>\n",
       "    </tr>\n",
       "  </tbody>\n",
       "</table>\n",
       "</div>"
      ],
      "text/plain": [
       "     word\n",
       "0    want\n",
       "1    good\n",
       "2    help\n",
       "3  thanks\n",
       "4    sure"
      ]
     },
     "execution_count": 16,
     "metadata": {},
     "output_type": "execute_result"
    }
   ],
   "source": [
    "found_cul_neg_words = pd.DataFrame([ word for word in list(common_cul_neg_words.index) if word in list(vader_lexicon['token'])] , columns =['word']) \n",
    "print (f'Found {found_cul_neg_words.shape[0]} Ask Culinary words in the VADER lexicon.')\n",
    "found_cul_neg_words.head()"
   ]
  },
  {
   "cell_type": "markdown",
   "metadata": {},
   "source": [
    "If a word is found in the VADER lexicon, add its average rating (-4 for most negative, +4 for most positive)"
   ]
  },
  {
   "cell_type": "code",
   "execution_count": 17,
   "metadata": {},
   "outputs": [
    {
     "data": {
      "text/html": [
       "<div>\n",
       "<style scoped>\n",
       "    .dataframe tbody tr th:only-of-type {\n",
       "        vertical-align: middle;\n",
       "    }\n",
       "\n",
       "    .dataframe tbody tr th {\n",
       "        vertical-align: top;\n",
       "    }\n",
       "\n",
       "    .dataframe thead th {\n",
       "        text-align: right;\n",
       "    }\n",
       "</style>\n",
       "<table border=\"1\" class=\"dataframe\">\n",
       "  <thead>\n",
       "    <tr style=\"text-align: right;\">\n",
       "      <th></th>\n",
       "      <th>word</th>\n",
       "      <th>rating</th>\n",
       "    </tr>\n",
       "  </thead>\n",
       "  <tbody>\n",
       "    <tr>\n",
       "      <th>0</th>\n",
       "      <td>want</td>\n",
       "      <td>0.3</td>\n",
       "    </tr>\n",
       "    <tr>\n",
       "      <th>1</th>\n",
       "      <td>good</td>\n",
       "      <td>1.9</td>\n",
       "    </tr>\n",
       "    <tr>\n",
       "      <th>2</th>\n",
       "      <td>help</td>\n",
       "      <td>1.7</td>\n",
       "    </tr>\n",
       "    <tr>\n",
       "      <th>3</th>\n",
       "      <td>thanks</td>\n",
       "      <td>1.9</td>\n",
       "    </tr>\n",
       "    <tr>\n",
       "      <th>4</th>\n",
       "      <td>sure</td>\n",
       "      <td>1.3</td>\n",
       "    </tr>\n",
       "  </tbody>\n",
       "</table>\n",
       "</div>"
      ],
      "text/plain": [
       "     word  rating\n",
       "0    want     0.3\n",
       "1    good     1.9\n",
       "2    help     1.7\n",
       "3  thanks     1.9\n",
       "4    sure     1.3"
      ]
     },
     "execution_count": 17,
     "metadata": {},
     "output_type": "execute_result"
    }
   ],
   "source": [
    "found_cul_neg_words['rating'] = [vader_lexicon[vader_lexicon['token'] == word]['mean_sentiment_rating'].values[0] for word in found_cul_neg_words['word']]\n",
    "\n",
    "# Sorting the words by most negative words in the lexicon displays some truly horrible words, so will not print out here.\n",
    "#found_cul_neg_words.sort_values(by='rating', inplace=True, ignore_index=True)\n",
    "\n",
    "found_cul_neg_words.head()"
   ]
  },
  {
   "cell_type": "code",
   "execution_count": 18,
   "metadata": {},
   "outputs": [
    {
     "data": {
      "text/html": [
       "<div>\n",
       "<style scoped>\n",
       "    .dataframe tbody tr th:only-of-type {\n",
       "        vertical-align: middle;\n",
       "    }\n",
       "\n",
       "    .dataframe tbody tr th {\n",
       "        vertical-align: top;\n",
       "    }\n",
       "\n",
       "    .dataframe thead th {\n",
       "        text-align: right;\n",
       "    }\n",
       "</style>\n",
       "<table border=\"1\" class=\"dataframe\">\n",
       "  <thead>\n",
       "    <tr style=\"text-align: right;\">\n",
       "      <th></th>\n",
       "      <th>rating</th>\n",
       "      <th>count</th>\n",
       "    </tr>\n",
       "    <tr>\n",
       "      <th>word</th>\n",
       "      <th></th>\n",
       "      <th></th>\n",
       "    </tr>\n",
       "  </thead>\n",
       "  <tbody>\n",
       "    <tr>\n",
       "      <th>lonely</th>\n",
       "      <td>-1.5</td>\n",
       "      <td>2</td>\n",
       "    </tr>\n",
       "  </tbody>\n",
       "</table>\n",
       "</div>"
      ],
      "text/plain": [
       "        rating  count\n",
       "word                 \n",
       "lonely    -1.5      2"
      ]
     },
     "execution_count": 18,
     "metadata": {},
     "output_type": "execute_result"
    }
   ],
   "source": [
    "lonely_cul_words = found_cul_neg_words[found_cul_neg_words['word'].str.contains('lone', regex=False)].copy()\n",
    "lonely_cul_words['count'] = [common_cul_neg_words [word] for word in lonely_cul_words['word']]\n",
    "lonely_cul_words.set_index('word', inplace=True)\n",
    "lonely_cul_words"
   ]
  },
  {
   "cell_type": "markdown",
   "metadata": {},
   "source": [
    "The word **alone** was found in the Ask Culinary subreddit posts 40 times.  The word **lonely** was found two times."
   ]
  },
  {
   "cell_type": "code",
   "execution_count": 19,
   "metadata": {},
   "outputs": [
    {
     "data": {
      "image/png": "[encoded data removed]",
      "text/plain": [
       "<Figure size 216x288 with 1 Axes>"
      ]
     },
     "metadata": {
      "needs_background": "light"
     },
     "output_type": "display_data"
    }
   ],
   "source": [
    "plt.figure(figsize=(3,4))\n",
    "\n",
    "ax = sns.barplot(y ='count', hue = 'rating', x = lonely_cul_words.index, data = lonely_cul_words,\n",
    "            palette = 'Blues', edgecolor = 'w', dodge=False)\n",
    "\n",
    "ax.set_title(\"Word Frequency in 8,000 Ask Culinary Posts\",fontsize=20)\n",
    "ax.set_xlabel(\"Word\",fontsize=20)\n",
    "ax.set_ylabel(\"Count\",fontsize=20)\n",
    "ax.tick_params(labelsize=25)\n",
    "plt.setp(ax.get_legend().get_texts(), fontsize='20')\n",
    "plt.setp(ax.get_legend().get_title(), fontsize='20')\n",
    "\n",
    "# ax.text(0,30, '40', ha='center', fontsize=20, color='white')\n",
    "# ax.text(1,7, '2', ha='center', fontsize=20, color='gray')\n",
    "\n",
    "sns.despine()\n",
    "\n",
    "plt.show()"
   ]
  },
  {
   "cell_type": "markdown",
   "metadata": {},
   "source": [
    "Repeat all steps to find negative words in most negative running posts"
   ]
  },
  {
   "cell_type": "code",
   "execution_count": 20,
   "metadata": {},
   "outputs": [
    {
     "data": {
      "text/plain": [
       "(8081, 13)"
      ]
     },
     "execution_count": 20,
     "metadata": {},
     "output_type": "execute_result"
    }
   ],
   "source": [
    "running_df.shape"
   ]
  },
  {
   "cell_type": "code",
   "execution_count": 21,
   "metadata": {},
   "outputs": [
    {
     "data": {
      "text/html": [
       "<div>\n",
       "<style scoped>\n",
       "    .dataframe tbody tr th:only-of-type {\n",
       "        vertical-align: middle;\n",
       "    }\n",
       "\n",
       "    .dataframe tbody tr th {\n",
       "        vertical-align: top;\n",
       "    }\n",
       "\n",
       "    .dataframe thead th {\n",
       "        text-align: right;\n",
       "    }\n",
       "</style>\n",
       "<table border=\"1\" class=\"dataframe\">\n",
       "  <thead>\n",
       "    <tr style=\"text-align: right;\">\n",
       "      <th></th>\n",
       "      <th>index</th>\n",
       "      <th>subreddit</th>\n",
       "      <th>selftext</th>\n",
       "      <th>title</th>\n",
       "      <th>author</th>\n",
       "      <th>created_utc</th>\n",
       "      <th>created_date</th>\n",
       "      <th>all_text</th>\n",
       "      <th>class</th>\n",
       "      <th>neg</th>\n",
       "      <th>neu</th>\n",
       "      <th>pos</th>\n",
       "      <th>compound</th>\n",
       "    </tr>\n",
       "  </thead>\n",
       "  <tbody>\n",
       "    <tr>\n",
       "      <th>2024</th>\n",
       "      <td>11790</td>\n",
       "      <td>running</td>\n",
       "      <td>I've been running since August. Smaller distan...</td>\n",
       "      <td>Impromptu Half Marathon (my 1st)</td>\n",
       "      <td>pako1337</td>\n",
       "      <td>1607930409</td>\n",
       "      <td>2020-12-14 07:20:09</td>\n",
       "      <td>I have been running since August. Smaller dist...</td>\n",
       "      <td>0</td>\n",
       "      <td>0.058</td>\n",
       "      <td>0.736</td>\n",
       "      <td>0.206</td>\n",
       "      <td>0.9965</td>\n",
       "    </tr>\n",
       "    <tr>\n",
       "      <th>7612</th>\n",
       "      <td>17378</td>\n",
       "      <td>running</td>\n",
       "      <td>Good morning runners,\\n\\nToday I set out for a...</td>\n",
       "      <td>Alternate ways to check your progress (not che...</td>\n",
       "      <td>Musef</td>\n",
       "      <td>1601901059</td>\n",
       "      <td>2020-10-05 12:30:59</td>\n",
       "      <td>Good morning runners,  Today I set out for a  ...</td>\n",
       "      <td>0</td>\n",
       "      <td>0.005</td>\n",
       "      <td>0.754</td>\n",
       "      <td>0.241</td>\n",
       "      <td>0.9965</td>\n",
       "    </tr>\n",
       "    <tr>\n",
       "      <th>4605</th>\n",
       "      <td>14371</td>\n",
       "      <td>running</td>\n",
       "      <td>Lots of posts be like .. i ran 2 miles without...</td>\n",
       "      <td>Runners need to stop saying they're \"bad\" at r...</td>\n",
       "      <td>miii13</td>\n",
       "      <td>1605050194</td>\n",
       "      <td>2020-11-10 23:16:34</td>\n",
       "      <td>Lots of posts be like .. i ran   miles without...</td>\n",
       "      <td>0</td>\n",
       "      <td>0.022</td>\n",
       "      <td>0.699</td>\n",
       "      <td>0.279</td>\n",
       "      <td>0.9965</td>\n",
       "    </tr>\n",
       "  </tbody>\n",
       "</table>\n",
       "</div>"
      ],
      "text/plain": [
       "      index subreddit                                           selftext  \\\n",
       "2024  11790   running  I've been running since August. Smaller distan...   \n",
       "7612  17378   running  Good morning runners,\\n\\nToday I set out for a...   \n",
       "4605  14371   running  Lots of posts be like .. i ran 2 miles without...   \n",
       "\n",
       "                                                  title    author  \\\n",
       "2024                   Impromptu Half Marathon (my 1st)  pako1337   \n",
       "7612  Alternate ways to check your progress (not che...     Musef   \n",
       "4605  Runners need to stop saying they're \"bad\" at r...    miii13   \n",
       "\n",
       "      created_utc         created_date  \\\n",
       "2024   1607930409  2020-12-14 07:20:09   \n",
       "7612   1601901059  2020-10-05 12:30:59   \n",
       "4605   1605050194  2020-11-10 23:16:34   \n",
       "\n",
       "                                               all_text  class    neg    neu  \\\n",
       "2024  I have been running since August. Smaller dist...      0  0.058  0.736   \n",
       "7612  Good morning runners,  Today I set out for a  ...      0  0.005  0.754   \n",
       "4605  Lots of posts be like .. i ran   miles without...      0  0.022  0.699   \n",
       "\n",
       "        pos  compound  \n",
       "2024  0.206    0.9965  \n",
       "7612  0.241    0.9965  \n",
       "4605  0.279    0.9965  "
      ]
     },
     "execution_count": 21,
     "metadata": {},
     "output_type": "execute_result"
    }
   ],
   "source": [
    "# First idea was just take the most 300 posts, but later decided to go with 8_000 for each\n",
    "running_neg_posts = running_df.sort_values(by='compound')[0:8000]\n",
    "running_neg_posts.tail(3)"
   ]
  },
  {
   "cell_type": "markdown",
   "metadata": {},
   "source": [
    "#### Create CountVectorizer"
   ]
  },
  {
   "cell_type": "code",
   "execution_count": 22,
   "metadata": {},
   "outputs": [
    {
     "data": {
      "text/html": [
       "<div>\n",
       "<style scoped>\n",
       "    .dataframe tbody tr th:only-of-type {\n",
       "        vertical-align: middle;\n",
       "    }\n",
       "\n",
       "    .dataframe tbody tr th {\n",
       "        vertical-align: top;\n",
       "    }\n",
       "\n",
       "    .dataframe thead th {\n",
       "        text-align: right;\n",
       "    }\n",
       "</style>\n",
       "<table border=\"1\" class=\"dataframe\">\n",
       "  <thead>\n",
       "    <tr style=\"text-align: right;\">\n",
       "      <th></th>\n",
       "      <th>aa</th>\n",
       "      <th>aaand</th>\n",
       "      <th>ab</th>\n",
       "      <th>ababel</th>\n",
       "      <th>aback</th>\n",
       "      <th>abandon</th>\n",
       "      <th>abandoned</th>\n",
       "      <th>abandoning</th>\n",
       "      <th>abb</th>\n",
       "      <th>abc</th>\n",
       "      <th>...</th>\n",
       "      <th>zoomx</th>\n",
       "      <th>zr</th>\n",
       "      <th>zwift</th>\n",
       "      <th>zyrtec</th>\n",
       "      <th>élévation</th>\n",
       "      <th>œil</th>\n",
       "      <th>και</th>\n",
       "      <th>καλημέρα</th>\n",
       "      <th>καλό</th>\n",
       "      <th>μήνα</th>\n",
       "    </tr>\n",
       "  </thead>\n",
       "  <tbody>\n",
       "    <tr>\n",
       "      <th>0</th>\n",
       "      <td>0</td>\n",
       "      <td>0</td>\n",
       "      <td>0</td>\n",
       "      <td>0</td>\n",
       "      <td>0</td>\n",
       "      <td>0</td>\n",
       "      <td>0</td>\n",
       "      <td>0</td>\n",
       "      <td>0</td>\n",
       "      <td>0</td>\n",
       "      <td>...</td>\n",
       "      <td>0</td>\n",
       "      <td>0</td>\n",
       "      <td>0</td>\n",
       "      <td>0</td>\n",
       "      <td>0</td>\n",
       "      <td>0</td>\n",
       "      <td>0</td>\n",
       "      <td>0</td>\n",
       "      <td>0</td>\n",
       "      <td>0</td>\n",
       "    </tr>\n",
       "    <tr>\n",
       "      <th>1</th>\n",
       "      <td>0</td>\n",
       "      <td>0</td>\n",
       "      <td>0</td>\n",
       "      <td>0</td>\n",
       "      <td>0</td>\n",
       "      <td>0</td>\n",
       "      <td>0</td>\n",
       "      <td>0</td>\n",
       "      <td>0</td>\n",
       "      <td>0</td>\n",
       "      <td>...</td>\n",
       "      <td>0</td>\n",
       "      <td>0</td>\n",
       "      <td>0</td>\n",
       "      <td>0</td>\n",
       "      <td>0</td>\n",
       "      <td>0</td>\n",
       "      <td>0</td>\n",
       "      <td>0</td>\n",
       "      <td>0</td>\n",
       "      <td>0</td>\n",
       "    </tr>\n",
       "    <tr>\n",
       "      <th>2</th>\n",
       "      <td>0</td>\n",
       "      <td>0</td>\n",
       "      <td>0</td>\n",
       "      <td>0</td>\n",
       "      <td>0</td>\n",
       "      <td>0</td>\n",
       "      <td>0</td>\n",
       "      <td>0</td>\n",
       "      <td>0</td>\n",
       "      <td>0</td>\n",
       "      <td>...</td>\n",
       "      <td>0</td>\n",
       "      <td>0</td>\n",
       "      <td>0</td>\n",
       "      <td>0</td>\n",
       "      <td>0</td>\n",
       "      <td>0</td>\n",
       "      <td>0</td>\n",
       "      <td>0</td>\n",
       "      <td>0</td>\n",
       "      <td>0</td>\n",
       "    </tr>\n",
       "  </tbody>\n",
       "</table>\n",
       "<p>3 rows × 17962 columns</p>\n",
       "</div>"
      ],
      "text/plain": [
       "   aa  aaand  ab  ababel  aback  abandon  abandoned  abandoning  abb  abc  \\\n",
       "0   0      0   0       0      0        0          0           0    0    0   \n",
       "1   0      0   0       0      0        0          0           0    0    0   \n",
       "2   0      0   0       0      0        0          0           0    0    0   \n",
       "\n",
       "   ...  zoomx  zr  zwift  zyrtec  élévation  œil  και  καλημέρα  καλό  μήνα  \n",
       "0  ...      0   0      0       0          0    0    0         0     0     0  \n",
       "1  ...      0   0      0       0          0    0    0         0     0     0  \n",
       "2  ...      0   0      0       0          0    0    0         0     0     0  \n",
       "\n",
       "[3 rows x 17962 columns]"
      ]
     },
     "execution_count": 22,
     "metadata": {},
     "output_type": "execute_result"
    }
   ],
   "source": [
    "# Use sklearn's default stop words, which still contains *alone*\n",
    "count_vec_running_neg = CountVectorizer(stop_words = stop_words_list)\n",
    "\n",
    "count_vec_running_neg.fit(running_neg_posts['all_text'])\n",
    "\n",
    "run_neg_posts_matrix = count_vec_running_neg.transform(running_neg_posts['all_text'])\n",
    "\n",
    "running_neg_words_df = pd.DataFrame(run_neg_posts_matrix.todense(), columns = count_vec_running_neg.get_feature_names())\n",
    "\n",
    "running_neg_words_df.head(3)"
   ]
  },
  {
   "cell_type": "markdown",
   "metadata": {},
   "source": [
    "Per lesson 5.04, summing the count vector dataframe creates a Series of word counts.  Its index contains the words themselves:"
   ]
  },
  {
   "cell_type": "code",
   "execution_count": 23,
   "metadata": {},
   "outputs": [
    {
     "data": {
      "text/plain": [
       "Index(['time', 'week', 'miles', 'training', 'really', 'mile', 'started',\n",
       "       'runs', 'marathon', 'day',\n",
       "       ...\n",
       "       'fussy', 'fusterated', 'futbol', 'futility', 'roadhawk', 'roadblock',\n",
       "       'fuvking', 'fz', 'gabe', 'μήνα'],\n",
       "      dtype='object', length=17962)"
      ]
     },
     "execution_count": 23,
     "metadata": {},
     "output_type": "execute_result"
    }
   ],
   "source": [
    "#Started with the idea of just getting the most common 500 words, but instead just get all words in the reddit posts.\n",
    "\n",
    "common_run_neg_words = running_neg_words_df.sum().sort_values(ascending=False)\n",
    "common_run_neg_words.index"
   ]
  },
  {
   "cell_type": "markdown",
   "metadata": {},
   "source": [
    "For each word in the subreddit posts, try to see if a sentiment value exists. If not a word is considered neutral."
   ]
  },
  {
   "cell_type": "code",
   "execution_count": 24,
   "metadata": {},
   "outputs": [
    {
     "name": "stdout",
     "output_type": "stream",
     "text": [
      "Found 2095 running words in the VADER lexicon.\n"
     ]
    },
    {
     "data": {
      "text/html": [
       "<div>\n",
       "<style scoped>\n",
       "    .dataframe tbody tr th:only-of-type {\n",
       "        vertical-align: middle;\n",
       "    }\n",
       "\n",
       "    .dataframe tbody tr th {\n",
       "        vertical-align: top;\n",
       "    }\n",
       "\n",
       "    .dataframe thead th {\n",
       "        text-align: right;\n",
       "    }\n",
       "</style>\n",
       "<table border=\"1\" class=\"dataframe\">\n",
       "  <thead>\n",
       "    <tr style=\"text-align: right;\">\n",
       "      <th></th>\n",
       "      <th>word</th>\n",
       "    </tr>\n",
       "  </thead>\n",
       "  <tbody>\n",
       "    <tr>\n",
       "      <th>0</th>\n",
       "      <td>pain</td>\n",
       "    </tr>\n",
       "    <tr>\n",
       "      <th>1</th>\n",
       "      <td>good</td>\n",
       "    </tr>\n",
       "    <tr>\n",
       "      <th>2</th>\n",
       "      <td>want</td>\n",
       "    </tr>\n",
       "    <tr>\n",
       "      <th>3</th>\n",
       "      <td>help</td>\n",
       "    </tr>\n",
       "    <tr>\n",
       "      <th>4</th>\n",
       "      <td>thanks</td>\n",
       "    </tr>\n",
       "  </tbody>\n",
       "</table>\n",
       "</div>"
      ],
      "text/plain": [
       "     word\n",
       "0    pain\n",
       "1    good\n",
       "2    want\n",
       "3    help\n",
       "4  thanks"
      ]
     },
     "execution_count": 24,
     "metadata": {},
     "output_type": "execute_result"
    }
   ],
   "source": [
    "found_run_neg_words = pd.DataFrame([ word for word in list(common_run_neg_words.index) if word in list(vader_lexicon['token'])] , columns =['word']) \n",
    "print (f'Found {found_run_neg_words.shape[0]} running words in the VADER lexicon.')\n",
    "found_run_neg_words.head()"
   ]
  },
  {
   "cell_type": "markdown",
   "metadata": {},
   "source": [
    "If a word is found in the VADER lexicon, add its average rating (-4 for most negative, +4 for most positive)"
   ]
  },
  {
   "cell_type": "code",
   "execution_count": 25,
   "metadata": {},
   "outputs": [
    {
     "data": {
      "text/html": [
       "<div>\n",
       "<style scoped>\n",
       "    .dataframe tbody tr th:only-of-type {\n",
       "        vertical-align: middle;\n",
       "    }\n",
       "\n",
       "    .dataframe tbody tr th {\n",
       "        vertical-align: top;\n",
       "    }\n",
       "\n",
       "    .dataframe thead th {\n",
       "        text-align: right;\n",
       "    }\n",
       "</style>\n",
       "<table border=\"1\" class=\"dataframe\">\n",
       "  <thead>\n",
       "    <tr style=\"text-align: right;\">\n",
       "      <th></th>\n",
       "      <th>word</th>\n",
       "      <th>rating</th>\n",
       "    </tr>\n",
       "  </thead>\n",
       "  <tbody>\n",
       "    <tr>\n",
       "      <th>0</th>\n",
       "      <td>pain</td>\n",
       "      <td>-2.3</td>\n",
       "    </tr>\n",
       "    <tr>\n",
       "      <th>1</th>\n",
       "      <td>good</td>\n",
       "      <td>1.9</td>\n",
       "    </tr>\n",
       "    <tr>\n",
       "      <th>2</th>\n",
       "      <td>want</td>\n",
       "      <td>0.3</td>\n",
       "    </tr>\n",
       "    <tr>\n",
       "      <th>3</th>\n",
       "      <td>help</td>\n",
       "      <td>1.7</td>\n",
       "    </tr>\n",
       "    <tr>\n",
       "      <th>4</th>\n",
       "      <td>thanks</td>\n",
       "      <td>1.9</td>\n",
       "    </tr>\n",
       "  </tbody>\n",
       "</table>\n",
       "</div>"
      ],
      "text/plain": [
       "     word  rating\n",
       "0    pain    -2.3\n",
       "1    good     1.9\n",
       "2    want     0.3\n",
       "3    help     1.7\n",
       "4  thanks     1.9"
      ]
     },
     "execution_count": 25,
     "metadata": {},
     "output_type": "execute_result"
    }
   ],
   "source": [
    "found_run_neg_words['rating'] = [vader_lexicon[vader_lexicon['token'] == word]['mean_sentiment_rating'].values[0] for word in found_run_neg_words['word']]\n",
    "\n",
    "# Sorting the words by most negative words in the lexicon displays some truly horrible words, so will not print out here.\n",
    "#found_run_neg_words.sort_values(by='rating', inplace=True, ignore_index=True)\n",
    "\n",
    "found_run_neg_words.head()"
   ]
  },
  {
   "cell_type": "code",
   "execution_count": 26,
   "metadata": {},
   "outputs": [
    {
     "data": {
      "text/html": [
       "<div>\n",
       "<style scoped>\n",
       "    .dataframe tbody tr th:only-of-type {\n",
       "        vertical-align: middle;\n",
       "    }\n",
       "\n",
       "    .dataframe tbody tr th {\n",
       "        vertical-align: top;\n",
       "    }\n",
       "\n",
       "    .dataframe thead th {\n",
       "        text-align: right;\n",
       "    }\n",
       "</style>\n",
       "<table border=\"1\" class=\"dataframe\">\n",
       "  <thead>\n",
       "    <tr style=\"text-align: right;\">\n",
       "      <th></th>\n",
       "      <th>rating</th>\n",
       "      <th>count</th>\n",
       "    </tr>\n",
       "    <tr>\n",
       "      <th>word</th>\n",
       "      <th></th>\n",
       "      <th></th>\n",
       "    </tr>\n",
       "  </thead>\n",
       "  <tbody>\n",
       "    <tr>\n",
       "      <th>lonely</th>\n",
       "      <td>-1.5</td>\n",
       "      <td>8</td>\n",
       "    </tr>\n",
       "    <tr>\n",
       "      <th>lone</th>\n",
       "      <td>-1.1</td>\n",
       "      <td>7</td>\n",
       "    </tr>\n",
       "    <tr>\n",
       "      <th>lonelier</th>\n",
       "      <td>-1.4</td>\n",
       "      <td>1</td>\n",
       "    </tr>\n",
       "    <tr>\n",
       "      <th>loneliness</th>\n",
       "      <td>-1.8</td>\n",
       "      <td>1</td>\n",
       "    </tr>\n",
       "  </tbody>\n",
       "</table>\n",
       "</div>"
      ],
      "text/plain": [
       "            rating  count\n",
       "word                     \n",
       "lonely        -1.5      8\n",
       "lone          -1.1      7\n",
       "lonelier      -1.4      1\n",
       "loneliness    -1.8      1"
      ]
     },
     "execution_count": 26,
     "metadata": {},
     "output_type": "execute_result"
    }
   ],
   "source": [
    "lonely_run_words = found_run_neg_words[found_run_neg_words['word'].str.contains('lone', regex=False)].copy()\n",
    "lonely_run_words['count'] = [common_run_neg_words [word] for word in lonely_run_words['word']]\n",
    "lonely_run_words.set_index('word', inplace=True)\n",
    "lonely_run_words.head()"
   ]
  },
  {
   "cell_type": "code",
   "execution_count": 27,
   "metadata": {},
   "outputs": [
    {
     "data": {
      "image/png": "[encoded data removed]",
      "text/plain": [
       "<Figure size 504x288 with 1 Axes>"
      ]
     },
     "metadata": {
      "needs_background": "light"
     },
     "output_type": "display_data"
    }
   ],
   "source": [
    "plt.figure(figsize=(7,4))\n",
    "\n",
    "ax = sns.barplot(y ='count', hue = 'rating', x = lonely_run_words.index, data = lonely_run_words,\n",
    "            palette = 'Blues', edgecolor = 'w', dodge=False)\n",
    "\n",
    "ax.set_title(\"Word Frequency in 8,000 running Posts\",fontsize=20)\n",
    "ax.set_xlabel(\"Word\",fontsize=20)\n",
    "ax.set_ylabel(\"Count\",fontsize=20)\n",
    "ax.tick_params(labelsize=15)\n",
    "plt.setp(ax.get_legend().get_texts(), fontsize='20')\n",
    "plt.setp(ax.get_legend().get_title(), fontsize='20')\n",
    "\n",
    "#ax.text(0,110, '125', ha='center', fontsize=15, color='white')\n",
    "ax.text(0,7, '8', ha='center', fontsize=15, color='black')\n",
    "ax.text(1,7.3, '7', ha='center', fontsize=15, color='black')\n",
    "ax.text(2,2, '1', ha='center', fontsize=15, color='gray')\n",
    "ax.text(3,2, '1', ha='center', fontsize=15, color='gray')\n",
    "\n",
    "sns.despine()\n",
    "\n",
    "plt.show()\n",
    "\n",
    "\n"
   ]
  },
  {
   "cell_type": "markdown",
   "metadata": {},
   "source": [
    "After going through my process of collecting all the aggregated sentiment scores and search results, I took me a chunk of time to figure out why the term **alone** was missing from my results.\n",
    "\n",
    "This was due to the fact that the VADER default stop words file contained the exact term I was searching for.\n",
    "\n",
    "**Lesson learned:** Inspect the stop words file carefully, as well as other tools or libraries one might be using."
   ]
  },
  {
   "cell_type": "code",
   "execution_count": null,
   "metadata": {},
   "outputs": [],
   "source": []
  }
 ],
 "metadata": {
  "kernelspec": {
   "display_name": "Python 3",
   "language": "python",
   "name": "python3"
  },
  "language_info": {
   "codemirror_mode": {
    "name": "ipython",
    "version": 3
   },
   "file_extension": ".py",
   "mimetype": "text/x-python",
   "name": "python",
   "nbconvert_exporter": "python",
   "pygments_lexer": "ipython3",
   "version": "3.8.3"
  }
 },
 "nbformat": 4,
 "nbformat_minor": 4
}
