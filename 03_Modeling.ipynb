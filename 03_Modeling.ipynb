{
 "cells": [
  {
   "cell_type": "markdown",
   "metadata": {},
   "source": [
    "## Reddit Post Natural Language Processing and Classification\n",
    "![reddit](images/reddit_logo.png)\n",
    "### 03. Modeling\n",
    "\n",
    "\n"
   ]
  },
  {
   "cell_type": "code",
   "execution_count": 192,
   "metadata": {},
   "outputs": [],
   "source": [
    "import pandas as pd\n",
    "import matplotlib.pyplot as plt\n",
    "\n",
    "from sklearn.feature_extraction.text import CountVectorizer, TfidfVectorizer\n",
    "from sklearn.feature_extraction import text\n",
    "\n",
    "from sklearn.model_selection import train_test_split, GridSearchCV\n",
    "from sklearn.pipeline import Pipeline\n",
    "from sklearn.neighbors import KNeighborsClassifier\n",
    "from sklearn.ensemble import RandomForestClassifier\n",
    "from sklearn.naive_bayes import MultinomialNB\n",
    "from sklearn.metrics import confusion_matrix, plot_confusion_matrix"
   ]
  },
  {
   "cell_type": "markdown",
   "metadata": {},
   "source": [
    "Read in cleaned data from csv file."
   ]
  },
  {
   "cell_type": "code",
   "execution_count": 193,
   "metadata": {},
   "outputs": [
    {
     "data": {
      "text/html": [
       "<div>\n",
       "<style scoped>\n",
       "    .dataframe tbody tr th:only-of-type {\n",
       "        vertical-align: middle;\n",
       "    }\n",
       "\n",
       "    .dataframe tbody tr th {\n",
       "        vertical-align: top;\n",
       "    }\n",
       "\n",
       "    .dataframe thead th {\n",
       "        text-align: right;\n",
       "    }\n",
       "</style>\n",
       "<table border=\"1\" class=\"dataframe\">\n",
       "  <thead>\n",
       "    <tr style=\"text-align: right;\">\n",
       "      <th></th>\n",
       "      <th>subreddit</th>\n",
       "      <th>selftext</th>\n",
       "      <th>title</th>\n",
       "      <th>author</th>\n",
       "      <th>created_utc</th>\n",
       "      <th>created_date</th>\n",
       "      <th>all_text</th>\n",
       "      <th>class</th>\n",
       "    </tr>\n",
       "  </thead>\n",
       "  <tbody>\n",
       "    <tr>\n",
       "      <th>0</th>\n",
       "      <td>AskCulinary</td>\n",
       "      <td>Hi everyone,\\n\\nI'm not sure if this is the pl...</td>\n",
       "      <td>Fridge for an instructional kitchen?</td>\n",
       "      <td>PrinceOfWales_</td>\n",
       "      <td>1610056955</td>\n",
       "      <td>2021-01-07 22:02:35</td>\n",
       "      <td>Hi everyone,  I'm not sure if this is the plac...</td>\n",
       "      <td>1</td>\n",
       "    </tr>\n",
       "    <tr>\n",
       "      <th>1</th>\n",
       "      <td>AskCulinary</td>\n",
       "      <td>Hey, I was wondering if anybody had tips to ke...</td>\n",
       "      <td>How to keep sourdough starter jar clean?</td>\n",
       "      <td>frowogger</td>\n",
       "      <td>1610055394</td>\n",
       "      <td>2021-01-07 21:36:34</td>\n",
       "      <td>Hey, I was wondering if anybody had tips to ke...</td>\n",
       "      <td>1</td>\n",
       "    </tr>\n",
       "    <tr>\n",
       "      <th>2</th>\n",
       "      <td>AskCulinary</td>\n",
       "      <td>\\nI’m Gonna make birria tacos tomorrow and my ...</td>\n",
       "      <td>What substitutes can I use for guajillo chili’...</td>\n",
       "      <td>pelse_O_clock</td>\n",
       "      <td>1610055301</td>\n",
       "      <td>2021-01-07 21:35:01</td>\n",
       "      <td>I’m Gonna make birria tacos tomorrow and my g...</td>\n",
       "      <td>1</td>\n",
       "    </tr>\n",
       "    <tr>\n",
       "      <th>3</th>\n",
       "      <td>AskCulinary</td>\n",
       "      <td>Hi all,\\n\\nI just found a steal on a WagnerWar...</td>\n",
       "      <td>Wagner Magnalite Dutch Oven</td>\n",
       "      <td>EmbryoRoux</td>\n",
       "      <td>1610055100</td>\n",
       "      <td>2021-01-07 21:31:40</td>\n",
       "      <td>Hi all,  I just found a steal on a WagnerWare ...</td>\n",
       "      <td>1</td>\n",
       "    </tr>\n",
       "    <tr>\n",
       "      <th>4</th>\n",
       "      <td>AskCulinary</td>\n",
       "      <td>Hi all,\\n\\nI tried making Julia's recipe for P...</td>\n",
       "      <td>AWFUL SMELL Potage Parmentier/Vichyssoise</td>\n",
       "      <td>batcat03</td>\n",
       "      <td>1610054738</td>\n",
       "      <td>2021-01-07 21:25:38</td>\n",
       "      <td>Hi all,  I tried making Julia's recipe for Pot...</td>\n",
       "      <td>1</td>\n",
       "    </tr>\n",
       "  </tbody>\n",
       "</table>\n",
       "</div>"
      ],
      "text/plain": [
       "     subreddit                                           selftext  \\\n",
       "0  AskCulinary  Hi everyone,\\n\\nI'm not sure if this is the pl...   \n",
       "1  AskCulinary  Hey, I was wondering if anybody had tips to ke...   \n",
       "2  AskCulinary  \\nI’m Gonna make birria tacos tomorrow and my ...   \n",
       "3  AskCulinary  Hi all,\\n\\nI just found a steal on a WagnerWar...   \n",
       "4  AskCulinary  Hi all,\\n\\nI tried making Julia's recipe for P...   \n",
       "\n",
       "                                               title          author  \\\n",
       "0               Fridge for an instructional kitchen?  PrinceOfWales_   \n",
       "1           How to keep sourdough starter jar clean?       frowogger   \n",
       "2  What substitutes can I use for guajillo chili’...   pelse_O_clock   \n",
       "3                        Wagner Magnalite Dutch Oven      EmbryoRoux   \n",
       "4          AWFUL SMELL Potage Parmentier/Vichyssoise        batcat03   \n",
       "\n",
       "   created_utc         created_date  \\\n",
       "0   1610056955  2021-01-07 22:02:35   \n",
       "1   1610055394  2021-01-07 21:36:34   \n",
       "2   1610055301  2021-01-07 21:35:01   \n",
       "3   1610055100  2021-01-07 21:31:40   \n",
       "4   1610054738  2021-01-07 21:25:38   \n",
       "\n",
       "                                            all_text  class  \n",
       "0  Hi everyone,  I'm not sure if this is the plac...      1  \n",
       "1  Hey, I was wondering if anybody had tips to ke...      1  \n",
       "2   I’m Gonna make birria tacos tomorrow and my g...      1  \n",
       "3  Hi all,  I just found a steal on a WagnerWare ...      1  \n",
       "4  Hi all,  I tried making Julia's recipe for Pot...      1  "
      ]
     },
     "execution_count": 193,
     "metadata": {},
     "output_type": "execute_result"
    }
   ],
   "source": [
    "posts_df = pd.read_csv('data/clean_posts.csv')\n",
    "posts_df.head()"
   ]
  },
  {
   "cell_type": "code",
   "execution_count": 194,
   "metadata": {},
   "outputs": [
    {
     "data": {
      "text/plain": [
       "(17847, 8)"
      ]
     },
     "execution_count": 194,
     "metadata": {},
     "output_type": "execute_result"
    }
   ],
   "source": [
    "posts_df.shape"
   ]
  },
  {
   "cell_type": "markdown",
   "metadata": {},
   "source": [
    "After cleaning and performing EDA, the data set contains close to 18_000 posts.\n",
    "\n",
    "55% of the rows are in the **Ask Culinary** subreddit.\n",
    "45% of the rows are in the **running** subreddit.\n",
    "\n",
    "This is still fairly balanced, but is due to the fact that many rows in running had to be dropped due to being removed, or containing junk data.\n"
   ]
  },
  {
   "cell_type": "code",
   "execution_count": 195,
   "metadata": {},
   "outputs": [
    {
     "data": {
      "text/plain": [
       "1    0.547207\n",
       "0    0.452793\n",
       "Name: class, dtype: float64"
      ]
     },
     "execution_count": 195,
     "metadata": {},
     "output_type": "execute_result"
    }
   ],
   "source": [
    "X = posts_df['all_text']\n",
    "y = posts_df['class']\n",
    "y.value_counts(normalize=True)"
   ]
  },
  {
   "cell_type": "code",
   "execution_count": 196,
   "metadata": {},
   "outputs": [],
   "source": [
    "X_train, X_test, y_train, y_test = train_test_split(X, y, test_size=0.33, stratify=y, random_state=21)"
   ]
  },
  {
   "cell_type": "markdown",
   "metadata": {},
   "source": [
    "### Create Three Models\n",
    "1. Pipeline with:\n",
    "* CountVectorizer (transformer)\n",
    "* Multinomial Naive Bayes (estimator)\n",
    "\n",
    "2. Pipeline with:\n",
    "* TfidfVectorizer (transformer)\n",
    "* KNeighborsClassifier (estimator)\n",
    "\n",
    "3. Pipeline with:\n",
    "* CountVectorizer (transformer)\n",
    "* Random Forest (estimator)\n",
    "\n"
   ]
  },
  {
   "cell_type": "markdown",
   "metadata": {},
   "source": [
    "--- \n",
    "#### 1. Pipeline with:\n",
    "* CountVectorizer (transformer)\n",
    "* Multinomial Naive Bayes (estimator)\n",
    "\n",
    "Code borrowed heavily from class lecture 5.04"
   ]
  },
  {
   "cell_type": "code",
   "execution_count": 197,
   "metadata": {},
   "outputs": [],
   "source": [
    "pipe = Pipeline([\n",
    "    ('cvec', CountVectorizer()),\n",
    "    ('nb', MultinomialNB())\n",
    "])"
   ]
  },
  {
   "cell_type": "code",
   "execution_count": 198,
   "metadata": {},
   "outputs": [],
   "source": [
    "# Add stop words that might be measurements for recipes, and distance for running (km)\n",
    "# hat tip to for adding custom stop words : https://stackoverflow.com/a/24386751/732396\n",
    "\n",
    "# the most common words in the running subreddit were, not surprisingly, run and running, so take\n",
    "# those out\n",
    "\n",
    "# After our EDA, add 'just' and 'like', which were the two most common words\n",
    "added_stop_words = ['oz', 'cups', 'km', 'run', 'running', 'just', 'like']\n",
    "stop_words_list = text.ENGLISH_STOP_WORDS.union(added_stop_words)"
   ]
  },
  {
   "cell_type": "markdown",
   "metadata": {},
   "source": [
    "The word **'alone'** is in the default stop words file, but this is something I am trying to research for my problem statement. So remove it from the list of stop_words.\n",
    "\n",
    "The sklearn ENGLISH_STOP_WORDS is a frozenset, so a value can not be easily removed.<br>\n",
    "Instead, make a copy into a new list, then remove the word 'alone'.\n",
    "\n",
    "This is explained in more detail in the 04 Sentiment notebook."
   ]
  },
  {
   "cell_type": "code",
   "execution_count": 199,
   "metadata": {},
   "outputs": [],
   "source": [
    "unfrozen_stop_words = [word for word in stop_words_list]\n",
    "unfrozen_stop_words.remove('alone')"
   ]
  },
  {
   "cell_type": "code",
   "execution_count": 200,
   "metadata": {},
   "outputs": [
    {
     "name": "stdout",
     "output_type": "stream",
     "text": [
      "Fitting 5 folds for each of 48 candidates, totalling 240 fits\n"
     ]
    },
    {
     "name": "stderr",
     "output_type": "stream",
     "text": [
      "[Parallel(n_jobs=-1)]: Using backend LokyBackend with 12 concurrent workers.\n",
      "[Parallel(n_jobs=-1)]: Done  26 tasks      | elapsed:    9.9s\n",
      "[Parallel(n_jobs=-1)]: Done 176 tasks      | elapsed:   46.2s\n",
      "[Parallel(n_jobs=-1)]: Done 240 out of 240 | elapsed:  1.0min finished\n"
     ]
    },
    {
     "data": {
      "text/plain": [
       "GridSearchCV(cv=5,\n",
       "             estimator=Pipeline(steps=[('cvec', CountVectorizer()),\n",
       "                                       ('nb', MultinomialNB())]),\n",
       "             n_jobs=-1,\n",
       "             param_grid={'cvec__max_df': [0.9, 0.95],\n",
       "                         'cvec__max_features': [2000, 3000, 4000, 5000],\n",
       "                         'cvec__min_df': [2, 3],\n",
       "                         'cvec__ngram_range': [(1, 1), (1, 2), (1, 3)],\n",
       "                         'cvec__stop_words': [['already', 'whither', 'it',\n",
       "                                               'and', 'been', 'empty', 'within',\n",
       "                                               'neither', 'you', 'interest',\n",
       "                                               'anyone', 'throughout', 'namely',\n",
       "                                               'via', 'twenty', 'almost', 'co',\n",
       "                                               'everywhere', 'thence', 'though',\n",
       "                                               'noone', 'cannot', 'thus', 'no',\n",
       "                                               'just', 'km', 'fire', 'might',\n",
       "                                               'per', 'made', ...]]},\n",
       "             verbose=1)"
      ]
     },
     "execution_count": 200,
     "metadata": {},
     "output_type": "execute_result"
    }
   ],
   "source": [
    "# Search over the following values of hyperparameters:\n",
    "# Maximum number of features fit: 2000, 3000, 4000, 5000\n",
    "# Minimum number of documents needed to include token: 2, 3\n",
    "# Maximum number of documents needed to include token: 90%, 95%\n",
    "# Check (individual tokens) and also check (individual tokens, 2-grams and 3-grams).\n",
    "\n",
    "pipe_params = {\n",
    "    'cvec__max_features': [2_000, 3_000, 4_000, 5_000],\n",
    "    'cvec__min_df': [2, 3],\n",
    "    'cvec__max_df': [.9, .95],\n",
    "    'cvec__ngram_range': [(1,1), (1,2), (1,3)],\n",
    "    'cvec__stop_words' : [unfrozen_stop_words]\n",
    "}\n",
    "\n",
    "# Instantiate GridSearchCV.\n",
    "\n",
    "gs = GridSearchCV(pipe, param_grid=pipe_params, cv=5, n_jobs = -1, verbose=1)\n",
    "\n",
    "# Fit GridSearch to training data.\n",
    "gs.fit(X_train, y_train)"
   ]
  },
  {
   "cell_type": "code",
   "execution_count": 201,
   "metadata": {},
   "outputs": [
    {
     "name": "stdout",
     "output_type": "stream",
     "text": [
      "0.9918874290294288\n"
     ]
    }
   ],
   "source": [
    "# What's the best score?\n",
    "print(gs.best_score_)"
   ]
  },
  {
   "cell_type": "markdown",
   "metadata": {},
   "source": [
    "#### What were the best performing parameters?"
   ]
  },
  {
   "cell_type": "code",
   "execution_count": 202,
   "metadata": {},
   "outputs": [
    {
     "name": "stdout",
     "output_type": "stream",
     "text": [
      "['cvec__max_df', 'cvec__max_features', 'cvec__min_df', 'cvec__ngram_range']\n",
      "[0.9, 4000, 3, (1, 1)]\n"
     ]
    }
   ],
   "source": [
    "# Creating a list to avoid printing the entire list of stop words\n",
    "print(list(gs.best_params_.keys())[0:4])\n",
    "print(list(gs.best_params_.values())[0:4])"
   ]
  },
  {
   "cell_type": "code",
   "execution_count": 203,
   "metadata": {},
   "outputs": [
    {
     "name": "stdout",
     "output_type": "stream",
     "text": [
      "Training model score: 0.9924730283515932 \n",
      "Testing model score: 0.9908319185059423 \n"
     ]
    }
   ],
   "source": [
    "# Score model on training set.\n",
    "print (f'Training model score: {gs.score(X_train, y_train)} ')\n",
    "\n",
    "# Score model on testing set.\n",
    "print (f'Testing model score: {gs.score(X_test, y_test)} ')"
   ]
  },
  {
   "cell_type": "code",
   "execution_count": 204,
   "metadata": {},
   "outputs": [],
   "source": [
    "# Get predictions\n",
    "preds = gs.predict(X_test)\n",
    "\n",
    "# Save confusion matrix values\n",
    "tn, fp, fn, tp = confusion_matrix(y_test, preds).ravel()"
   ]
  },
  {
   "cell_type": "code",
   "execution_count": 229,
   "metadata": {},
   "outputs": [
    {
     "data": {
      "image/png": "[encoded data removed]",
      "text/plain": [
       "<Figure size 432x288 with 2 Axes>"
      ]
     },
     "metadata": {
      "needs_background": "light"
     },
     "output_type": "display_data"
    }
   ],
   "source": [
    "disp = plot_confusion_matrix(gs, X_test, y_test, cmap='Blues', values_format='d',display_labels=['Ask Culinary', 'running']);\n",
    "disp.ax_.set_title(\"Multinomial Naive Bayes\\nConfusion Matrix\");"
   ]
  },
  {
   "cell_type": "markdown",
   "metadata": {},
   "source": [
    "---\n",
    "#### 2. Pipeline with:\n",
    "* TfidfVectorizer (transformer)\n",
    "* KNeighborsClassifier (estimator)\n",
    "\n",
    "\n",
    "Code borrowed heavily from class lecture 5.04"
   ]
  },
  {
   "cell_type": "code",
   "execution_count": 206,
   "metadata": {},
   "outputs": [
    {
     "data": {
      "text/plain": [
       "(11957, 24598)"
      ]
     },
     "execution_count": 206,
     "metadata": {},
     "output_type": "execute_result"
    }
   ],
   "source": [
    "simple_tvec = TfidfVectorizer(stop_words = more_stop_words)\n",
    "\n",
    "transformed_df = simple_tvec.fit_transform(X_train)\n",
    "transformed_df.shape"
   ]
  },
  {
   "cell_type": "markdown",
   "metadata": {},
   "source": [
    "The TF-IDF vectorizer creates 14,558 feature columns."
   ]
  },
  {
   "cell_type": "code",
   "execution_count": 207,
   "metadata": {},
   "outputs": [],
   "source": [
    "# Set up a pipeline with tf-idf vectorizer and K nearest neighbor\n",
    "\n",
    "pipe_tvec = Pipeline([\n",
    "    ('tvec', TfidfVectorizer()),\n",
    "    ('knn', KNeighborsClassifier())\n",
    "])"
   ]
  },
  {
   "cell_type": "code",
   "execution_count": 208,
   "metadata": {},
   "outputs": [
    {
     "name": "stdout",
     "output_type": "stream",
     "text": [
      "Fitting 5 folds for each of 480 candidates, totalling 2400 fits\n"
     ]
    },
    {
     "name": "stderr",
     "output_type": "stream",
     "text": [
      "[Parallel(n_jobs=-1)]: Using backend LokyBackend with 12 concurrent workers.\n",
      "[Parallel(n_jobs=-1)]: Done  26 tasks      | elapsed:   10.5s\n",
      "[Parallel(n_jobs=-1)]: Done 176 tasks      | elapsed:   59.1s\n",
      "[Parallel(n_jobs=-1)]: Done 426 tasks      | elapsed:  2.3min\n",
      "[Parallel(n_jobs=-1)]: Done 776 tasks      | elapsed:  4.3min\n",
      "[Parallel(n_jobs=-1)]: Done 1226 tasks      | elapsed:  7.4min\n",
      "[Parallel(n_jobs=-1)]: Done 1776 tasks      | elapsed: 17.1min\n",
      "[Parallel(n_jobs=-1)]: Done 2400 out of 2400 | elapsed: 28.1min finished\n"
     ]
    },
    {
     "data": {
      "text/plain": [
       "GridSearchCV(cv=5,\n",
       "             estimator=Pipeline(steps=[('tvec', TfidfVectorizer()),\n",
       "                                       ('knn', KNeighborsClassifier())]),\n",
       "             n_jobs=-1,\n",
       "             param_grid={'knn__metric': ['euclidean', 'manhattan'],\n",
       "                         'knn__n_neighbors': range(7, 149, 10),\n",
       "                         'knn__weights': ['uniform', 'distance'],\n",
       "                         'tvec__max_features': [4000, 6000, 8000, 10000],\n",
       "                         'tvec__ngram_range': [(1, 1), (1, 2)],\n",
       "                         'tvec__stop_words': [['already', 'whither', 'it',\n",
       "                                               'and', 'been', 'empty', 'within',\n",
       "                                               'neither', 'you', 'interest',\n",
       "                                               'anyone', 'throughout', 'namely',\n",
       "                                               'via', 'twenty', 'almost', 'co',\n",
       "                                               'everywhere', 'thence', 'though',\n",
       "                                               'noone', 'cannot', 'thus', 'no',\n",
       "                                               'just', 'km', 'fire', 'might',\n",
       "                                               'per', 'made', ...]]},\n",
       "             verbose=1)"
      ]
     },
     "execution_count": 208,
     "metadata": {},
     "output_type": "execute_result"
    }
   ],
   "source": [
    "pipe_tvec_params = {\n",
    "    'tvec__max_features': [4_000, 6_000, 8_000, 10_000],\n",
    "    'tvec__stop_words': [unfrozen_stop_words],\n",
    "    'tvec__ngram_range': [(1,1), (1,2)],\n",
    "    'knn__n_neighbors': range(7, 149, 10),\n",
    "    'knn__metric': ['euclidean', 'manhattan'],\n",
    "    'knn__weights' : ['uniform', 'distance'],\n",
    "}\n",
    "\n",
    "# Instantiate GridSearchCV.\n",
    "gs_tvec = GridSearchCV(pipe_tvec,\n",
    "                    param_grid = pipe_tvec_params, \n",
    "                    cv=5,\n",
    "                    n_jobs = -1,\n",
    "                    verbose=1) \n",
    "\n",
    "# Fit GridSearch to training data.\n",
    "gs_tvec.fit(X_train, y_train)"
   ]
  },
  {
   "cell_type": "markdown",
   "metadata": {},
   "source": [
    "#### What were the best performing parameters?"
   ]
  },
  {
   "cell_type": "code",
   "execution_count": 216,
   "metadata": {},
   "outputs": [
    {
     "name": "stdout",
     "output_type": "stream",
     "text": [
      "['knn__metric', 'knn__n_neighbors', 'knn__weights', 'tvec__max_features', 'tvec__ngram_range']\n",
      "['euclidean', 147, 'distance', 10000, (1, 2)]\n"
     ]
    }
   ],
   "source": [
    "# Creating a list to avoid printing the entire list of stop words\n",
    "print(list(gs_tvec.best_params_.keys())[0:5])\n",
    "print(list(gs_tvec.best_params_.values())[0:5])"
   ]
  },
  {
   "cell_type": "code",
   "execution_count": 210,
   "metadata": {},
   "outputs": [
    {
     "name": "stdout",
     "output_type": "stream",
     "text": [
      "Best score: 0.9859495404310199\n",
      "Training model score: 1.0 \n",
      "Testing model score: 0.9867572156196944 \n"
     ]
    }
   ],
   "source": [
    "# What's the best score?\n",
    "print(f'Best score: {gs_tvec.best_score_}')\n",
    "\n",
    "# Score model on training set.\n",
    "print (f'Training model score: {gs_tvec.score(X_train, y_train)} ')\n",
    "\n",
    "# Score model on testing set.\n",
    "print (f'Testing model score: {gs_tvec.score(X_test, y_test)} ')"
   ]
  },
  {
   "cell_type": "code",
   "execution_count": 227,
   "metadata": {},
   "outputs": [
    {
     "data": {
      "image/png": "[encoded data removed]",
      "text/plain": [
       "<Figure size 432x288 with 2 Axes>"
      ]
     },
     "metadata": {
      "needs_background": "light"
     },
     "output_type": "display_data"
    }
   ],
   "source": [
    "# Get predictions\n",
    "preds_tvec = gs_tvec.predict(X_test)\n",
    "\n",
    "# Save confusion matrix values\n",
    "tn, fp, fn, tp = confusion_matrix(y_test, preds_tvec).ravel()\n",
    "\n",
    "disp = plot_confusion_matrix(gs_tvec, X_test, y_test, cmap='Blues', values_format='d',display_labels=['Ask Culinary', 'running'])\n",
    "disp.ax_.set_title(\"K Nearest Neighbors\\nConfusion Matrix\");"
   ]
  },
  {
   "cell_type": "markdown",
   "metadata": {},
   "source": [
    "---\n",
    "#### 3. Pipeline with:\n",
    "* CountVectorizer (transformer)\n",
    "* Random Forest (estimator)"
   ]
  },
  {
   "cell_type": "code",
   "execution_count": 212,
   "metadata": {},
   "outputs": [
    {
     "name": "stdout",
     "output_type": "stream",
     "text": [
      "Fitting 5 folds for each of 720 candidates, totalling 3600 fits\n"
     ]
    },
    {
     "name": "stderr",
     "output_type": "stream",
     "text": [
      "[Parallel(n_jobs=-1)]: Using backend LokyBackend with 12 concurrent workers.\n",
      "[Parallel(n_jobs=-1)]: Done  26 tasks      | elapsed:    5.2s\n",
      "[Parallel(n_jobs=-1)]: Done 176 tasks      | elapsed:   57.7s\n",
      "[Parallel(n_jobs=-1)]: Done 426 tasks      | elapsed:  2.5min\n",
      "[Parallel(n_jobs=-1)]: Done 776 tasks      | elapsed:  4.4min\n",
      "[Parallel(n_jobs=-1)]: Done 1226 tasks      | elapsed:  7.1min\n",
      "[Parallel(n_jobs=-1)]: Done 1776 tasks      | elapsed: 10.6min\n",
      "[Parallel(n_jobs=-1)]: Done 2426 tasks      | elapsed: 14.7min\n",
      "[Parallel(n_jobs=-1)]: Done 3176 tasks      | elapsed: 19.8min\n",
      "[Parallel(n_jobs=-1)]: Done 3600 out of 3600 | elapsed: 22.6min finished\n"
     ]
    },
    {
     "data": {
      "text/plain": [
       "GridSearchCV(cv=5,\n",
       "             estimator=Pipeline(steps=[('cvec', CountVectorizer()),\n",
       "                                       ('forest', RandomForestClassifier())]),\n",
       "             n_jobs=-1,\n",
       "             param_grid={'cvec__max_df': [0.9, 0.95],\n",
       "                         'cvec__max_features': [2000, 3000, 4000, 5000],\n",
       "                         'cvec__min_df': [2, 3],\n",
       "                         'cvec__ngram_range': [(1, 1), (1, 2), (1, 3)],\n",
       "                         'cvec__stop_words': [['already', 'whither', 'it',\n",
       "                                               'and', 'been', 'empty', 'within',\n",
       "                                               'neither', 'you', 'interest',\n",
       "                                               'anyone', 'throughout', 'namely',\n",
       "                                               'via', 'twenty', 'almost', 'co',\n",
       "                                               'everywhere', 'thence', 'though',\n",
       "                                               'noone', 'cannot', 'thus', 'no',\n",
       "                                               'just', 'km', 'fire', 'might',\n",
       "                                               'per', 'made', ...]],\n",
       "                         'forest__max_depth': [4, 10, 20],\n",
       "                         'forest__n_estimators': [20, 60, 100, 300, 400]},\n",
       "             verbose=1)"
      ]
     },
     "execution_count": 212,
     "metadata": {},
     "output_type": "execute_result"
    }
   ],
   "source": [
    "forest_pipe = Pipeline([\n",
    "    ('cvec', CountVectorizer()),\n",
    "    ('forest', RandomForestClassifier())\n",
    "])\n",
    "\n",
    "forest_pipe_params = {\n",
    "    'cvec__max_features': [2_000, 3_000, 4_000, 5_000],\n",
    "    'cvec__min_df': [2, 3],\n",
    "    'cvec__max_df': [.9, .95],\n",
    "    'cvec__ngram_range': [(1,1), (1,2), (1,3)],\n",
    "    'forest__n_estimators': [20, 60, 100, 300 ,400],\n",
    "    'forest__max_depth': [4, 10, 20],\n",
    "    'cvec__stop_words' : [unfrozen_stop_words]\n",
    "}\n",
    "\n",
    "forest_gs = GridSearchCV(forest_pipe, param_grid=forest_pipe_params, cv=5, n_jobs = -1, verbose=1)\n",
    "\n",
    "# Fit GridSearch to training data.\n",
    "forest_gs.fit(X_train, y_train)"
   ]
  },
  {
   "cell_type": "markdown",
   "metadata": {},
   "source": [
    "#### What were the best performing parameters?"
   ]
  },
  {
   "cell_type": "code",
   "execution_count": 213,
   "metadata": {},
   "outputs": [
    {
     "name": "stdout",
     "output_type": "stream",
     "text": [
      "['cvec__max_df', 'cvec__max_features', 'cvec__min_df', 'cvec__ngram_range', 'forest__max_depth', 'forest__n_estimators']\n",
      "[0.95, 3000, 2, (1, 1), 20, 400]\n"
     ]
    }
   ],
   "source": [
    "# Creating a list to avoid printing the entire list of stop words\n",
    "print(list(forest_gs.best_params_.keys())[0:4] +  list(forest_gs.best_params_.keys())[5:7])\n",
    "print(list(forest_gs.best_params_.values())[0:4] +  list(forest_gs.best_params_.values())[5:7])"
   ]
  },
  {
   "cell_type": "code",
   "execution_count": 214,
   "metadata": {},
   "outputs": [
    {
     "name": "stdout",
     "output_type": "stream",
     "text": [
      "Best score: 0.9403696134752814\n",
      "Training model score: 0.9458058041314711 \n",
      "Testing model score: 0.9388794567062818 \n"
     ]
    }
   ],
   "source": [
    "# What's the best score?\n",
    "print(f'Best score: {forest_gs.best_score_}')\n",
    "\n",
    "# Score model on training set.\n",
    "print (f'Training model score: {forest_gs.score(X_train, y_train)} ')\n",
    "\n",
    "# Score model on testing set.\n",
    "print (f'Testing model score: {forest_gs.score(X_test, y_test)} ')"
   ]
  },
  {
   "cell_type": "code",
   "execution_count": 228,
   "metadata": {},
   "outputs": [
    {
     "data": {
      "image/png": "[encoded data removed]",
      "text/plain": [
       "<Figure size 432x288 with 2 Axes>"
      ]
     },
     "metadata": {
      "needs_background": "light"
     },
     "output_type": "display_data"
    }
   ],
   "source": [
    "# Get predictions\n",
    "preds_forest = forest_gs.predict(X_test)\n",
    "\n",
    "# Save confusion matrix values\n",
    "tn, fp, fn, tp = confusion_matrix(y_test, preds_forest).ravel()\n",
    "\n",
    "disp = plot_confusion_matrix(forest_gs, X_test, y_test, cmap='Blues', values_format='d',display_labels=['Ask Culinary', 'running'])\n",
    "disp.ax_.set_title(\"Random Forest\\nConfusion Matrix\");"
   ]
  },
  {
   "cell_type": "code",
   "execution_count": null,
   "metadata": {},
   "outputs": [],
   "source": []
  },
  {
   "cell_type": "code",
   "execution_count": null,
   "metadata": {},
   "outputs": [],
   "source": []
  },
  {
   "cell_type": "code",
   "execution_count": null,
   "metadata": {},
   "outputs": [],
   "source": []
  },
  {
   "cell_type": "code",
   "execution_count": null,
   "metadata": {},
   "outputs": [],
   "source": []
  }
 ],
 "metadata": {
  "kernelspec": {
   "display_name": "Python 3",
   "language": "python",
   "name": "python3"
  },
  "language_info": {
   "codemirror_mode": {
    "name": "ipython",
    "version": 3
   },
   "file_extension": ".py",
   "mimetype": "text/x-python",
   "name": "python",
   "nbconvert_exporter": "python",
   "pygments_lexer": "ipython3",
   "version": "3.8.3"
  }
 },
 "nbformat": 4,
 "nbformat_minor": 4
}
