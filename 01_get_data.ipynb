{
 "cells": [
  {
   "cell_type": "markdown",
   "metadata": {},
   "source": [
    "Reddit"
   ]
  },
  {
   "cell_type": "code",
   "execution_count": 124,
   "metadata": {},
   "outputs": [],
   "source": [
    "import requests\n",
    "import pandas as pd\n",
    "import time"
   ]
  },
  {
   "cell_type": "code",
   "execution_count": 125,
   "metadata": {},
   "outputs": [],
   "source": [
    "base_url = 'https://api.pushshift.io/'\n",
    "\n",
    "submission_url = 'reddit/search/submission' \n",
    "comment_url = 'reddit/search/comment'"
   ]
  },
  {
   "cell_type": "code",
   "execution_count": null,
   "metadata": {},
   "outputs": [],
   "source": []
  },
  {
   "cell_type": "code",
   "execution_count": 126,
   "metadata": {},
   "outputs": [],
   "source": [
    "#  https://www.reddit.com/r/AskCulinary/\n",
    "# https://www.reddit.com/r/running/"
   ]
  },
  {
   "cell_type": "code",
   "execution_count": 127,
   "metadata": {},
   "outputs": [],
   "source": [
    "#subreddit = 'AskCulinary'\n",
    "subreddit = 'running'\n",
    "\n",
    "\n",
    "params = {\n",
    "    'subreddit' : subreddit,\n",
    "    'size' : 100\n",
    "}"
   ]
  },
  {
   "cell_type": "code",
   "execution_count": 128,
   "metadata": {},
   "outputs": [
    {
     "data": {
      "text/plain": [
       "'https://api.pushshift.io/reddit/search/submission'"
      ]
     },
     "execution_count": 128,
     "metadata": {},
     "output_type": "execute_result"
    }
   ],
   "source": [
    "base_url + submission_url"
   ]
  },
  {
   "cell_type": "code",
   "execution_count": 129,
   "metadata": {},
   "outputs": [],
   "source": [
    "res = requests.get (base_url + submission_url, params)"
   ]
  },
  {
   "cell_type": "code",
   "execution_count": 130,
   "metadata": {},
   "outputs": [
    {
     "data": {
      "text/plain": [
       "200"
      ]
     },
     "execution_count": 130,
     "metadata": {},
     "output_type": "execute_result"
    }
   ],
   "source": [
    "res.status_code"
   ]
  },
  {
   "cell_type": "code",
   "execution_count": 131,
   "metadata": {},
   "outputs": [
    {
     "data": {
      "text/plain": [
       "100"
      ]
     },
     "execution_count": 131,
     "metadata": {},
     "output_type": "execute_result"
    }
   ],
   "source": [
    "data = res.json()\n",
    "\n",
    "posts = data['data']\n",
    "len(posts)"
   ]
  },
  {
   "cell_type": "code",
   "execution_count": 132,
   "metadata": {},
   "outputs": [],
   "source": [
    "#posts[0]"
   ]
  },
  {
   "cell_type": "code",
   "execution_count": 133,
   "metadata": {},
   "outputs": [],
   "source": [
    "posts_data = pd.DataFrame (posts)\n",
    "#posts_data.head()"
   ]
  },
  {
   "cell_type": "code",
   "execution_count": 134,
   "metadata": {},
   "outputs": [
    {
     "data": {
      "text/html": [
       "<div>\n",
       "<style scoped>\n",
       "    .dataframe tbody tr th:only-of-type {\n",
       "        vertical-align: middle;\n",
       "    }\n",
       "\n",
       "    .dataframe tbody tr th {\n",
       "        vertical-align: top;\n",
       "    }\n",
       "\n",
       "    .dataframe thead th {\n",
       "        text-align: right;\n",
       "    }\n",
       "</style>\n",
       "<table border=\"1\" class=\"dataframe\">\n",
       "  <thead>\n",
       "    <tr style=\"text-align: right;\">\n",
       "      <th></th>\n",
       "      <th>subreddit</th>\n",
       "      <th>selftext</th>\n",
       "      <th>title</th>\n",
       "      <th>author</th>\n",
       "      <th>created_utc</th>\n",
       "    </tr>\n",
       "  </thead>\n",
       "  <tbody>\n",
       "    <tr>\n",
       "      <th>0</th>\n",
       "      <td>running</td>\n",
       "      <td>It's almost universally accepted that runners ...</td>\n",
       "      <td>For Race Day, Nose or Mouth Breathing?</td>\n",
       "      <td>Gunner56</td>\n",
       "      <td>1609273208</td>\n",
       "    </tr>\n",
       "    <tr>\n",
       "      <th>1</th>\n",
       "      <td>running</td>\n",
       "      <td>Hi all! New to the subreddit, but not to runni...</td>\n",
       "      <td>Beginning 50-State Marathoner Looking For Race...</td>\n",
       "      <td>Prince-Char1ming</td>\n",
       "      <td>1609272830</td>\n",
       "    </tr>\n",
       "    <tr>\n",
       "      <th>2</th>\n",
       "      <td>running</td>\n",
       "      <td>Say suppose I ran about 50-70 miles in one day...</td>\n",
       "      <td>Running and muscle loss?</td>\n",
       "      <td>Difficult_Hour_4799</td>\n",
       "      <td>1609271273</td>\n",
       "    </tr>\n",
       "    <tr>\n",
       "      <th>3</th>\n",
       "      <td>running</td>\n",
       "      <td>I just got into running this summer and the mo...</td>\n",
       "      <td>Training plan or advice for half marathon?</td>\n",
       "      <td>Okhellohey</td>\n",
       "      <td>1609271017</td>\n",
       "    </tr>\n",
       "    <tr>\n",
       "      <th>4</th>\n",
       "      <td>running</td>\n",
       "      <td>[removed]</td>\n",
       "      <td>Weightlifting and running</td>\n",
       "      <td>Anja1111111</td>\n",
       "      <td>1609270803</td>\n",
       "    </tr>\n",
       "  </tbody>\n",
       "</table>\n",
       "</div>"
      ],
      "text/plain": [
       "  subreddit                                           selftext  \\\n",
       "0   running  It's almost universally accepted that runners ...   \n",
       "1   running  Hi all! New to the subreddit, but not to runni...   \n",
       "2   running  Say suppose I ran about 50-70 miles in one day...   \n",
       "3   running  I just got into running this summer and the mo...   \n",
       "4   running                                          [removed]   \n",
       "\n",
       "                                               title               author  \\\n",
       "0             For Race Day, Nose or Mouth Breathing?             Gunner56   \n",
       "1  Beginning 50-State Marathoner Looking For Race...     Prince-Char1ming   \n",
       "2                           Running and muscle loss?  Difficult_Hour_4799   \n",
       "3         Training plan or advice for half marathon?           Okhellohey   \n",
       "4                          Weightlifting and running          Anja1111111   \n",
       "\n",
       "   created_utc  \n",
       "0   1609273208  \n",
       "1   1609272830  \n",
       "2   1609271273  \n",
       "3   1609271017  \n",
       "4   1609270803  "
      ]
     },
     "execution_count": 134,
     "metadata": {},
     "output_type": "execute_result"
    }
   ],
   "source": [
    "posts_df = posts_data[['subreddit', 'selftext', 'title', 'author', 'created_utc']].copy()\n",
    "posts_df.head()"
   ]
  },
  {
   "cell_type": "code",
   "execution_count": 135,
   "metadata": {},
   "outputs": [],
   "source": [
    "posts_df['created_date'] = pd.to_datetime(posts_df['created_utc'], unit='s')\n",
    "#posts_df.loc[:,'created_date'] = pd.to_datetime(posts_df['created_utc'], unit='s')"
   ]
  },
  {
   "cell_type": "code",
   "execution_count": 136,
   "metadata": {},
   "outputs": [
    {
     "data": {
      "text/html": [
       "<div>\n",
       "<style scoped>\n",
       "    .dataframe tbody tr th:only-of-type {\n",
       "        vertical-align: middle;\n",
       "    }\n",
       "\n",
       "    .dataframe tbody tr th {\n",
       "        vertical-align: top;\n",
       "    }\n",
       "\n",
       "    .dataframe thead th {\n",
       "        text-align: right;\n",
       "    }\n",
       "</style>\n",
       "<table border=\"1\" class=\"dataframe\">\n",
       "  <thead>\n",
       "    <tr style=\"text-align: right;\">\n",
       "      <th></th>\n",
       "      <th>subreddit</th>\n",
       "      <th>selftext</th>\n",
       "      <th>title</th>\n",
       "      <th>author</th>\n",
       "      <th>created_utc</th>\n",
       "      <th>created_date</th>\n",
       "    </tr>\n",
       "  </thead>\n",
       "  <tbody>\n",
       "    <tr>\n",
       "      <th>95</th>\n",
       "      <td>running</td>\n",
       "      <td>Time to start running again.  Took a week and ...</td>\n",
       "      <td>Preparing for a May Cowtown</td>\n",
       "      <td>RunningManinTx</td>\n",
       "      <td>1609198649</td>\n",
       "      <td>2020-12-28 23:37:29</td>\n",
       "    </tr>\n",
       "    <tr>\n",
       "      <th>96</th>\n",
       "      <td>running</td>\n",
       "      <td>Hey hey, apologies if this has been answered, ...</td>\n",
       "      <td>How to stack my long runs with rest day/easy r...</td>\n",
       "      <td>shipoopi29</td>\n",
       "      <td>1609198275</td>\n",
       "      <td>2020-12-28 23:31:15</td>\n",
       "    </tr>\n",
       "    <tr>\n",
       "      <th>97</th>\n",
       "      <td>running</td>\n",
       "      <td>Weird power from inside\\n\\nOk I know this migh...</td>\n",
       "      <td>Weird power</td>\n",
       "      <td>Outrageous_Ad5805</td>\n",
       "      <td>1609196777</td>\n",
       "      <td>2020-12-28 23:06:17</td>\n",
       "    </tr>\n",
       "    <tr>\n",
       "      <th>98</th>\n",
       "      <td>running</td>\n",
       "      <td>I've been slowly returning to running after ph...</td>\n",
       "      <td>Strategies for avoiding injury/resurgence afte...</td>\n",
       "      <td>nightpussy</td>\n",
       "      <td>1609196108</td>\n",
       "      <td>2020-12-28 22:55:08</td>\n",
       "    </tr>\n",
       "    <tr>\n",
       "      <th>99</th>\n",
       "      <td>running</td>\n",
       "      <td>Hi, so I decided to try the Superfeet Running ...</td>\n",
       "      <td>For overpronators, Do you use insoles? Do they...</td>\n",
       "      <td>mlx01</td>\n",
       "      <td>1609194028</td>\n",
       "      <td>2020-12-28 22:20:28</td>\n",
       "    </tr>\n",
       "  </tbody>\n",
       "</table>\n",
       "</div>"
      ],
      "text/plain": [
       "   subreddit                                           selftext  \\\n",
       "95   running  Time to start running again.  Took a week and ...   \n",
       "96   running  Hey hey, apologies if this has been answered, ...   \n",
       "97   running  Weird power from inside\\n\\nOk I know this migh...   \n",
       "98   running  I've been slowly returning to running after ph...   \n",
       "99   running  Hi, so I decided to try the Superfeet Running ...   \n",
       "\n",
       "                                                title             author  \\\n",
       "95                        Preparing for a May Cowtown     RunningManinTx   \n",
       "96  How to stack my long runs with rest day/easy r...         shipoopi29   \n",
       "97                                        Weird power  Outrageous_Ad5805   \n",
       "98  Strategies for avoiding injury/resurgence afte...         nightpussy   \n",
       "99  For overpronators, Do you use insoles? Do they...              mlx01   \n",
       "\n",
       "    created_utc        created_date  \n",
       "95   1609198649 2020-12-28 23:37:29  \n",
       "96   1609198275 2020-12-28 23:31:15  \n",
       "97   1609196777 2020-12-28 23:06:17  \n",
       "98   1609196108 2020-12-28 22:55:08  \n",
       "99   1609194028 2020-12-28 22:20:28  "
      ]
     },
     "execution_count": 136,
     "metadata": {},
     "output_type": "execute_result"
    }
   ],
   "source": [
    "posts_df.tail()"
   ]
  },
  {
   "cell_type": "code",
   "execution_count": 137,
   "metadata": {},
   "outputs": [],
   "source": [
    "#[len(post) for post in posts_df['selftext']]\n",
    "\n",
    "#convert created utc to readable format\n",
    "# UTC_datetime_timestamp = float(UTC_datetime.strftime(\"%s\"))\n",
    "# local_datetime_converted = datetime.datetime.fromtimestamp(UTC_datetime_timestamp)\n"
   ]
  },
  {
   "cell_type": "code",
   "execution_count": null,
   "metadata": {},
   "outputs": [],
   "source": []
  },
  {
   "cell_type": "code",
   "execution_count": 138,
   "metadata": {},
   "outputs": [
    {
     "data": {
      "text/plain": [
       "1609194028"
      ]
     },
     "execution_count": 138,
     "metadata": {},
     "output_type": "execute_result"
    }
   ],
   "source": [
    "posts_df.iloc[len(posts_df)-1]['created_utc']"
   ]
  },
  {
   "cell_type": "code",
   "execution_count": 139,
   "metadata": {},
   "outputs": [
    {
     "name": "stdout",
     "output_type": "stream",
     "text": [
      "Query: reddit/search/submission Params: {'subreddit': 'running', 'size': 100, 'before': 1609194028} \n",
      " Response code: 200 \n",
      "Query: reddit/search/submission Params: {'subreddit': 'running', 'size': 100, 'before': 1609116160} \n",
      " Response code: 200 \n",
      "Query: reddit/search/submission Params: {'subreddit': 'running', 'size': 100, 'before': 1609049264} \n",
      " Response code: 200 \n",
      "Query: reddit/search/submission Params: {'subreddit': 'running', 'size': 100, 'before': 1608976735} \n",
      " Response code: 200 \n",
      "Query: reddit/search/submission Params: {'subreddit': 'running', 'size': 100, 'before': 1608837461} \n",
      " Response code: 200 \n",
      "Query: reddit/search/submission Params: {'subreddit': 'running', 'size': 100, 'before': 1608738802} \n",
      " Response code: 200 \n",
      "Query: reddit/search/submission Params: {'subreddit': 'running', 'size': 100, 'before': 1608655227} \n",
      " Response code: 200 \n",
      "Query: reddit/search/submission Params: {'subreddit': 'running', 'size': 100, 'before': 1608557951} \n",
      " Response code: 200 \n",
      "Query: reddit/search/submission Params: {'subreddit': 'running', 'size': 100, 'before': 1608468562} \n",
      " Response code: 200 \n",
      "Query: reddit/search/submission Params: {'subreddit': 'running', 'size': 100, 'before': 1608362404} \n",
      " Response code: 200 \n"
     ]
    }
   ],
   "source": [
    "# get more data\n",
    "num_loops = 10\n",
    "\n",
    "params = {\n",
    "    'subreddit' : subreddit,\n",
    "    'size' : 100,\n",
    "    'before': ''\n",
    "}\n",
    "\n",
    "for index in range(num_loops):\n",
    "    # Get timestamp of oldest current post in the dataframe\n",
    "    oldest_utc = posts_df.iloc[len(posts_df)-1]['created_utc']\n",
    "    \n",
    "    params['before'] = oldest_utc\n",
    "    \n",
    "    res = requests.get (base_url + submission_url, params)\n",
    "    print (f'Query: {submission_url} Params: {params} \\n Response code: {res.status_code} ')\n",
    "    \n",
    "    if res.status_code == 200:\n",
    "        # if valid response, concat to end of dataframe.\n",
    "        temp_data = res.json()['data']   # get array of reddit posts (each being a dict)\n",
    "        temp_data_df = pd.DataFrame (temp_data)  # convert reddit post dict to dataframe\n",
    "        \n",
    "        # only keep relevant columns\n",
    "        temp_posts_df = temp_data_df[['subreddit', 'selftext', 'title', 'author', 'created_utc']].copy()\n",
    "        temp_posts_df['created_date'] = pd.to_datetime(temp_data_df['created_utc'], unit='s')\n",
    "\n",
    "        # concat to existing dataframe of prior responses\n",
    "        posts_df = pd.concat([posts_df, temp_posts_df], ignore_index=True)\n",
    "        \n",
    "        # sleep one second so as to not overload reddit API\n",
    "        time.sleep(1)\n",
    "        \n",
    "\n"
   ]
  },
  {
   "cell_type": "code",
   "execution_count": 140,
   "metadata": {},
   "outputs": [
    {
     "data": {
      "text/html": [
       "<div>\n",
       "<style scoped>\n",
       "    .dataframe tbody tr th:only-of-type {\n",
       "        vertical-align: middle;\n",
       "    }\n",
       "\n",
       "    .dataframe tbody tr th {\n",
       "        vertical-align: top;\n",
       "    }\n",
       "\n",
       "    .dataframe thead th {\n",
       "        text-align: right;\n",
       "    }\n",
       "</style>\n",
       "<table border=\"1\" class=\"dataframe\">\n",
       "  <thead>\n",
       "    <tr style=\"text-align: right;\">\n",
       "      <th></th>\n",
       "      <th>subreddit</th>\n",
       "      <th>selftext</th>\n",
       "      <th>title</th>\n",
       "      <th>author</th>\n",
       "      <th>created_utc</th>\n",
       "      <th>created_date</th>\n",
       "    </tr>\n",
       "  </thead>\n",
       "  <tbody>\n",
       "    <tr>\n",
       "      <th>1095</th>\n",
       "      <td>running</td>\n",
       "      <td>[removed]</td>\n",
       "      <td>Running teammate rivalry</td>\n",
       "      <td>Fastboy56138</td>\n",
       "      <td>1608251056</td>\n",
       "      <td>2020-12-18 00:24:16</td>\n",
       "    </tr>\n",
       "    <tr>\n",
       "      <th>1096</th>\n",
       "      <td>running</td>\n",
       "      <td>[removed]</td>\n",
       "      <td>Real question: How do you run longer distances...</td>\n",
       "      <td>KeepPunkRockElite</td>\n",
       "      <td>1608250647</td>\n",
       "      <td>2020-12-18 00:17:27</td>\n",
       "    </tr>\n",
       "    <tr>\n",
       "      <th>1097</th>\n",
       "      <td>running</td>\n",
       "      <td>[removed]</td>\n",
       "      <td>Anyone Else Get Wildly Different Results Using...</td>\n",
       "      <td>Accomplished-Classic</td>\n",
       "      <td>1608250104</td>\n",
       "      <td>2020-12-18 00:08:24</td>\n",
       "    </tr>\n",
       "    <tr>\n",
       "      <th>1098</th>\n",
       "      <td>running</td>\n",
       "      <td>[removed]</td>\n",
       "      <td>Got back at running after 5 months 💪if u had a...</td>\n",
       "      <td>paul081</td>\n",
       "      <td>1608249362</td>\n",
       "      <td>2020-12-17 23:56:02</td>\n",
       "    </tr>\n",
       "    <tr>\n",
       "      <th>1099</th>\n",
       "      <td>running</td>\n",
       "      <td>[removed]</td>\n",
       "      <td>Another little magical running moment: share y...</td>\n",
       "      <td>SnooConfections3930</td>\n",
       "      <td>1608249077</td>\n",
       "      <td>2020-12-17 23:51:17</td>\n",
       "    </tr>\n",
       "  </tbody>\n",
       "</table>\n",
       "</div>"
      ],
      "text/plain": [
       "     subreddit   selftext                                              title  \\\n",
       "1095   running  [removed]                           Running teammate rivalry   \n",
       "1096   running  [removed]  Real question: How do you run longer distances...   \n",
       "1097   running  [removed]  Anyone Else Get Wildly Different Results Using...   \n",
       "1098   running  [removed]  Got back at running after 5 months 💪if u had a...   \n",
       "1099   running  [removed]  Another little magical running moment: share y...   \n",
       "\n",
       "                    author  created_utc        created_date  \n",
       "1095          Fastboy56138   1608251056 2020-12-18 00:24:16  \n",
       "1096     KeepPunkRockElite   1608250647 2020-12-18 00:17:27  \n",
       "1097  Accomplished-Classic   1608250104 2020-12-18 00:08:24  \n",
       "1098               paul081   1608249362 2020-12-17 23:56:02  \n",
       "1099   SnooConfections3930   1608249077 2020-12-17 23:51:17  "
      ]
     },
     "execution_count": 140,
     "metadata": {},
     "output_type": "execute_result"
    }
   ],
   "source": [
    "#posts_df.iloc[190:210, 0:20]\n",
    "posts_df.tail()"
   ]
  },
  {
   "cell_type": "code",
   "execution_count": null,
   "metadata": {},
   "outputs": [],
   "source": []
  },
  {
   "cell_type": "code",
   "execution_count": 141,
   "metadata": {},
   "outputs": [],
   "source": [
    "#posts_df.reset_index(inplace=True)"
   ]
  },
  {
   "cell_type": "code",
   "execution_count": 142,
   "metadata": {},
   "outputs": [],
   "source": [
    "posts_df.to_csv(f'./data/{ subreddit }.csv', index=False)"
   ]
  },
  {
   "cell_type": "code",
   "execution_count": null,
   "metadata": {},
   "outputs": [],
   "source": []
  },
  {
   "cell_type": "code",
   "execution_count": null,
   "metadata": {},
   "outputs": [],
   "source": []
  }
 ],
 "metadata": {
  "kernelspec": {
   "display_name": "Python 3",
   "language": "python",
   "name": "python3"
  },
  "language_info": {
   "codemirror_mode": {
    "name": "ipython",
    "version": 3
   },
   "file_extension": ".py",
   "mimetype": "text/x-python",
   "name": "python",
   "nbconvert_exporter": "python",
   "pygments_lexer": "ipython3",
   "version": "3.8.3"
  }
 },
 "nbformat": 4,
 "nbformat_minor": 4
}
