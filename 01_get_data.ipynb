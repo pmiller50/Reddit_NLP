{
 "cells": [
  {
   "cell_type": "markdown",
   "metadata": {},
   "source": [
    "Reddit"
   ]
  },
  {
   "cell_type": "code",
   "execution_count": 1,
   "metadata": {},
   "outputs": [],
   "source": [
    "import requests\n",
    "import pandas as pd\n",
    "import time"
   ]
  },
  {
   "cell_type": "code",
   "execution_count": 2,
   "metadata": {},
   "outputs": [],
   "source": [
    "base_url = 'https://api.pushshift.io/'\n",
    "\n",
    "submission_url = 'reddit/search/submission' \n",
    "comment_url = 'reddit/search/comment'"
   ]
  },
  {
   "cell_type": "code",
   "execution_count": null,
   "metadata": {},
   "outputs": [],
   "source": []
  },
  {
   "cell_type": "code",
   "execution_count": 3,
   "metadata": {},
   "outputs": [],
   "source": [
    "#  https://www.reddit.com/r/AskCulinary/\n",
    "# https://www.reddit.com/r/running/"
   ]
  },
  {
   "cell_type": "code",
   "execution_count": 4,
   "metadata": {},
   "outputs": [],
   "source": [
    "#subreddit = 'AskCulinary'\n",
    "subreddit = 'running'\n",
    "\n",
    "\n",
    "params = {\n",
    "    'subreddit' : subreddit,\n",
    "    'size' : 100\n",
    "}"
   ]
  },
  {
   "cell_type": "code",
   "execution_count": 5,
   "metadata": {},
   "outputs": [
    {
     "data": {
      "text/plain": [
       "'https://api.pushshift.io/reddit/search/submission'"
      ]
     },
     "execution_count": 5,
     "metadata": {},
     "output_type": "execute_result"
    }
   ],
   "source": [
    "base_url + submission_url"
   ]
  },
  {
   "cell_type": "code",
   "execution_count": 6,
   "metadata": {},
   "outputs": [],
   "source": [
    "res = requests.get (base_url + submission_url, params)"
   ]
  },
  {
   "cell_type": "code",
   "execution_count": 7,
   "metadata": {},
   "outputs": [
    {
     "data": {
      "text/plain": [
       "200"
      ]
     },
     "execution_count": 7,
     "metadata": {},
     "output_type": "execute_result"
    }
   ],
   "source": [
    "res.status_code"
   ]
  },
  {
   "cell_type": "code",
   "execution_count": 8,
   "metadata": {},
   "outputs": [
    {
     "data": {
      "text/plain": [
       "100"
      ]
     },
     "execution_count": 8,
     "metadata": {},
     "output_type": "execute_result"
    }
   ],
   "source": [
    "data = res.json()\n",
    "\n",
    "posts = data['data']\n",
    "len(posts)"
   ]
  },
  {
   "cell_type": "code",
   "execution_count": 9,
   "metadata": {},
   "outputs": [
    {
     "data": {
      "text/plain": [
       "{'all_awardings': [],\n",
       " 'allow_live_comments': False,\n",
       " 'author': 'ilritorno',\n",
       " 'author_flair_css_class': None,\n",
       " 'author_flair_richtext': [],\n",
       " 'author_flair_text': None,\n",
       " 'author_flair_type': 'text',\n",
       " 'author_fullname': 't2_15rvbr',\n",
       " 'author_patreon_flair': False,\n",
       " 'author_premium': False,\n",
       " 'awarders': [],\n",
       " 'can_mod_post': False,\n",
       " 'contest_mode': False,\n",
       " 'created_utc': 1609274965,\n",
       " 'domain': 'self.running',\n",
       " 'full_link': 'https://www.reddit.com/r/running/comments/kmmmpc/five_stages_of_running/',\n",
       " 'gildings': {},\n",
       " 'id': 'kmmmpc',\n",
       " 'is_crosspostable': True,\n",
       " 'is_meta': False,\n",
       " 'is_original_content': False,\n",
       " 'is_reddit_media_domain': False,\n",
       " 'is_robot_indexable': True,\n",
       " 'is_self': True,\n",
       " 'is_video': False,\n",
       " 'link_flair_background_color': '#007373',\n",
       " 'link_flair_css_class': 'linkflair-article',\n",
       " 'link_flair_richtext': [],\n",
       " 'link_flair_template_id': '21f33906-6c17-11e5-86ae-0e96416492c1',\n",
       " 'link_flair_text': 'Article',\n",
       " 'link_flair_text_color': 'dark',\n",
       " 'link_flair_type': 'text',\n",
       " 'locked': False,\n",
       " 'media_only': False,\n",
       " 'no_follow': True,\n",
       " 'num_comments': 0,\n",
       " 'num_crossposts': 0,\n",
       " 'over_18': False,\n",
       " 'parent_whitelist_status': 'all_ads',\n",
       " 'permalink': '/r/running/comments/kmmmpc/five_stages_of_running/',\n",
       " 'pinned': False,\n",
       " 'pwls': 6,\n",
       " 'retrieved_on': 1609274976,\n",
       " 'score': 1,\n",
       " 'selftext': \"I was browsing through old articles that I archived with [pocket](https://app.getpocket.com/) when I stumbled on this one: \\n\\n[https://web.archive.org/web/20150904102326/https://www.shelterpub.com/\\\\_fitness/\\\\_running/run\\\\_5\\\\_stages.html](https://web.archive.org/web/20150904102326/https://www.shelterpub.com/_fitness/_running/run_5_stages.html)\\n\\nThe original URL no longer works, thankfully it was available on webarchive.\\n\\nPersonally I don't really know what stage I'm at (i'd like to think 4, but probably not there yet), and I also alternate running and cycling, but anyway, I  believe there are many useful insights in this article. \\n\\nAnd you, what's your stage?\",\n",
       " 'send_replies': False,\n",
       " 'spoiler': False,\n",
       " 'stickied': False,\n",
       " 'subreddit': 'running',\n",
       " 'subreddit_id': 't5_2qlit',\n",
       " 'subreddit_subscribers': 1249784,\n",
       " 'subreddit_type': 'public',\n",
       " 'thumbnail': 'self',\n",
       " 'title': 'Five stages of running',\n",
       " 'total_awards_received': 0,\n",
       " 'treatment_tags': [],\n",
       " 'upvote_ratio': 1.0,\n",
       " 'url': 'https://www.reddit.com/r/running/comments/kmmmpc/five_stages_of_running/',\n",
       " 'whitelist_status': 'all_ads',\n",
       " 'wls': 6}"
      ]
     },
     "execution_count": 9,
     "metadata": {},
     "output_type": "execute_result"
    }
   ],
   "source": [
    "posts[0]"
   ]
  },
  {
   "cell_type": "code",
   "execution_count": 133,
   "metadata": {},
   "outputs": [],
   "source": [
    "posts_data = pd.DataFrame (posts)\n",
    "#posts_data.head()"
   ]
  },
  {
   "cell_type": "code",
   "execution_count": 134,
   "metadata": {},
   "outputs": [
    {
     "data": {
      "text/html": [
       "<div>\n",
       "<style scoped>\n",
       "    .dataframe tbody tr th:only-of-type {\n",
       "        vertical-align: middle;\n",
       "    }\n",
       "\n",
       "    .dataframe tbody tr th {\n",
       "        vertical-align: top;\n",
       "    }\n",
       "\n",
       "    .dataframe thead th {\n",
       "        text-align: right;\n",
       "    }\n",
       "</style>\n",
       "<table border=\"1\" class=\"dataframe\">\n",
       "  <thead>\n",
       "    <tr style=\"text-align: right;\">\n",
       "      <th></th>\n",
       "      <th>subreddit</th>\n",
       "      <th>selftext</th>\n",
       "      <th>title</th>\n",
       "      <th>author</th>\n",
       "      <th>created_utc</th>\n",
       "    </tr>\n",
       "  </thead>\n",
       "  <tbody>\n",
       "    <tr>\n",
       "      <th>0</th>\n",
       "      <td>running</td>\n",
       "      <td>It's almost universally accepted that runners ...</td>\n",
       "      <td>For Race Day, Nose or Mouth Breathing?</td>\n",
       "      <td>Gunner56</td>\n",
       "      <td>1609273208</td>\n",
       "    </tr>\n",
       "    <tr>\n",
       "      <th>1</th>\n",
       "      <td>running</td>\n",
       "      <td>Hi all! New to the subreddit, but not to runni...</td>\n",
       "      <td>Beginning 50-State Marathoner Looking For Race...</td>\n",
       "      <td>Prince-Char1ming</td>\n",
       "      <td>1609272830</td>\n",
       "    </tr>\n",
       "    <tr>\n",
       "      <th>2</th>\n",
       "      <td>running</td>\n",
       "      <td>Say suppose I ran about 50-70 miles in one day...</td>\n",
       "      <td>Running and muscle loss?</td>\n",
       "      <td>Difficult_Hour_4799</td>\n",
       "      <td>1609271273</td>\n",
       "    </tr>\n",
       "    <tr>\n",
       "      <th>3</th>\n",
       "      <td>running</td>\n",
       "      <td>I just got into running this summer and the mo...</td>\n",
       "      <td>Training plan or advice for half marathon?</td>\n",
       "      <td>Okhellohey</td>\n",
       "      <td>1609271017</td>\n",
       "    </tr>\n",
       "    <tr>\n",
       "      <th>4</th>\n",
       "      <td>running</td>\n",
       "      <td>[removed]</td>\n",
       "      <td>Weightlifting and running</td>\n",
       "      <td>Anja1111111</td>\n",
       "      <td>1609270803</td>\n",
       "    </tr>\n",
       "  </tbody>\n",
       "</table>\n",
       "</div>"
      ],
      "text/plain": [
       "  subreddit                                           selftext  \\\n",
       "0   running  It's almost universally accepted that runners ...   \n",
       "1   running  Hi all! New to the subreddit, but not to runni...   \n",
       "2   running  Say suppose I ran about 50-70 miles in one day...   \n",
       "3   running  I just got into running this summer and the mo...   \n",
       "4   running                                          [removed]   \n",
       "\n",
       "                                               title               author  \\\n",
       "0             For Race Day, Nose or Mouth Breathing?             Gunner56   \n",
       "1  Beginning 50-State Marathoner Looking For Race...     Prince-Char1ming   \n",
       "2                           Running and muscle loss?  Difficult_Hour_4799   \n",
       "3         Training plan or advice for half marathon?           Okhellohey   \n",
       "4                          Weightlifting and running          Anja1111111   \n",
       "\n",
       "   created_utc  \n",
       "0   1609273208  \n",
       "1   1609272830  \n",
       "2   1609271273  \n",
       "3   1609271017  \n",
       "4   1609270803  "
      ]
     },
     "execution_count": 134,
     "metadata": {},
     "output_type": "execute_result"
    }
   ],
   "source": [
    "posts_df = posts_data[['subreddit', 'selftext', 'title', 'author', 'created_utc']].copy()\n",
    "posts_df.head()"
   ]
  },
  {
   "cell_type": "code",
   "execution_count": 135,
   "metadata": {},
   "outputs": [],
   "source": [
    "posts_df['created_date'] = pd.to_datetime(posts_df['created_utc'], unit='s')\n",
    "#posts_df.loc[:,'created_date'] = pd.to_datetime(posts_df['created_utc'], unit='s')"
   ]
  },
  {
   "cell_type": "code",
   "execution_count": 136,
   "metadata": {},
   "outputs": [
    {
     "data": {
      "text/html": [
       "<div>\n",
       "<style scoped>\n",
       "    .dataframe tbody tr th:only-of-type {\n",
       "        vertical-align: middle;\n",
       "    }\n",
       "\n",
       "    .dataframe tbody tr th {\n",
       "        vertical-align: top;\n",
       "    }\n",
       "\n",
       "    .dataframe thead th {\n",
       "        text-align: right;\n",
       "    }\n",
       "</style>\n",
       "<table border=\"1\" class=\"dataframe\">\n",
       "  <thead>\n",
       "    <tr style=\"text-align: right;\">\n",
       "      <th></th>\n",
       "      <th>subreddit</th>\n",
       "      <th>selftext</th>\n",
       "      <th>title</th>\n",
       "      <th>author</th>\n",
       "      <th>created_utc</th>\n",
       "      <th>created_date</th>\n",
       "    </tr>\n",
       "  </thead>\n",
       "  <tbody>\n",
       "    <tr>\n",
       "      <th>95</th>\n",
       "      <td>running</td>\n",
       "      <td>Time to start running again.  Took a week and ...</td>\n",
       "      <td>Preparing for a May Cowtown</td>\n",
       "      <td>RunningManinTx</td>\n",
       "      <td>1609198649</td>\n",
       "      <td>2020-12-28 23:37:29</td>\n",
       "    </tr>\n",
       "    <tr>\n",
       "      <th>96</th>\n",
       "      <td>running</td>\n",
       "      <td>Hey hey, apologies if this has been answered, ...</td>\n",
       "      <td>How to stack my long runs with rest day/easy r...</td>\n",
       "      <td>shipoopi29</td>\n",
       "      <td>1609198275</td>\n",
       "      <td>2020-12-28 23:31:15</td>\n",
       "    </tr>\n",
       "    <tr>\n",
       "      <th>97</th>\n",
       "      <td>running</td>\n",
       "      <td>Weird power from inside\\n\\nOk I know this migh...</td>\n",
       "      <td>Weird power</td>\n",
       "      <td>Outrageous_Ad5805</td>\n",
       "      <td>1609196777</td>\n",
       "      <td>2020-12-28 23:06:17</td>\n",
       "    </tr>\n",
       "    <tr>\n",
       "      <th>98</th>\n",
       "      <td>running</td>\n",
       "      <td>I've been slowly returning to running after ph...</td>\n",
       "      <td>Strategies for avoiding injury/resurgence afte...</td>\n",
       "      <td>nightpussy</td>\n",
       "      <td>1609196108</td>\n",
       "      <td>2020-12-28 22:55:08</td>\n",
       "    </tr>\n",
       "    <tr>\n",
       "      <th>99</th>\n",
       "      <td>running</td>\n",
       "      <td>Hi, so I decided to try the Superfeet Running ...</td>\n",
       "      <td>For overpronators, Do you use insoles? Do they...</td>\n",
       "      <td>mlx01</td>\n",
       "      <td>1609194028</td>\n",
       "      <td>2020-12-28 22:20:28</td>\n",
       "    </tr>\n",
       "  </tbody>\n",
       "</table>\n",
       "</div>"
      ],
      "text/plain": [
       "   subreddit                                           selftext  \\\n",
       "95   running  Time to start running again.  Took a week and ...   \n",
       "96   running  Hey hey, apologies if this has been answered, ...   \n",
       "97   running  Weird power from inside\\n\\nOk I know this migh...   \n",
       "98   running  I've been slowly returning to running after ph...   \n",
       "99   running  Hi, so I decided to try the Superfeet Running ...   \n",
       "\n",
       "                                                title             author  \\\n",
       "95                        Preparing for a May Cowtown     RunningManinTx   \n",
       "96  How to stack my long runs with rest day/easy r...         shipoopi29   \n",
       "97                                        Weird power  Outrageous_Ad5805   \n",
       "98  Strategies for avoiding injury/resurgence afte...         nightpussy   \n",
       "99  For overpronators, Do you use insoles? Do they...              mlx01   \n",
       "\n",
       "    created_utc        created_date  \n",
       "95   1609198649 2020-12-28 23:37:29  \n",
       "96   1609198275 2020-12-28 23:31:15  \n",
       "97   1609196777 2020-12-28 23:06:17  \n",
       "98   1609196108 2020-12-28 22:55:08  \n",
       "99   1609194028 2020-12-28 22:20:28  "
      ]
     },
     "execution_count": 136,
     "metadata": {},
     "output_type": "execute_result"
    }
   ],
   "source": [
    "posts_df.tail()"
   ]
  },
  {
   "cell_type": "code",
   "execution_count": 137,
   "metadata": {},
   "outputs": [],
   "source": [
    "#[len(post) for post in posts_df['selftext']]\n",
    "\n",
    "#convert created utc to readable format\n",
    "# UTC_datetime_timestamp = float(UTC_datetime.strftime(\"%s\"))\n",
    "# local_datetime_converted = datetime.datetime.fromtimestamp(UTC_datetime_timestamp)\n"
   ]
  },
  {
   "cell_type": "code",
   "execution_count": null,
   "metadata": {},
   "outputs": [],
   "source": []
  },
  {
   "cell_type": "code",
   "execution_count": 138,
   "metadata": {},
   "outputs": [
    {
     "data": {
      "text/plain": [
       "1609194028"
      ]
     },
     "execution_count": 138,
     "metadata": {},
     "output_type": "execute_result"
    }
   ],
   "source": [
    "posts_df.iloc[len(posts_df)-1]['created_utc']"
   ]
  },
  {
   "cell_type": "code",
   "execution_count": 139,
   "metadata": {},
   "outputs": [
    {
     "name": "stdout",
     "output_type": "stream",
     "text": [
      "Query: reddit/search/submission Params: {'subreddit': 'running', 'size': 100, 'before': 1609194028} \n",
      " Response code: 200 \n",
      "Query: reddit/search/submission Params: {'subreddit': 'running', 'size': 100, 'before': 1609116160} \n",
      " Response code: 200 \n",
      "Query: reddit/search/submission Params: {'subreddit': 'running', 'size': 100, 'before': 1609049264} \n",
      " Response code: 200 \n",
      "Query: reddit/search/submission Params: {'subreddit': 'running', 'size': 100, 'before': 1608976735} \n",
      " Response code: 200 \n",
      "Query: reddit/search/submission Params: {'subreddit': 'running', 'size': 100, 'before': 1608837461} \n",
      " Response code: 200 \n",
      "Query: reddit/search/submission Params: {'subreddit': 'running', 'size': 100, 'before': 1608738802} \n",
      " Response code: 200 \n",
      "Query: reddit/search/submission Params: {'subreddit': 'running', 'size': 100, 'before': 1608655227} \n",
      " Response code: 200 \n",
      "Query: reddit/search/submission Params: {'subreddit': 'running', 'size': 100, 'before': 1608557951} \n",
      " Response code: 200 \n",
      "Query: reddit/search/submission Params: {'subreddit': 'running', 'size': 100, 'before': 1608468562} \n",
      " Response code: 200 \n",
      "Query: reddit/search/submission Params: {'subreddit': 'running', 'size': 100, 'before': 1608362404} \n",
      " Response code: 200 \n"
     ]
    }
   ],
   "source": [
    "# get more data\n",
    "num_loops = 10\n",
    "\n",
    "params = {\n",
    "    'subreddit' : subreddit,\n",
    "    'size' : 100,\n",
    "    'before': ''\n",
    "}\n",
    "\n",
    "for index in range(num_loops):\n",
    "    # Get timestamp of oldest current post in the dataframe\n",
    "    oldest_utc = posts_df.iloc[len(posts_df)-1]['created_utc']\n",
    "    \n",
    "    params['before'] = oldest_utc\n",
    "    \n",
    "    res = requests.get (base_url + submission_url, params)\n",
    "    print (f'Query: {submission_url} Params: {params} \\n Response code: {res.status_code} ')\n",
    "    \n",
    "    if res.status_code == 200:\n",
    "        # if valid response, concat to end of dataframe.\n",
    "        temp_data = res.json()['data']   # get array of reddit posts (each being a dict)\n",
    "        temp_data_df = pd.DataFrame (temp_data)  # convert reddit post dict to dataframe\n",
    "        \n",
    "        # only keep relevant columns\n",
    "        temp_posts_df = temp_data_df[['subreddit', 'selftext', 'title', 'author', 'created_utc']].copy()\n",
    "        temp_posts_df['created_date'] = pd.to_datetime(temp_data_df['created_utc'], unit='s')\n",
    "\n",
    "        # concat to existing dataframe of prior responses\n",
    "        posts_df = pd.concat([posts_df, temp_posts_df], ignore_index=True)\n",
    "        \n",
    "        # sleep one second so as to not overload reddit API\n",
    "        time.sleep(1)\n",
    "        \n",
    "\n"
   ]
  },
  {
   "cell_type": "code",
   "execution_count": 140,
   "metadata": {},
   "outputs": [
    {
     "data": {
      "text/html": [
       "<div>\n",
       "<style scoped>\n",
       "    .dataframe tbody tr th:only-of-type {\n",
       "        vertical-align: middle;\n",
       "    }\n",
       "\n",
       "    .dataframe tbody tr th {\n",
       "        vertical-align: top;\n",
       "    }\n",
       "\n",
       "    .dataframe thead th {\n",
       "        text-align: right;\n",
       "    }\n",
       "</style>\n",
       "<table border=\"1\" class=\"dataframe\">\n",
       "  <thead>\n",
       "    <tr style=\"text-align: right;\">\n",
       "      <th></th>\n",
       "      <th>subreddit</th>\n",
       "      <th>selftext</th>\n",
       "      <th>title</th>\n",
       "      <th>author</th>\n",
       "      <th>created_utc</th>\n",
       "      <th>created_date</th>\n",
       "    </tr>\n",
       "  </thead>\n",
       "  <tbody>\n",
       "    <tr>\n",
       "      <th>1095</th>\n",
       "      <td>running</td>\n",
       "      <td>[removed]</td>\n",
       "      <td>Running teammate rivalry</td>\n",
       "      <td>Fastboy56138</td>\n",
       "      <td>1608251056</td>\n",
       "      <td>2020-12-18 00:24:16</td>\n",
       "    </tr>\n",
       "    <tr>\n",
       "      <th>1096</th>\n",
       "      <td>running</td>\n",
       "      <td>[removed]</td>\n",
       "      <td>Real question: How do you run longer distances...</td>\n",
       "      <td>KeepPunkRockElite</td>\n",
       "      <td>1608250647</td>\n",
       "      <td>2020-12-18 00:17:27</td>\n",
       "    </tr>\n",
       "    <tr>\n",
       "      <th>1097</th>\n",
       "      <td>running</td>\n",
       "      <td>[removed]</td>\n",
       "      <td>Anyone Else Get Wildly Different Results Using...</td>\n",
       "      <td>Accomplished-Classic</td>\n",
       "      <td>1608250104</td>\n",
       "      <td>2020-12-18 00:08:24</td>\n",
       "    </tr>\n",
       "    <tr>\n",
       "      <th>1098</th>\n",
       "      <td>running</td>\n",
       "      <td>[removed]</td>\n",
       "      <td>Got back at running after 5 months 💪if u had a...</td>\n",
       "      <td>paul081</td>\n",
       "      <td>1608249362</td>\n",
       "      <td>2020-12-17 23:56:02</td>\n",
       "    </tr>\n",
       "    <tr>\n",
       "      <th>1099</th>\n",
       "      <td>running</td>\n",
       "      <td>[removed]</td>\n",
       "      <td>Another little magical running moment: share y...</td>\n",
       "      <td>SnooConfections3930</td>\n",
       "      <td>1608249077</td>\n",
       "      <td>2020-12-17 23:51:17</td>\n",
       "    </tr>\n",
       "  </tbody>\n",
       "</table>\n",
       "</div>"
      ],
      "text/plain": [
       "     subreddit   selftext                                              title  \\\n",
       "1095   running  [removed]                           Running teammate rivalry   \n",
       "1096   running  [removed]  Real question: How do you run longer distances...   \n",
       "1097   running  [removed]  Anyone Else Get Wildly Different Results Using...   \n",
       "1098   running  [removed]  Got back at running after 5 months 💪if u had a...   \n",
       "1099   running  [removed]  Another little magical running moment: share y...   \n",
       "\n",
       "                    author  created_utc        created_date  \n",
       "1095          Fastboy56138   1608251056 2020-12-18 00:24:16  \n",
       "1096     KeepPunkRockElite   1608250647 2020-12-18 00:17:27  \n",
       "1097  Accomplished-Classic   1608250104 2020-12-18 00:08:24  \n",
       "1098               paul081   1608249362 2020-12-17 23:56:02  \n",
       "1099   SnooConfections3930   1608249077 2020-12-17 23:51:17  "
      ]
     },
     "execution_count": 140,
     "metadata": {},
     "output_type": "execute_result"
    }
   ],
   "source": [
    "#posts_df.iloc[190:210, 0:20]\n",
    "posts_df.tail()"
   ]
  },
  {
   "cell_type": "code",
   "execution_count": null,
   "metadata": {},
   "outputs": [],
   "source": []
  },
  {
   "cell_type": "code",
   "execution_count": 141,
   "metadata": {},
   "outputs": [],
   "source": [
    "#posts_df.reset_index(inplace=True)"
   ]
  },
  {
   "cell_type": "code",
   "execution_count": 142,
   "metadata": {},
   "outputs": [],
   "source": [
    "posts_df.to_csv(f'./data/{ subreddit }.csv', index=False)"
   ]
  },
  {
   "cell_type": "code",
   "execution_count": null,
   "metadata": {},
   "outputs": [],
   "source": []
  },
  {
   "cell_type": "code",
   "execution_count": null,
   "metadata": {},
   "outputs": [],
   "source": []
  }
 ],
 "metadata": {
  "kernelspec": {
   "display_name": "Python 3",
   "language": "python",
   "name": "python3"
  },
  "language_info": {
   "codemirror_mode": {
    "name": "ipython",
    "version": 3
   },
   "file_extension": ".py",
   "mimetype": "text/x-python",
   "name": "python",
   "nbconvert_exporter": "python",
   "pygments_lexer": "ipython3",
   "version": "3.8.3"
  }
 },
 "nbformat": 4,
 "nbformat_minor": 4
}
